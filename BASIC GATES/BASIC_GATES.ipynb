{
 "cells": [
  {
   "cell_type": "code",
   "execution_count": 2,
   "metadata": {},
   "outputs": [],
   "source": [
    "from qiskit import QuantumCircuit,QuantumRegister,ClassicalRegister,transpile\n",
    "from qiskit_aer import Aer,aer_simulator,qasm_simulator,AerSimulator,statevector_simulator\n",
    "from qiskit.visualization import *\n",
    "from matplotlib import pyplot\n",
    "from qiskit.circuit.library import GroverOperator,grover_operator,boolean_logic\n",
    "\n",
    "import time as t\n"
   ]
  },
  {
   "cell_type": "code",
   "execution_count": 3,
   "metadata": {},
   "outputs": [
    {
     "name": "stdout",
     "output_type": "stream",
     "text": [
      "not with input 0 gives output 1\n",
      "Execution Time: 0.007881 seconds\n"
     ]
    },
    {
     "data": {
      "text/html": [
       "<pre style=\"word-wrap: normal;white-space: pre;background: #fff0;line-height: 1.1;font-family: &quot;Courier New&quot;,Courier,monospace\">      ░ ┌───┐ ░ ┌─┐\n",
       "  q: ─░─┤ X ├─░─┤M├\n",
       "      ░ └───┘ ░ └╥┘\n",
       "c: 1/════════════╩═\n",
       "                 0 </pre>"
      ],
      "text/plain": [
       "      ░ ┌───┐ ░ ┌─┐\n",
       "  q: ─░─┤ X ├─░─┤M├\n",
       "      ░ └───┘ ░ └╥┘\n",
       "c: 1/════════════╩═\n",
       "                 0 "
      ]
     },
     "metadata": {},
     "output_type": "display_data"
    },
    {
     "name": "stdout",
     "output_type": "stream",
     "text": [
      "\n",
      "\n",
      "not with input 1 gives output 0\n",
      "Execution Time: 0.003154 seconds\n"
     ]
    },
    {
     "data": {
      "text/html": [
       "<pre style=\"word-wrap: normal;white-space: pre;background: #fff0;line-height: 1.1;font-family: &quot;Courier New&quot;,Courier,monospace\">     ┌───┐ ░ ┌───┐ ░ ┌─┐\n",
       "  q: ┤ X ├─░─┤ X ├─░─┤M├\n",
       "     └───┘ ░ └───┘ ░ └╥┘\n",
       "c: 1/═════════════════╩═\n",
       "                      0 </pre>"
      ],
      "text/plain": [
       "     ┌───┐ ░ ┌───┐ ░ ┌─┐\n",
       "  q: ┤ X ├─░─┤ X ├─░─┤M├\n",
       "     └───┘ ░ └───┘ ░ └╥┘\n",
       "c: 1/═════════════════╩═\n",
       "                      0 "
      ]
     },
     "metadata": {},
     "output_type": "display_data"
    },
    {
     "name": "stdout",
     "output_type": "stream",
     "text": [
      "\n",
      "\n"
     ]
    }
   ],
   "source": [
    "#NOT GATE\n",
    "def NOT(inp):\n",
    "    qc=QuantumCircuit(1,1)\n",
    "    qc.reset(range(0))\n",
    "    if inp=='1':\n",
    "        qc.x(0)\n",
    "    qc.barrier()\n",
    "    qc.x(0)\n",
    "    qc.barrier()\n",
    "    qc.measure(0,0)\n",
    "    start_time = t.time()\n",
    "    backend = Aer.get_backend('aer_simulator')\n",
    "    job = backend.run(qc, shots=1, memory=True)\n",
    "    output=job.result().get_memory()[0]\n",
    "    end_time = t.time()\n",
    "\n",
    "    execution_time = end_time - start_time\n",
    "    return qc, output, execution_time\n",
    "for inp in ['0','1']:\n",
    "    qc,output,execution_time=NOT(inp)\n",
    "    print(\"not with input\",inp,\"gives output\",output)\n",
    "    print(f\"Execution Time: {execution_time:.6f} seconds\")\n",
    "    display(qc.draw())\n",
    "    print('\\n')\n"
   ]
  },
  {
   "cell_type": "code",
   "execution_count": 4,
   "metadata": {},
   "outputs": [
    {
     "name": "stdout",
     "output_type": "stream",
     "text": [
      "or with input 0 0 gives output 0\n",
      "Execution Time: 0.003492 seconds\n"
     ]
    },
    {
     "data": {
      "text/html": [
       "<pre style=\"word-wrap: normal;white-space: pre;background: #fff0;line-height: 1.1;font-family: &quot;Courier New&quot;,Courier,monospace\">           ░                 ░    \n",
       "q_0: ─|0>──░────────■────■───░────\n",
       "           ░      ┌─┴─┐  │   ░    \n",
       "q_1: ─|0>──░───■──┤ X ├──■───░────\n",
       "           ░ ┌─┴─┐└───┘┌─┴─┐ ░ ┌─┐\n",
       "q_2: ──────░─┤ X ├─────┤ X ├─░─┤M├\n",
       "           ░ └───┘     └───┘ ░ └╥┘\n",
       "c: 1/═══════════════════════════╩═\n",
       "                                0 </pre>"
      ],
      "text/plain": [
       "           ░                 ░    \n",
       "q_0: ─|0>──░────────■────■───░────\n",
       "           ░      ┌─┴─┐  │   ░    \n",
       "q_1: ─|0>──░───■──┤ X ├──■───░────\n",
       "           ░ ┌─┴─┐└───┘┌─┴─┐ ░ ┌─┐\n",
       "q_2: ──────░─┤ X ├─────┤ X ├─░─┤M├\n",
       "           ░ └───┘     └───┘ ░ └╥┘\n",
       "c: 1/═══════════════════════════╩═\n",
       "                                0 "
      ]
     },
     "metadata": {},
     "output_type": "display_data"
    },
    {
     "name": "stdout",
     "output_type": "stream",
     "text": [
      "\n",
      "\n",
      "or with input 0 1 gives output 1\n",
      "Execution Time: 0.000000 seconds\n"
     ]
    },
    {
     "data": {
      "text/html": [
       "<pre style=\"word-wrap: normal;white-space: pre;background: #fff0;line-height: 1.1;font-family: &quot;Courier New&quot;,Courier,monospace\">                ░                 ░    \n",
       "q_0: ─|0>───────░────────■────■───░────\n",
       "          ┌───┐ ░      ┌─┴─┐  │   ░    \n",
       "q_1: ─|0>─┤ X ├─░───■──┤ X ├──■───░────\n",
       "          └───┘ ░ ┌─┴─┐└───┘┌─┴─┐ ░ ┌─┐\n",
       "q_2: ───────────░─┤ X ├─────┤ X ├─░─┤M├\n",
       "                ░ └───┘     └───┘ ░ └╥┘\n",
       "c: 1/════════════════════════════════╩═\n",
       "                                     0 </pre>"
      ],
      "text/plain": [
       "                ░                 ░    \n",
       "q_0: ─|0>───────░────────■────■───░────\n",
       "          ┌───┐ ░      ┌─┴─┐  │   ░    \n",
       "q_1: ─|0>─┤ X ├─░───■──┤ X ├──■───░────\n",
       "          └───┘ ░ ┌─┴─┐└───┘┌─┴─┐ ░ ┌─┐\n",
       "q_2: ───────────░─┤ X ├─────┤ X ├─░─┤M├\n",
       "                ░ └───┘     └───┘ ░ └╥┘\n",
       "c: 1/════════════════════════════════╩═\n",
       "                                     0 "
      ]
     },
     "metadata": {},
     "output_type": "display_data"
    },
    {
     "name": "stdout",
     "output_type": "stream",
     "text": [
      "\n",
      "\n",
      "or with input 1 0 gives output 1\n",
      "Execution Time: 0.001289 seconds\n"
     ]
    },
    {
     "data": {
      "text/html": [
       "<pre style=\"word-wrap: normal;white-space: pre;background: #fff0;line-height: 1.1;font-family: &quot;Courier New&quot;,Courier,monospace\">          ┌───┐ ░                 ░    \n",
       "q_0: ─|0>─┤ X ├─░────────■────■───░────\n",
       "          └───┘ ░      ┌─┴─┐  │   ░    \n",
       "q_1: ─|0>───────░───■──┤ X ├──■───░────\n",
       "                ░ ┌─┴─┐└───┘┌─┴─┐ ░ ┌─┐\n",
       "q_2: ───────────░─┤ X ├─────┤ X ├─░─┤M├\n",
       "                ░ └───┘     └───┘ ░ └╥┘\n",
       "c: 1/════════════════════════════════╩═\n",
       "                                     0 </pre>"
      ],
      "text/plain": [
       "          ┌───┐ ░                 ░    \n",
       "q_0: ─|0>─┤ X ├─░────────■────■───░────\n",
       "          └───┘ ░      ┌─┴─┐  │   ░    \n",
       "q_1: ─|0>───────░───■──┤ X ├──■───░────\n",
       "                ░ ┌─┴─┐└───┘┌─┴─┐ ░ ┌─┐\n",
       "q_2: ───────────░─┤ X ├─────┤ X ├─░─┤M├\n",
       "                ░ └───┘     └───┘ ░ └╥┘\n",
       "c: 1/════════════════════════════════╩═\n",
       "                                     0 "
      ]
     },
     "metadata": {},
     "output_type": "display_data"
    },
    {
     "name": "stdout",
     "output_type": "stream",
     "text": [
      "\n",
      "\n",
      "or with input 1 1 gives output 1\n",
      "Execution Time: 0.000849 seconds\n"
     ]
    },
    {
     "data": {
      "text/html": [
       "<pre style=\"word-wrap: normal;white-space: pre;background: #fff0;line-height: 1.1;font-family: &quot;Courier New&quot;,Courier,monospace\">          ┌───┐ ░                 ░    \n",
       "q_0: ─|0>─┤ X ├─░────────■────■───░────\n",
       "          ├───┤ ░      ┌─┴─┐  │   ░    \n",
       "q_1: ─|0>─┤ X ├─░───■──┤ X ├──■───░────\n",
       "          └───┘ ░ ┌─┴─┐└───┘┌─┴─┐ ░ ┌─┐\n",
       "q_2: ───────────░─┤ X ├─────┤ X ├─░─┤M├\n",
       "                ░ └───┘     └───┘ ░ └╥┘\n",
       "c: 1/════════════════════════════════╩═\n",
       "                                     0 </pre>"
      ],
      "text/plain": [
       "          ┌───┐ ░                 ░    \n",
       "q_0: ─|0>─┤ X ├─░────────■────■───░────\n",
       "          ├───┤ ░      ┌─┴─┐  │   ░    \n",
       "q_1: ─|0>─┤ X ├─░───■──┤ X ├──■───░────\n",
       "          └───┘ ░ ┌─┴─┐└───┘┌─┴─┐ ░ ┌─┐\n",
       "q_2: ───────────░─┤ X ├─────┤ X ├─░─┤M├\n",
       "                ░ └───┘     └───┘ ░ └╥┘\n",
       "c: 1/════════════════════════════════╩═\n",
       "                                     0 "
      ]
     },
     "metadata": {},
     "output_type": "display_data"
    },
    {
     "name": "stdout",
     "output_type": "stream",
     "text": [
      "\n",
      "\n"
     ]
    }
   ],
   "source": [
    "#OR GATE\n",
    "def OR(inp1,inp2):\n",
    "    qc=QuantumCircuit(3,1)\n",
    "    qc.reset(range(2))\n",
    "    if inp1=='1':\n",
    "        qc.x(0)\n",
    "    if inp2=='1':\n",
    "        qc.x(1)\n",
    "    qc.barrier()\n",
    "    qc.cx(1,2)\n",
    "    qc.cx(0,1)\n",
    "    qc.ccx(0,1,2)\n",
    "    qc.barrier()\n",
    "    qc.measure(2,0)\n",
    "    start=t.time()\n",
    "    backend = Aer.get_backend('aer_simulator')\n",
    "    job = backend.run(qc, shots=1, memory=True)\n",
    "    output=job.result().get_memory()[0]\n",
    "    end=t.time()\n",
    "    exe=end-start\n",
    "    return qc,output,exe\n",
    "for inp1 in ['0','1']:\n",
    "    for inp2 in ['0','1']:\n",
    "        qc,output,exe=OR(inp1,inp2)\n",
    "        print(\"or with input\",inp1,inp2,\"gives output\",output)\n",
    "        print(f\"Execution Time: {exe:.6f} seconds\")\n",
    "        display(qc.draw())\n",
    "        print('\\n')\n"
   ]
  },
  {
   "cell_type": "code",
   "execution_count": 5,
   "metadata": {},
   "outputs": [
    {
     "name": "stdout",
     "output_type": "stream",
     "text": [
      "and with input 0 0 gives output 0\n",
      "Execution Time: 0.001330 seconds\n"
     ]
    },
    {
     "data": {
      "text/html": [
       "<pre style=\"word-wrap: normal;white-space: pre;background: #fff0;line-height: 1.1;font-family: &quot;Courier New&quot;,Courier,monospace\">           ░       ░    \n",
       "q_0: ─|0>──░───■───░────\n",
       "           ░   │   ░    \n",
       "q_1: ─|0>──░───■───░────\n",
       "           ░ ┌─┴─┐ ░ ┌─┐\n",
       "q_2: ──────░─┤ X ├─░─┤M├\n",
       "           ░ └───┘ ░ └╥┘\n",
       "c: 1/═════════════════╩═\n",
       "                      0 </pre>"
      ],
      "text/plain": [
       "           ░       ░    \n",
       "q_0: ─|0>──░───■───░────\n",
       "           ░   │   ░    \n",
       "q_1: ─|0>──░───■───░────\n",
       "           ░ ┌─┴─┐ ░ ┌─┐\n",
       "q_2: ──────░─┤ X ├─░─┤M├\n",
       "           ░ └───┘ ░ └╥┘\n",
       "c: 1/═════════════════╩═\n",
       "                      0 "
      ]
     },
     "metadata": {},
     "output_type": "display_data"
    },
    {
     "name": "stdout",
     "output_type": "stream",
     "text": [
      "\n",
      "\n",
      "and with input 0 1 gives output 0\n",
      "Execution Time: 0.001017 seconds\n"
     ]
    },
    {
     "data": {
      "text/html": [
       "<pre style=\"word-wrap: normal;white-space: pre;background: #fff0;line-height: 1.1;font-family: &quot;Courier New&quot;,Courier,monospace\">                ░       ░    \n",
       "q_0: ─|0>───────░───■───░────\n",
       "          ┌───┐ ░   │   ░    \n",
       "q_1: ─|0>─┤ X ├─░───■───░────\n",
       "          └───┘ ░ ┌─┴─┐ ░ ┌─┐\n",
       "q_2: ───────────░─┤ X ├─░─┤M├\n",
       "                ░ └───┘ ░ └╥┘\n",
       "c: 1/══════════════════════╩═\n",
       "                           0 </pre>"
      ],
      "text/plain": [
       "                ░       ░    \n",
       "q_0: ─|0>───────░───■───░────\n",
       "          ┌───┐ ░   │   ░    \n",
       "q_1: ─|0>─┤ X ├─░───■───░────\n",
       "          └───┘ ░ ┌─┴─┐ ░ ┌─┐\n",
       "q_2: ───────────░─┤ X ├─░─┤M├\n",
       "                ░ └───┘ ░ └╥┘\n",
       "c: 1/══════════════════════╩═\n",
       "                           0 "
      ]
     },
     "metadata": {},
     "output_type": "display_data"
    },
    {
     "name": "stdout",
     "output_type": "stream",
     "text": [
      "\n",
      "\n",
      "and with input 1 0 gives output 0\n",
      "Execution Time: 0.001268 seconds\n"
     ]
    },
    {
     "data": {
      "text/html": [
       "<pre style=\"word-wrap: normal;white-space: pre;background: #fff0;line-height: 1.1;font-family: &quot;Courier New&quot;,Courier,monospace\">          ┌───┐ ░       ░    \n",
       "q_0: ─|0>─┤ X ├─░───■───░────\n",
       "          └───┘ ░   │   ░    \n",
       "q_1: ─|0>───────░───■───░────\n",
       "                ░ ┌─┴─┐ ░ ┌─┐\n",
       "q_2: ───────────░─┤ X ├─░─┤M├\n",
       "                ░ └───┘ ░ └╥┘\n",
       "c: 1/══════════════════════╩═\n",
       "                           0 </pre>"
      ],
      "text/plain": [
       "          ┌───┐ ░       ░    \n",
       "q_0: ─|0>─┤ X ├─░───■───░────\n",
       "          └───┘ ░   │   ░    \n",
       "q_1: ─|0>───────░───■───░────\n",
       "                ░ ┌─┴─┐ ░ ┌─┐\n",
       "q_2: ───────────░─┤ X ├─░─┤M├\n",
       "                ░ └───┘ ░ └╥┘\n",
       "c: 1/══════════════════════╩═\n",
       "                           0 "
      ]
     },
     "metadata": {},
     "output_type": "display_data"
    },
    {
     "name": "stdout",
     "output_type": "stream",
     "text": [
      "\n",
      "\n",
      "and with input 1 1 gives output 1\n",
      "Execution Time: 0.001049 seconds\n"
     ]
    },
    {
     "data": {
      "text/html": [
       "<pre style=\"word-wrap: normal;white-space: pre;background: #fff0;line-height: 1.1;font-family: &quot;Courier New&quot;,Courier,monospace\">          ┌───┐ ░       ░    \n",
       "q_0: ─|0>─┤ X ├─░───■───░────\n",
       "          ├───┤ ░   │   ░    \n",
       "q_1: ─|0>─┤ X ├─░───■───░────\n",
       "          └───┘ ░ ┌─┴─┐ ░ ┌─┐\n",
       "q_2: ───────────░─┤ X ├─░─┤M├\n",
       "                ░ └───┘ ░ └╥┘\n",
       "c: 1/══════════════════════╩═\n",
       "                           0 </pre>"
      ],
      "text/plain": [
       "          ┌───┐ ░       ░    \n",
       "q_0: ─|0>─┤ X ├─░───■───░────\n",
       "          ├───┤ ░   │   ░    \n",
       "q_1: ─|0>─┤ X ├─░───■───░────\n",
       "          └───┘ ░ ┌─┴─┐ ░ ┌─┐\n",
       "q_2: ───────────░─┤ X ├─░─┤M├\n",
       "                ░ └───┘ ░ └╥┘\n",
       "c: 1/══════════════════════╩═\n",
       "                           0 "
      ]
     },
     "metadata": {},
     "output_type": "display_data"
    },
    {
     "name": "stdout",
     "output_type": "stream",
     "text": [
      "\n",
      "\n"
     ]
    }
   ],
   "source": [
    "#AND GATE\n",
    "def AND(inp1,inp2):\n",
    "    qc=QuantumCircuit(3,1)\n",
    "    qc.reset(range(2))\n",
    "    if inp1=='1':\n",
    "        qc.x(0)\n",
    "    if inp2=='1':\n",
    "        qc.x(1)\n",
    "    qc.barrier()\n",
    "    qc.ccx(0,1,2)\n",
    "    qc.barrier()\n",
    "    qc.measure(2,0)\n",
    "    start=t.time()\n",
    "    backend = Aer.get_backend('aer_simulator')\n",
    "    job = backend.run(qc, shots=1, memory=True)\n",
    "    output=job.result().get_memory()[0]\n",
    "    end=t.time()\n",
    "    exe=end-start\n",
    "    return qc,output,exe\n",
    "for inp1 in ['0','1']:\n",
    "    for inp2 in ['0','1']:\n",
    "        qc,output,exe=AND(inp1,inp2)\n",
    "        print(\"and with input\",inp1,inp2,\"gives output\",output)\n",
    "        print(f\"Execution Time: {exe:.6f} seconds\")\n",
    "        display(qc.draw())\n",
    "        print('\\n')\n"
   ]
  },
  {
   "cell_type": "code",
   "execution_count": 6,
   "metadata": {},
   "outputs": [
    {
     "name": "stdout",
     "output_type": "stream",
     "text": [
      "xor with input 0 0 gives output 0\n",
      "Execution Time: 0.001127 seconds\n"
     ]
    },
    {
     "data": {
      "text/html": [
       "<pre style=\"word-wrap: normal;white-space: pre;background: #fff0;line-height: 1.1;font-family: &quot;Courier New&quot;,Courier,monospace\">           ░            ░    \n",
       "q_0: ─|0>──░───■────────░────\n",
       "           ░   │        ░    \n",
       "q_1: ─|0>──░───┼────■───░────\n",
       "           ░ ┌─┴─┐┌─┴─┐ ░ ┌─┐\n",
       "q_2: ──────░─┤ X ├┤ X ├─░─┤M├\n",
       "           ░ └───┘└───┘ ░ └╥┘\n",
       "c: 1/══════════════════════╩═\n",
       "                           0 </pre>"
      ],
      "text/plain": [
       "           ░            ░    \n",
       "q_0: ─|0>──░───■────────░────\n",
       "           ░   │        ░    \n",
       "q_1: ─|0>──░───┼────■───░────\n",
       "           ░ ┌─┴─┐┌─┴─┐ ░ ┌─┐\n",
       "q_2: ──────░─┤ X ├┤ X ├─░─┤M├\n",
       "           ░ └───┘└───┘ ░ └╥┘\n",
       "c: 1/══════════════════════╩═\n",
       "                           0 "
      ]
     },
     "metadata": {},
     "output_type": "display_data"
    },
    {
     "name": "stdout",
     "output_type": "stream",
     "text": [
      "\n",
      "\n",
      "xor with input 0 1 gives output 1\n",
      "Execution Time: 0.001757 seconds\n"
     ]
    },
    {
     "data": {
      "text/html": [
       "<pre style=\"word-wrap: normal;white-space: pre;background: #fff0;line-height: 1.1;font-family: &quot;Courier New&quot;,Courier,monospace\">          ┌───┐ ░            ░    \n",
       "q_0: ─|0>─┤ X ├─░───■────────░────\n",
       "          └───┘ ░   │        ░    \n",
       "q_1: ─|0>───────░───┼────■───░────\n",
       "                ░ ┌─┴─┐┌─┴─┐ ░ ┌─┐\n",
       "q_2: ───────────░─┤ X ├┤ X ├─░─┤M├\n",
       "                ░ └───┘└───┘ ░ └╥┘\n",
       "c: 1/═══════════════════════════╩═\n",
       "                                0 </pre>"
      ],
      "text/plain": [
       "          ┌───┐ ░            ░    \n",
       "q_0: ─|0>─┤ X ├─░───■────────░────\n",
       "          └───┘ ░   │        ░    \n",
       "q_1: ─|0>───────░───┼────■───░────\n",
       "                ░ ┌─┴─┐┌─┴─┐ ░ ┌─┐\n",
       "q_2: ───────────░─┤ X ├┤ X ├─░─┤M├\n",
       "                ░ └───┘└───┘ ░ └╥┘\n",
       "c: 1/═══════════════════════════╩═\n",
       "                                0 "
      ]
     },
     "metadata": {},
     "output_type": "display_data"
    },
    {
     "name": "stdout",
     "output_type": "stream",
     "text": [
      "\n",
      "\n",
      "xor with input 1 0 gives output 1\n",
      "Execution Time: 0.000000 seconds\n"
     ]
    },
    {
     "data": {
      "text/html": [
       "<pre style=\"word-wrap: normal;white-space: pre;background: #fff0;line-height: 1.1;font-family: &quot;Courier New&quot;,Courier,monospace\">          ┌───┐ ░            ░    \n",
       "q_0: ─|0>─┤ X ├─░───■────────░────\n",
       "          └───┘ ░   │        ░    \n",
       "q_1: ─|0>───────░───┼────■───░────\n",
       "                ░ ┌─┴─┐┌─┴─┐ ░ ┌─┐\n",
       "q_2: ───────────░─┤ X ├┤ X ├─░─┤M├\n",
       "                ░ └───┘└───┘ ░ └╥┘\n",
       "c: 1/═══════════════════════════╩═\n",
       "                                0 </pre>"
      ],
      "text/plain": [
       "          ┌───┐ ░            ░    \n",
       "q_0: ─|0>─┤ X ├─░───■────────░────\n",
       "          └───┘ ░   │        ░    \n",
       "q_1: ─|0>───────░───┼────■───░────\n",
       "                ░ ┌─┴─┐┌─┴─┐ ░ ┌─┐\n",
       "q_2: ───────────░─┤ X ├┤ X ├─░─┤M├\n",
       "                ░ └───┘└───┘ ░ └╥┘\n",
       "c: 1/═══════════════════════════╩═\n",
       "                                0 "
      ]
     },
     "metadata": {},
     "output_type": "display_data"
    },
    {
     "name": "stdout",
     "output_type": "stream",
     "text": [
      "\n",
      "\n",
      "xor with input 1 1 gives output 0\n",
      "Execution Time: 0.000000 seconds\n"
     ]
    },
    {
     "data": {
      "text/html": [
       "<pre style=\"word-wrap: normal;white-space: pre;background: #fff0;line-height: 1.1;font-family: &quot;Courier New&quot;,Courier,monospace\">          ┌───┐┌───┐ ░            ░    \n",
       "q_0: ─|0>─┤ X ├┤ X ├─░───■────────░────\n",
       "          └───┘└───┘ ░   │        ░    \n",
       "q_1: ─|0>────────────░───┼────■───░────\n",
       "                     ░ ┌─┴─┐┌─┴─┐ ░ ┌─┐\n",
       "q_2: ────────────────░─┤ X ├┤ X ├─░─┤M├\n",
       "                     ░ └───┘└───┘ ░ └╥┘\n",
       "c: 1/════════════════════════════════╩═\n",
       "                                     0 </pre>"
      ],
      "text/plain": [
       "          ┌───┐┌───┐ ░            ░    \n",
       "q_0: ─|0>─┤ X ├┤ X ├─░───■────────░────\n",
       "          └───┘└───┘ ░   │        ░    \n",
       "q_1: ─|0>────────────░───┼────■───░────\n",
       "                     ░ ┌─┴─┐┌─┴─┐ ░ ┌─┐\n",
       "q_2: ────────────────░─┤ X ├┤ X ├─░─┤M├\n",
       "                     ░ └───┘└───┘ ░ └╥┘\n",
       "c: 1/════════════════════════════════╩═\n",
       "                                     0 "
      ]
     },
     "metadata": {},
     "output_type": "display_data"
    },
    {
     "name": "stdout",
     "output_type": "stream",
     "text": [
      "\n",
      "\n"
     ]
    }
   ],
   "source": [
    "#XOR GATE\n",
    "def XOR(inp1,inp2):\n",
    "    qc=QuantumCircuit(3,1)\n",
    "    qc.reset(range(2))\n",
    "    if inp1=='1':\n",
    "        qc.x(0)\n",
    "    if inp2=='1':\n",
    "        qc.x(0)\n",
    "    qc.barrier()\n",
    "    qc.cx(0,2)\n",
    "    qc.cx(1,2)\n",
    "    \n",
    "    qc.barrier()\n",
    "    qc.measure(2,0)\n",
    "    start=t.time()\n",
    "    backend = Aer.get_backend('aer_simulator')\n",
    "    job = backend.run(qc, shots=1, memory=True)\n",
    "    output=job.result().get_memory()[0]\n",
    "    end=t.time()\n",
    "    exe=end-start\n",
    "    return qc,output,exe\n",
    "for inp1 in ['0','1']:\n",
    "    for inp2 in ['0','1']:\n",
    "        qc,output,exe=XOR(inp1,inp2)\n",
    "        print(\"xor with input\",inp1,inp2,\"gives output\",output)\n",
    "        print(f\"Execution Time: {exe:.6f} seconds\")\n",
    "        display(qc.draw())\n",
    "        print('\\n')\n"
   ]
  },
  {
   "cell_type": "code",
   "execution_count": 7,
   "metadata": {},
   "outputs": [
    {
     "name": "stdout",
     "output_type": "stream",
     "text": [
      "nand with input 0 0 gives output 1\n"
     ]
    },
    {
     "data": {
      "text/html": [
       "<pre style=\"word-wrap: normal;white-space: pre;background: #fff0;line-height: 1.1;font-family: &quot;Courier New&quot;,Courier,monospace\">           ░            ░    \n",
       "q_0: ─|0>──░───■────────░────\n",
       "           ░   │        ░    \n",
       "q_1: ─|0>──░───■────────░────\n",
       "           ░ ┌─┴─┐┌───┐ ░ ┌─┐\n",
       "q_2: ─|0>──░─┤ X ├┤ X ├─░─┤M├\n",
       "           ░ └───┘└───┘ ░ └╥┘\n",
       "c: 1/══════════════════════╩═\n",
       "                           0 </pre>"
      ],
      "text/plain": [
       "           ░            ░    \n",
       "q_0: ─|0>──░───■────────░────\n",
       "           ░   │        ░    \n",
       "q_1: ─|0>──░───■────────░────\n",
       "           ░ ┌─┴─┐┌───┐ ░ ┌─┐\n",
       "q_2: ─|0>──░─┤ X ├┤ X ├─░─┤M├\n",
       "           ░ └───┘└───┘ ░ └╥┘\n",
       "c: 1/══════════════════════╩═\n",
       "                           0 "
      ]
     },
     "metadata": {},
     "output_type": "display_data"
    },
    {
     "name": "stdout",
     "output_type": "stream",
     "text": [
      "\n",
      "\n",
      "nand with input 0 1 gives output 1\n"
     ]
    },
    {
     "data": {
      "text/html": [
       "<pre style=\"word-wrap: normal;white-space: pre;background: #fff0;line-height: 1.1;font-family: &quot;Courier New&quot;,Courier,monospace\">                ░            ░    \n",
       "q_0: ─|0>───────░───■────────░────\n",
       "          ┌───┐ ░   │        ░    \n",
       "q_1: ─|0>─┤ X ├─░───■────────░────\n",
       "          └───┘ ░ ┌─┴─┐┌───┐ ░ ┌─┐\n",
       "q_2: ─|0>───────░─┤ X ├┤ X ├─░─┤M├\n",
       "                ░ └───┘└───┘ ░ └╥┘\n",
       "c: 1/═══════════════════════════╩═\n",
       "                                0 </pre>"
      ],
      "text/plain": [
       "                ░            ░    \n",
       "q_0: ─|0>───────░───■────────░────\n",
       "          ┌───┐ ░   │        ░    \n",
       "q_1: ─|0>─┤ X ├─░───■────────░────\n",
       "          └───┘ ░ ┌─┴─┐┌───┐ ░ ┌─┐\n",
       "q_2: ─|0>───────░─┤ X ├┤ X ├─░─┤M├\n",
       "                ░ └───┘└───┘ ░ └╥┘\n",
       "c: 1/═══════════════════════════╩═\n",
       "                                0 "
      ]
     },
     "metadata": {},
     "output_type": "display_data"
    },
    {
     "name": "stdout",
     "output_type": "stream",
     "text": [
      "\n",
      "\n",
      "nand with input 1 0 gives output 1\n"
     ]
    },
    {
     "data": {
      "text/html": [
       "<pre style=\"word-wrap: normal;white-space: pre;background: #fff0;line-height: 1.1;font-family: &quot;Courier New&quot;,Courier,monospace\">          ┌───┐ ░            ░    \n",
       "q_0: ─|0>─┤ X ├─░───■────────░────\n",
       "          └───┘ ░   │        ░    \n",
       "q_1: ─|0>───────░───■────────░────\n",
       "                ░ ┌─┴─┐┌───┐ ░ ┌─┐\n",
       "q_2: ─|0>───────░─┤ X ├┤ X ├─░─┤M├\n",
       "                ░ └───┘└───┘ ░ └╥┘\n",
       "c: 1/═══════════════════════════╩═\n",
       "                                0 </pre>"
      ],
      "text/plain": [
       "          ┌───┐ ░            ░    \n",
       "q_0: ─|0>─┤ X ├─░───■────────░────\n",
       "          └───┘ ░   │        ░    \n",
       "q_1: ─|0>───────░───■────────░────\n",
       "                ░ ┌─┴─┐┌───┐ ░ ┌─┐\n",
       "q_2: ─|0>───────░─┤ X ├┤ X ├─░─┤M├\n",
       "                ░ └───┘└───┘ ░ └╥┘\n",
       "c: 1/═══════════════════════════╩═\n",
       "                                0 "
      ]
     },
     "metadata": {},
     "output_type": "display_data"
    },
    {
     "name": "stdout",
     "output_type": "stream",
     "text": [
      "\n",
      "\n",
      "nand with input 1 1 gives output 0\n"
     ]
    },
    {
     "data": {
      "text/html": [
       "<pre style=\"word-wrap: normal;white-space: pre;background: #fff0;line-height: 1.1;font-family: &quot;Courier New&quot;,Courier,monospace\">          ┌───┐ ░            ░    \n",
       "q_0: ─|0>─┤ X ├─░───■────────░────\n",
       "          ├───┤ ░   │        ░    \n",
       "q_1: ─|0>─┤ X ├─░───■────────░────\n",
       "          └───┘ ░ ┌─┴─┐┌───┐ ░ ┌─┐\n",
       "q_2: ─|0>───────░─┤ X ├┤ X ├─░─┤M├\n",
       "                ░ └───┘└───┘ ░ └╥┘\n",
       "c: 1/═══════════════════════════╩═\n",
       "                                0 </pre>"
      ],
      "text/plain": [
       "          ┌───┐ ░            ░    \n",
       "q_0: ─|0>─┤ X ├─░───■────────░────\n",
       "          ├───┤ ░   │        ░    \n",
       "q_1: ─|0>─┤ X ├─░───■────────░────\n",
       "          └───┘ ░ ┌─┴─┐┌───┐ ░ ┌─┐\n",
       "q_2: ─|0>───────░─┤ X ├┤ X ├─░─┤M├\n",
       "                ░ └───┘└───┘ ░ └╥┘\n",
       "c: 1/═══════════════════════════╩═\n",
       "                                0 "
      ]
     },
     "metadata": {},
     "output_type": "display_data"
    },
    {
     "name": "stdout",
     "output_type": "stream",
     "text": [
      "\n",
      "\n"
     ]
    }
   ],
   "source": [
    "#NAND GATE\n",
    "def NAND(inp1,inp2):\n",
    "    qc=QuantumCircuit(3,1)\n",
    "    qc.reset(range(3))\n",
    "    if inp1=='1':\n",
    "        qc.x(0)\n",
    "    if inp2=='1':\n",
    "        qc.x(1)\n",
    "    qc.barrier()\n",
    "    qc.ccx(0,1,2)\n",
    "    qc.x([2])\n",
    "    qc.barrier()\n",
    "    qc.measure(2,0)\n",
    "    backend = Aer.get_backend('aer_simulator')\n",
    "    job = backend.run(qc, shots=1, memory=True)\n",
    "    output=job.result().get_memory()[0]\n",
    "    return qc,output\n",
    "for inp1 in ['0','1']:\n",
    "    for inp2 in ['0','1']:\n",
    "        qc,output=NAND(inp1,inp2)\n",
    "        print(\"nand with input\",inp1,inp2,\"gives output\",output)\n",
    "        display(qc.draw())\n",
    "        print('\\n')\n"
   ]
  },
  {
   "cell_type": "code",
   "execution_count": 8,
   "metadata": {},
   "outputs": [
    {
     "name": "stdout",
     "output_type": "stream",
     "text": [
      "halfadder with input 0 0 gives output 00\n"
     ]
    },
    {
     "data": {
      "text/html": [
       "<pre style=\"word-wrap: normal;white-space: pre;background: #fff0;line-height: 1.1;font-family: &quot;Courier New&quot;,Courier,monospace\">           ░            ░       ░       \n",
       "q_0: ─|0>──░───■────────░───■───░───────\n",
       "           ░   │        ░   │   ░       \n",
       "q_1: ─|0>──░───┼────■───░───■───░───────\n",
       "           ░ ┌─┴─┐┌─┴─┐ ░   │   ░ ┌─┐   \n",
       "q_2: ─|0>──░─┤ X ├┤ X ├─░───┼───░─┤M├───\n",
       "           ░ └───┘└───┘ ░ ┌─┴─┐ ░ └╥┘┌─┐\n",
       "q_3: ─|0>──░────────────░─┤ X ├─░──╫─┤M├\n",
       "           ░            ░ └───┘ ░  ║ └╥┘\n",
       "c: 2/══════════════════════════════╩══╩═\n",
       "                                   0  1 </pre>"
      ],
      "text/plain": [
       "           ░            ░       ░       \n",
       "q_0: ─|0>──░───■────────░───■───░───────\n",
       "           ░   │        ░   │   ░       \n",
       "q_1: ─|0>──░───┼────■───░───■───░───────\n",
       "           ░ ┌─┴─┐┌─┴─┐ ░   │   ░ ┌─┐   \n",
       "q_2: ─|0>──░─┤ X ├┤ X ├─░───┼───░─┤M├───\n",
       "           ░ └───┘└───┘ ░ ┌─┴─┐ ░ └╥┘┌─┐\n",
       "q_3: ─|0>──░────────────░─┤ X ├─░──╫─┤M├\n",
       "           ░            ░ └───┘ ░  ║ └╥┘\n",
       "c: 2/══════════════════════════════╩══╩═\n",
       "                                   0  1 "
      ]
     },
     "metadata": {},
     "output_type": "display_data"
    },
    {
     "name": "stdout",
     "output_type": "stream",
     "text": [
      "\n",
      "\n",
      "halfadder with input 0 1 gives output 01\n"
     ]
    },
    {
     "data": {
      "text/html": [
       "<pre style=\"word-wrap: normal;white-space: pre;background: #fff0;line-height: 1.1;font-family: &quot;Courier New&quot;,Courier,monospace\">                ░            ░       ░       \n",
       "q_0: ─|0>───────░───■────────░───■───░───────\n",
       "          ┌───┐ ░   │        ░   │   ░       \n",
       "q_1: ─|0>─┤ X ├─░───┼────■───░───■───░───────\n",
       "          └───┘ ░ ┌─┴─┐┌─┴─┐ ░   │   ░ ┌─┐   \n",
       "q_2: ─|0>───────░─┤ X ├┤ X ├─░───┼───░─┤M├───\n",
       "                ░ └───┘└───┘ ░ ┌─┴─┐ ░ └╥┘┌─┐\n",
       "q_3: ─|0>───────░────────────░─┤ X ├─░──╫─┤M├\n",
       "                ░            ░ └───┘ ░  ║ └╥┘\n",
       "c: 2/═══════════════════════════════════╩══╩═\n",
       "                                        0  1 </pre>"
      ],
      "text/plain": [
       "                ░            ░       ░       \n",
       "q_0: ─|0>───────░───■────────░───■───░───────\n",
       "          ┌───┐ ░   │        ░   │   ░       \n",
       "q_1: ─|0>─┤ X ├─░───┼────■───░───■───░───────\n",
       "          └───┘ ░ ┌─┴─┐┌─┴─┐ ░   │   ░ ┌─┐   \n",
       "q_2: ─|0>───────░─┤ X ├┤ X ├─░───┼───░─┤M├───\n",
       "                ░ └───┘└───┘ ░ ┌─┴─┐ ░ └╥┘┌─┐\n",
       "q_3: ─|0>───────░────────────░─┤ X ├─░──╫─┤M├\n",
       "                ░            ░ └───┘ ░  ║ └╥┘\n",
       "c: 2/═══════════════════════════════════╩══╩═\n",
       "                                        0  1 "
      ]
     },
     "metadata": {},
     "output_type": "display_data"
    },
    {
     "name": "stdout",
     "output_type": "stream",
     "text": [
      "\n",
      "\n",
      "halfadder with input 1 0 gives output 01\n"
     ]
    },
    {
     "data": {
      "text/html": [
       "<pre style=\"word-wrap: normal;white-space: pre;background: #fff0;line-height: 1.1;font-family: &quot;Courier New&quot;,Courier,monospace\">          ┌───┐ ░            ░       ░       \n",
       "q_0: ─|0>─┤ X ├─░───■────────░───■───░───────\n",
       "          └───┘ ░   │        ░   │   ░       \n",
       "q_1: ─|0>───────░───┼────■───░───■───░───────\n",
       "                ░ ┌─┴─┐┌─┴─┐ ░   │   ░ ┌─┐   \n",
       "q_2: ─|0>───────░─┤ X ├┤ X ├─░───┼───░─┤M├───\n",
       "                ░ └───┘└───┘ ░ ┌─┴─┐ ░ └╥┘┌─┐\n",
       "q_3: ─|0>───────░────────────░─┤ X ├─░──╫─┤M├\n",
       "                ░            ░ └───┘ ░  ║ └╥┘\n",
       "c: 2/═══════════════════════════════════╩══╩═\n",
       "                                        0  1 </pre>"
      ],
      "text/plain": [
       "          ┌───┐ ░            ░       ░       \n",
       "q_0: ─|0>─┤ X ├─░───■────────░───■───░───────\n",
       "          └───┘ ░   │        ░   │   ░       \n",
       "q_1: ─|0>───────░───┼────■───░───■───░───────\n",
       "                ░ ┌─┴─┐┌─┴─┐ ░   │   ░ ┌─┐   \n",
       "q_2: ─|0>───────░─┤ X ├┤ X ├─░───┼───░─┤M├───\n",
       "                ░ └───┘└───┘ ░ ┌─┴─┐ ░ └╥┘┌─┐\n",
       "q_3: ─|0>───────░────────────░─┤ X ├─░──╫─┤M├\n",
       "                ░            ░ └───┘ ░  ║ └╥┘\n",
       "c: 2/═══════════════════════════════════╩══╩═\n",
       "                                        0  1 "
      ]
     },
     "metadata": {},
     "output_type": "display_data"
    },
    {
     "name": "stdout",
     "output_type": "stream",
     "text": [
      "\n",
      "\n",
      "halfadder with input 1 1 gives output 10\n"
     ]
    },
    {
     "data": {
      "text/html": [
       "<pre style=\"word-wrap: normal;white-space: pre;background: #fff0;line-height: 1.1;font-family: &quot;Courier New&quot;,Courier,monospace\">          ┌───┐ ░            ░       ░       \n",
       "q_0: ─|0>─┤ X ├─░───■────────░───■───░───────\n",
       "          ├───┤ ░   │        ░   │   ░       \n",
       "q_1: ─|0>─┤ X ├─░───┼────■───░───■───░───────\n",
       "          └───┘ ░ ┌─┴─┐┌─┴─┐ ░   │   ░ ┌─┐   \n",
       "q_2: ─|0>───────░─┤ X ├┤ X ├─░───┼───░─┤M├───\n",
       "                ░ └───┘└───┘ ░ ┌─┴─┐ ░ └╥┘┌─┐\n",
       "q_3: ─|0>───────░────────────░─┤ X ├─░──╫─┤M├\n",
       "                ░            ░ └───┘ ░  ║ └╥┘\n",
       "c: 2/═══════════════════════════════════╩══╩═\n",
       "                                        0  1 </pre>"
      ],
      "text/plain": [
       "          ┌───┐ ░            ░       ░       \n",
       "q_0: ─|0>─┤ X ├─░───■────────░───■───░───────\n",
       "          ├───┤ ░   │        ░   │   ░       \n",
       "q_1: ─|0>─┤ X ├─░───┼────■───░───■───░───────\n",
       "          └───┘ ░ ┌─┴─┐┌─┴─┐ ░   │   ░ ┌─┐   \n",
       "q_2: ─|0>───────░─┤ X ├┤ X ├─░───┼───░─┤M├───\n",
       "                ░ └───┘└───┘ ░ ┌─┴─┐ ░ └╥┘┌─┐\n",
       "q_3: ─|0>───────░────────────░─┤ X ├─░──╫─┤M├\n",
       "                ░            ░ └───┘ ░  ║ └╥┘\n",
       "c: 2/═══════════════════════════════════╩══╩═\n",
       "                                        0  1 "
      ]
     },
     "metadata": {},
     "output_type": "display_data"
    },
    {
     "name": "stdout",
     "output_type": "stream",
     "text": [
      "\n",
      "\n"
     ]
    }
   ],
   "source": [
    "#HALF_ADDER\n",
    "def halfadder(inp1,inp2):\n",
    "    qc=QuantumCircuit(4,2)\n",
    "    qc.reset(range(4))\n",
    "    if inp1=='1':\n",
    "        qc.x(0)\n",
    "    if inp2=='1':\n",
    "        qc.x(1)\n",
    "    qc.barrier()\n",
    "    qc.cx(0,2)\n",
    "    qc.cx(1,2)\n",
    "    qc.barrier()\n",
    "    qc.ccx(0,1,3)\n",
    "    qc.barrier()\n",
    "    qc.measure(2,0)\n",
    "    qc.measure(3,1)\n",
    "    backend = Aer.get_backend('aer_simulator')\n",
    "    job = backend.run(qc, shots=1, memory=True)\n",
    "    output=job.result().get_memory()[0]\n",
    "    return qc,output\n",
    "for inp1 in ['0','1']:\n",
    "    for inp2 in ['0','1']:\n",
    "        qc,output=halfadder(inp1,inp2)\n",
    "        print(\"halfadder with input\",inp1,inp2,\"gives output\",output)\n",
    "        display(qc.draw())\n",
    "        print('\\n')\n"
   ]
  },
  {
   "cell_type": "code",
   "execution_count": 9,
   "metadata": {},
   "outputs": [
    {
     "name": "stdout",
     "output_type": "stream",
     "text": [
      "fulladder with input 0 0 0 gives output 00\n"
     ]
    },
    {
     "data": {
      "text/html": [
       "<pre style=\"word-wrap: normal;white-space: pre;background: #fff0;line-height: 1.1;font-family: &quot;Courier New&quot;,Courier,monospace\">           ░            ░            ░       ░       ░                 ░       \n",
       "q_0: ─|0>──░───■────────░────────────░───────░───■───░─────────────────░───────\n",
       "           ░   │        ░            ░       ░   │   ░                 ░       \n",
       "q_1: ─|0>──░───┼────■───░────────────░───────░───■───░─────────────────░───────\n",
       "           ░ ┌─┴─┐┌─┴─┐ ░            ░       ░   │   ░                 ░       \n",
       "q_2: ─|0>──░─┤ X ├┤ X ├─░───■────────░───■───░───┼───░─────────────────░───────\n",
       "           ░ └───┘└───┘ ░   │        ░   │   ░   │   ░                 ░       \n",
       "q_3: ─|0>──░────────────░───┼────■───░───■───░───┼───░─────────────────░───────\n",
       "           ░            ░ ┌─┴─┐┌─┴─┐ ░   │   ░   │   ░                 ░ ┌─┐   \n",
       "q_4: ─|0>──░────────────░─┤ X ├┤ X ├─░───┼───░───┼───░─────────────────░─┤M├───\n",
       "           ░            ░ └───┘└───┘ ░ ┌─┴─┐ ░   │   ░                 ░ └╥┘   \n",
       "q_5: ─|0>──░────────────░────────────░─┤ X ├─░───┼───░────────■────■───░──╫────\n",
       "           ░            ░            ░ └───┘ ░ ┌─┴─┐ ░      ┌─┴─┐  │   ░  ║    \n",
       "q_6: ─|0>──░────────────░────────────░───────░─┤ X ├─░───■──┤ X ├──■───░──╫────\n",
       "           ░            ░            ░       ░ └───┘ ░ ┌─┴─┐└───┘┌─┴─┐ ░  ║ ┌─┐\n",
       "q_7: ─|0>──░────────────░────────────░───────░───────░─┤ X ├─────┤ X ├─░──╫─┤M├\n",
       "           ░            ░            ░       ░       ░ └───┘     └───┘ ░  ║ └╥┘\n",
       "c: 2/═════════════════════════════════════════════════════════════════════╩══╩═\n",
       "                                                                          0  1 </pre>"
      ],
      "text/plain": [
       "           ░            ░            ░       ░       ░                 ░       \n",
       "q_0: ─|0>──░───■────────░────────────░───────░───■───░─────────────────░───────\n",
       "           ░   │        ░            ░       ░   │   ░                 ░       \n",
       "q_1: ─|0>──░───┼────■───░────────────░───────░───■───░─────────────────░───────\n",
       "           ░ ┌─┴─┐┌─┴─┐ ░            ░       ░   │   ░                 ░       \n",
       "q_2: ─|0>──░─┤ X ├┤ X ├─░───■────────░───■───░───┼───░─────────────────░───────\n",
       "           ░ └───┘└───┘ ░   │        ░   │   ░   │   ░                 ░       \n",
       "q_3: ─|0>──░────────────░───┼────■───░───■───░───┼───░─────────────────░───────\n",
       "           ░            ░ ┌─┴─┐┌─┴─┐ ░   │   ░   │   ░                 ░ ┌─┐   \n",
       "q_4: ─|0>──░────────────░─┤ X ├┤ X ├─░───┼───░───┼───░─────────────────░─┤M├───\n",
       "           ░            ░ └───┘└───┘ ░ ┌─┴─┐ ░   │   ░                 ░ └╥┘   \n",
       "q_5: ─|0>──░────────────░────────────░─┤ X ├─░───┼───░────────■────■───░──╫────\n",
       "           ░            ░            ░ └───┘ ░ ┌─┴─┐ ░      ┌─┴─┐  │   ░  ║    \n",
       "q_6: ─|0>──░────────────░────────────░───────░─┤ X ├─░───■──┤ X ├──■───░──╫────\n",
       "           ░            ░            ░       ░ └───┘ ░ ┌─┴─┐└───┘┌─┴─┐ ░  ║ ┌─┐\n",
       "q_7: ─|0>──░────────────░────────────░───────░───────░─┤ X ├─────┤ X ├─░──╫─┤M├\n",
       "           ░            ░            ░       ░       ░ └───┘     └───┘ ░  ║ └╥┘\n",
       "c: 2/═════════════════════════════════════════════════════════════════════╩══╩═\n",
       "                                                                          0  1 "
      ]
     },
     "metadata": {},
     "output_type": "display_data"
    },
    {
     "name": "stdout",
     "output_type": "stream",
     "text": [
      "\n",
      "\n",
      "fulladder with input 0 0 1 gives output 01\n"
     ]
    },
    {
     "data": {
      "text/html": [
       "<pre style=\"word-wrap: normal;white-space: pre;background: #fff0;line-height: 1.1;font-family: &quot;Courier New&quot;,Courier,monospace\">                ░            ░            ░       ░       ░                 ░ »\n",
       "q_0: ─|0>───────░───■────────░────────────░───────░───■───░─────────────────░─»\n",
       "                ░   │        ░            ░       ░   │   ░                 ░ »\n",
       "q_1: ─|0>───────░───┼────■───░────────────░───────░───■───░─────────────────░─»\n",
       "                ░ ┌─┴─┐┌─┴─┐ ░            ░       ░   │   ░                 ░ »\n",
       "q_2: ─|0>───────░─┤ X ├┤ X ├─░───■────────░───■───░───┼───░─────────────────░─»\n",
       "          ┌───┐ ░ └───┘└───┘ ░   │        ░   │   ░   │   ░                 ░ »\n",
       "q_3: ─|0>─┤ X ├─░────────────░───┼────■───░───■───░───┼───░─────────────────░─»\n",
       "          └───┘ ░            ░ ┌─┴─┐┌─┴─┐ ░   │   ░   │   ░                 ░ »\n",
       "q_4: ─|0>───────░────────────░─┤ X ├┤ X ├─░───┼───░───┼───░─────────────────░─»\n",
       "                ░            ░ └───┘└───┘ ░ ┌─┴─┐ ░   │   ░                 ░ »\n",
       "q_5: ─|0>───────░────────────░────────────░─┤ X ├─░───┼───░────────■────■───░─»\n",
       "                ░            ░            ░ └───┘ ░ ┌─┴─┐ ░      ┌─┴─┐  │   ░ »\n",
       "q_6: ─|0>───────░────────────░────────────░───────░─┤ X ├─░───■──┤ X ├──■───░─»\n",
       "                ░            ░            ░       ░ └───┘ ░ ┌─┴─┐└───┘┌─┴─┐ ░ »\n",
       "q_7: ─|0>───────░────────────░────────────░───────░───────░─┤ X ├─────┤ X ├─░─»\n",
       "                ░            ░            ░       ░       ░ └───┘     └───┘ ░ »\n",
       "c: 2/═════════════════════════════════════════════════════════════════════════»\n",
       "                                                                              »\n",
       "«           \n",
       "«q_0: ──────\n",
       "«           \n",
       "«q_1: ──────\n",
       "«           \n",
       "«q_2: ──────\n",
       "«           \n",
       "«q_3: ──────\n",
       "«     ┌─┐   \n",
       "«q_4: ┤M├───\n",
       "«     └╥┘   \n",
       "«q_5: ─╫────\n",
       "«      ║    \n",
       "«q_6: ─╫────\n",
       "«      ║ ┌─┐\n",
       "«q_7: ─╫─┤M├\n",
       "«      ║ └╥┘\n",
       "«c: 2/═╩══╩═\n",
       "«      0  1 </pre>"
      ],
      "text/plain": [
       "                ░            ░            ░       ░       ░                 ░ »\n",
       "q_0: ─|0>───────░───■────────░────────────░───────░───■───░─────────────────░─»\n",
       "                ░   │        ░            ░       ░   │   ░                 ░ »\n",
       "q_1: ─|0>───────░───┼────■───░────────────░───────░───■───░─────────────────░─»\n",
       "                ░ ┌─┴─┐┌─┴─┐ ░            ░       ░   │   ░                 ░ »\n",
       "q_2: ─|0>───────░─┤ X ├┤ X ├─░───■────────░───■───░───┼───░─────────────────░─»\n",
       "          ┌───┐ ░ └───┘└───┘ ░   │        ░   │   ░   │   ░                 ░ »\n",
       "q_3: ─|0>─┤ X ├─░────────────░───┼────■───░───■───░───┼───░─────────────────░─»\n",
       "          └───┘ ░            ░ ┌─┴─┐┌─┴─┐ ░   │   ░   │   ░                 ░ »\n",
       "q_4: ─|0>───────░────────────░─┤ X ├┤ X ├─░───┼───░───┼───░─────────────────░─»\n",
       "                ░            ░ └───┘└───┘ ░ ┌─┴─┐ ░   │   ░                 ░ »\n",
       "q_5: ─|0>───────░────────────░────────────░─┤ X ├─░───┼───░────────■────■───░─»\n",
       "                ░            ░            ░ └───┘ ░ ┌─┴─┐ ░      ┌─┴─┐  │   ░ »\n",
       "q_6: ─|0>───────░────────────░────────────░───────░─┤ X ├─░───■──┤ X ├──■───░─»\n",
       "                ░            ░            ░       ░ └───┘ ░ ┌─┴─┐└───┘┌─┴─┐ ░ »\n",
       "q_7: ─|0>───────░────────────░────────────░───────░───────░─┤ X ├─────┤ X ├─░─»\n",
       "                ░            ░            ░       ░       ░ └───┘     └───┘ ░ »\n",
       "c: 2/═════════════════════════════════════════════════════════════════════════»\n",
       "                                                                              »\n",
       "«           \n",
       "«q_0: ──────\n",
       "«           \n",
       "«q_1: ──────\n",
       "«           \n",
       "«q_2: ──────\n",
       "«           \n",
       "«q_3: ──────\n",
       "«     ┌─┐   \n",
       "«q_4: ┤M├───\n",
       "«     └╥┘   \n",
       "«q_5: ─╫────\n",
       "«      ║    \n",
       "«q_6: ─╫────\n",
       "«      ║ ┌─┐\n",
       "«q_7: ─╫─┤M├\n",
       "«      ║ └╥┘\n",
       "«c: 2/═╩══╩═\n",
       "«      0  1 "
      ]
     },
     "metadata": {},
     "output_type": "display_data"
    },
    {
     "name": "stdout",
     "output_type": "stream",
     "text": [
      "\n",
      "\n",
      "fulladder with input 0 1 0 gives output 01\n"
     ]
    },
    {
     "data": {
      "text/html": [
       "<pre style=\"word-wrap: normal;white-space: pre;background: #fff0;line-height: 1.1;font-family: &quot;Courier New&quot;,Courier,monospace\">                ░            ░            ░       ░       ░                 ░ »\n",
       "q_0: ─|0>───────░───■────────░────────────░───────░───■───░─────────────────░─»\n",
       "          ┌───┐ ░   │        ░            ░       ░   │   ░                 ░ »\n",
       "q_1: ─|0>─┤ X ├─░───┼────■───░────────────░───────░───■───░─────────────────░─»\n",
       "          └───┘ ░ ┌─┴─┐┌─┴─┐ ░            ░       ░   │   ░                 ░ »\n",
       "q_2: ─|0>───────░─┤ X ├┤ X ├─░───■────────░───■───░───┼───░─────────────────░─»\n",
       "                ░ └───┘└───┘ ░   │        ░   │   ░   │   ░                 ░ »\n",
       "q_3: ─|0>───────░────────────░───┼────■───░───■───░───┼───░─────────────────░─»\n",
       "                ░            ░ ┌─┴─┐┌─┴─┐ ░   │   ░   │   ░                 ░ »\n",
       "q_4: ─|0>───────░────────────░─┤ X ├┤ X ├─░───┼───░───┼───░─────────────────░─»\n",
       "                ░            ░ └───┘└───┘ ░ ┌─┴─┐ ░   │   ░                 ░ »\n",
       "q_5: ─|0>───────░────────────░────────────░─┤ X ├─░───┼───░────────■────■───░─»\n",
       "                ░            ░            ░ └───┘ ░ ┌─┴─┐ ░      ┌─┴─┐  │   ░ »\n",
       "q_6: ─|0>───────░────────────░────────────░───────░─┤ X ├─░───■──┤ X ├──■───░─»\n",
       "                ░            ░            ░       ░ └───┘ ░ ┌─┴─┐└───┘┌─┴─┐ ░ »\n",
       "q_7: ─|0>───────░────────────░────────────░───────░───────░─┤ X ├─────┤ X ├─░─»\n",
       "                ░            ░            ░       ░       ░ └───┘     └───┘ ░ »\n",
       "c: 2/═════════════════════════════════════════════════════════════════════════»\n",
       "                                                                              »\n",
       "«           \n",
       "«q_0: ──────\n",
       "«           \n",
       "«q_1: ──────\n",
       "«           \n",
       "«q_2: ──────\n",
       "«           \n",
       "«q_3: ──────\n",
       "«     ┌─┐   \n",
       "«q_4: ┤M├───\n",
       "«     └╥┘   \n",
       "«q_5: ─╫────\n",
       "«      ║    \n",
       "«q_6: ─╫────\n",
       "«      ║ ┌─┐\n",
       "«q_7: ─╫─┤M├\n",
       "«      ║ └╥┘\n",
       "«c: 2/═╩══╩═\n",
       "«      0  1 </pre>"
      ],
      "text/plain": [
       "                ░            ░            ░       ░       ░                 ░ »\n",
       "q_0: ─|0>───────░───■────────░────────────░───────░───■───░─────────────────░─»\n",
       "          ┌───┐ ░   │        ░            ░       ░   │   ░                 ░ »\n",
       "q_1: ─|0>─┤ X ├─░───┼────■───░────────────░───────░───■───░─────────────────░─»\n",
       "          └───┘ ░ ┌─┴─┐┌─┴─┐ ░            ░       ░   │   ░                 ░ »\n",
       "q_2: ─|0>───────░─┤ X ├┤ X ├─░───■────────░───■───░───┼───░─────────────────░─»\n",
       "                ░ └───┘└───┘ ░   │        ░   │   ░   │   ░                 ░ »\n",
       "q_3: ─|0>───────░────────────░───┼────■───░───■───░───┼───░─────────────────░─»\n",
       "                ░            ░ ┌─┴─┐┌─┴─┐ ░   │   ░   │   ░                 ░ »\n",
       "q_4: ─|0>───────░────────────░─┤ X ├┤ X ├─░───┼───░───┼───░─────────────────░─»\n",
       "                ░            ░ └───┘└───┘ ░ ┌─┴─┐ ░   │   ░                 ░ »\n",
       "q_5: ─|0>───────░────────────░────────────░─┤ X ├─░───┼───░────────■────■───░─»\n",
       "                ░            ░            ░ └───┘ ░ ┌─┴─┐ ░      ┌─┴─┐  │   ░ »\n",
       "q_6: ─|0>───────░────────────░────────────░───────░─┤ X ├─░───■──┤ X ├──■───░─»\n",
       "                ░            ░            ░       ░ └───┘ ░ ┌─┴─┐└───┘┌─┴─┐ ░ »\n",
       "q_7: ─|0>───────░────────────░────────────░───────░───────░─┤ X ├─────┤ X ├─░─»\n",
       "                ░            ░            ░       ░       ░ └───┘     └───┘ ░ »\n",
       "c: 2/═════════════════════════════════════════════════════════════════════════»\n",
       "                                                                              »\n",
       "«           \n",
       "«q_0: ──────\n",
       "«           \n",
       "«q_1: ──────\n",
       "«           \n",
       "«q_2: ──────\n",
       "«           \n",
       "«q_3: ──────\n",
       "«     ┌─┐   \n",
       "«q_4: ┤M├───\n",
       "«     └╥┘   \n",
       "«q_5: ─╫────\n",
       "«      ║    \n",
       "«q_6: ─╫────\n",
       "«      ║ ┌─┐\n",
       "«q_7: ─╫─┤M├\n",
       "«      ║ └╥┘\n",
       "«c: 2/═╩══╩═\n",
       "«      0  1 "
      ]
     },
     "metadata": {},
     "output_type": "display_data"
    },
    {
     "name": "stdout",
     "output_type": "stream",
     "text": [
      "\n",
      "\n",
      "fulladder with input 0 1 1 gives output 10\n"
     ]
    },
    {
     "data": {
      "text/html": [
       "<pre style=\"word-wrap: normal;white-space: pre;background: #fff0;line-height: 1.1;font-family: &quot;Courier New&quot;,Courier,monospace\">                ░            ░            ░       ░       ░                 ░ »\n",
       "q_0: ─|0>───────░───■────────░────────────░───────░───■───░─────────────────░─»\n",
       "          ┌───┐ ░   │        ░            ░       ░   │   ░                 ░ »\n",
       "q_1: ─|0>─┤ X ├─░───┼────■───░────────────░───────░───■───░─────────────────░─»\n",
       "          └───┘ ░ ┌─┴─┐┌─┴─┐ ░            ░       ░   │   ░                 ░ »\n",
       "q_2: ─|0>───────░─┤ X ├┤ X ├─░───■────────░───■───░───┼───░─────────────────░─»\n",
       "          ┌───┐ ░ └───┘└───┘ ░   │        ░   │   ░   │   ░                 ░ »\n",
       "q_3: ─|0>─┤ X ├─░────────────░───┼────■───░───■───░───┼───░─────────────────░─»\n",
       "          └───┘ ░            ░ ┌─┴─┐┌─┴─┐ ░   │   ░   │   ░                 ░ »\n",
       "q_4: ─|0>───────░────────────░─┤ X ├┤ X ├─░───┼───░───┼───░─────────────────░─»\n",
       "                ░            ░ └───┘└───┘ ░ ┌─┴─┐ ░   │   ░                 ░ »\n",
       "q_5: ─|0>───────░────────────░────────────░─┤ X ├─░───┼───░────────■────■───░─»\n",
       "                ░            ░            ░ └───┘ ░ ┌─┴─┐ ░      ┌─┴─┐  │   ░ »\n",
       "q_6: ─|0>───────░────────────░────────────░───────░─┤ X ├─░───■──┤ X ├──■───░─»\n",
       "                ░            ░            ░       ░ └───┘ ░ ┌─┴─┐└───┘┌─┴─┐ ░ »\n",
       "q_7: ─|0>───────░────────────░────────────░───────░───────░─┤ X ├─────┤ X ├─░─»\n",
       "                ░            ░            ░       ░       ░ └───┘     └───┘ ░ »\n",
       "c: 2/═════════════════════════════════════════════════════════════════════════»\n",
       "                                                                              »\n",
       "«           \n",
       "«q_0: ──────\n",
       "«           \n",
       "«q_1: ──────\n",
       "«           \n",
       "«q_2: ──────\n",
       "«           \n",
       "«q_3: ──────\n",
       "«     ┌─┐   \n",
       "«q_4: ┤M├───\n",
       "«     └╥┘   \n",
       "«q_5: ─╫────\n",
       "«      ║    \n",
       "«q_6: ─╫────\n",
       "«      ║ ┌─┐\n",
       "«q_7: ─╫─┤M├\n",
       "«      ║ └╥┘\n",
       "«c: 2/═╩══╩═\n",
       "«      0  1 </pre>"
      ],
      "text/plain": [
       "                ░            ░            ░       ░       ░                 ░ »\n",
       "q_0: ─|0>───────░───■────────░────────────░───────░───■───░─────────────────░─»\n",
       "          ┌───┐ ░   │        ░            ░       ░   │   ░                 ░ »\n",
       "q_1: ─|0>─┤ X ├─░───┼────■───░────────────░───────░───■───░─────────────────░─»\n",
       "          └───┘ ░ ┌─┴─┐┌─┴─┐ ░            ░       ░   │   ░                 ░ »\n",
       "q_2: ─|0>───────░─┤ X ├┤ X ├─░───■────────░───■───░───┼───░─────────────────░─»\n",
       "          ┌───┐ ░ └───┘└───┘ ░   │        ░   │   ░   │   ░                 ░ »\n",
       "q_3: ─|0>─┤ X ├─░────────────░───┼────■───░───■───░───┼───░─────────────────░─»\n",
       "          └───┘ ░            ░ ┌─┴─┐┌─┴─┐ ░   │   ░   │   ░                 ░ »\n",
       "q_4: ─|0>───────░────────────░─┤ X ├┤ X ├─░───┼───░───┼───░─────────────────░─»\n",
       "                ░            ░ └───┘└───┘ ░ ┌─┴─┐ ░   │   ░                 ░ »\n",
       "q_5: ─|0>───────░────────────░────────────░─┤ X ├─░───┼───░────────■────■───░─»\n",
       "                ░            ░            ░ └───┘ ░ ┌─┴─┐ ░      ┌─┴─┐  │   ░ »\n",
       "q_6: ─|0>───────░────────────░────────────░───────░─┤ X ├─░───■──┤ X ├──■───░─»\n",
       "                ░            ░            ░       ░ └───┘ ░ ┌─┴─┐└───┘┌─┴─┐ ░ »\n",
       "q_7: ─|0>───────░────────────░────────────░───────░───────░─┤ X ├─────┤ X ├─░─»\n",
       "                ░            ░            ░       ░       ░ └───┘     └───┘ ░ »\n",
       "c: 2/═════════════════════════════════════════════════════════════════════════»\n",
       "                                                                              »\n",
       "«           \n",
       "«q_0: ──────\n",
       "«           \n",
       "«q_1: ──────\n",
       "«           \n",
       "«q_2: ──────\n",
       "«           \n",
       "«q_3: ──────\n",
       "«     ┌─┐   \n",
       "«q_4: ┤M├───\n",
       "«     └╥┘   \n",
       "«q_5: ─╫────\n",
       "«      ║    \n",
       "«q_6: ─╫────\n",
       "«      ║ ┌─┐\n",
       "«q_7: ─╫─┤M├\n",
       "«      ║ └╥┘\n",
       "«c: 2/═╩══╩═\n",
       "«      0  1 "
      ]
     },
     "metadata": {},
     "output_type": "display_data"
    },
    {
     "name": "stdout",
     "output_type": "stream",
     "text": [
      "\n",
      "\n",
      "fulladder with input 1 0 0 gives output 01\n"
     ]
    },
    {
     "data": {
      "text/html": [
       "<pre style=\"word-wrap: normal;white-space: pre;background: #fff0;line-height: 1.1;font-family: &quot;Courier New&quot;,Courier,monospace\">          ┌───┐ ░            ░            ░       ░       ░                 ░ »\n",
       "q_0: ─|0>─┤ X ├─░───■────────░────────────░───────░───■───░─────────────────░─»\n",
       "          └───┘ ░   │        ░            ░       ░   │   ░                 ░ »\n",
       "q_1: ─|0>───────░───┼────■───░────────────░───────░───■───░─────────────────░─»\n",
       "                ░ ┌─┴─┐┌─┴─┐ ░            ░       ░   │   ░                 ░ »\n",
       "q_2: ─|0>───────░─┤ X ├┤ X ├─░───■────────░───■───░───┼───░─────────────────░─»\n",
       "                ░ └───┘└───┘ ░   │        ░   │   ░   │   ░                 ░ »\n",
       "q_3: ─|0>───────░────────────░───┼────■───░───■───░───┼───░─────────────────░─»\n",
       "                ░            ░ ┌─┴─┐┌─┴─┐ ░   │   ░   │   ░                 ░ »\n",
       "q_4: ─|0>───────░────────────░─┤ X ├┤ X ├─░───┼───░───┼───░─────────────────░─»\n",
       "                ░            ░ └───┘└───┘ ░ ┌─┴─┐ ░   │   ░                 ░ »\n",
       "q_5: ─|0>───────░────────────░────────────░─┤ X ├─░───┼───░────────■────■───░─»\n",
       "                ░            ░            ░ └───┘ ░ ┌─┴─┐ ░      ┌─┴─┐  │   ░ »\n",
       "q_6: ─|0>───────░────────────░────────────░───────░─┤ X ├─░───■──┤ X ├──■───░─»\n",
       "                ░            ░            ░       ░ └───┘ ░ ┌─┴─┐└───┘┌─┴─┐ ░ »\n",
       "q_7: ─|0>───────░────────────░────────────░───────░───────░─┤ X ├─────┤ X ├─░─»\n",
       "                ░            ░            ░       ░       ░ └───┘     └───┘ ░ »\n",
       "c: 2/═════════════════════════════════════════════════════════════════════════»\n",
       "                                                                              »\n",
       "«           \n",
       "«q_0: ──────\n",
       "«           \n",
       "«q_1: ──────\n",
       "«           \n",
       "«q_2: ──────\n",
       "«           \n",
       "«q_3: ──────\n",
       "«     ┌─┐   \n",
       "«q_4: ┤M├───\n",
       "«     └╥┘   \n",
       "«q_5: ─╫────\n",
       "«      ║    \n",
       "«q_6: ─╫────\n",
       "«      ║ ┌─┐\n",
       "«q_7: ─╫─┤M├\n",
       "«      ║ └╥┘\n",
       "«c: 2/═╩══╩═\n",
       "«      0  1 </pre>"
      ],
      "text/plain": [
       "          ┌───┐ ░            ░            ░       ░       ░                 ░ »\n",
       "q_0: ─|0>─┤ X ├─░───■────────░────────────░───────░───■───░─────────────────░─»\n",
       "          └───┘ ░   │        ░            ░       ░   │   ░                 ░ »\n",
       "q_1: ─|0>───────░───┼────■───░────────────░───────░───■───░─────────────────░─»\n",
       "                ░ ┌─┴─┐┌─┴─┐ ░            ░       ░   │   ░                 ░ »\n",
       "q_2: ─|0>───────░─┤ X ├┤ X ├─░───■────────░───■───░───┼───░─────────────────░─»\n",
       "                ░ └───┘└───┘ ░   │        ░   │   ░   │   ░                 ░ »\n",
       "q_3: ─|0>───────░────────────░───┼────■───░───■───░───┼───░─────────────────░─»\n",
       "                ░            ░ ┌─┴─┐┌─┴─┐ ░   │   ░   │   ░                 ░ »\n",
       "q_4: ─|0>───────░────────────░─┤ X ├┤ X ├─░───┼───░───┼───░─────────────────░─»\n",
       "                ░            ░ └───┘└───┘ ░ ┌─┴─┐ ░   │   ░                 ░ »\n",
       "q_5: ─|0>───────░────────────░────────────░─┤ X ├─░───┼───░────────■────■───░─»\n",
       "                ░            ░            ░ └───┘ ░ ┌─┴─┐ ░      ┌─┴─┐  │   ░ »\n",
       "q_6: ─|0>───────░────────────░────────────░───────░─┤ X ├─░───■──┤ X ├──■───░─»\n",
       "                ░            ░            ░       ░ └───┘ ░ ┌─┴─┐└───┘┌─┴─┐ ░ »\n",
       "q_7: ─|0>───────░────────────░────────────░───────░───────░─┤ X ├─────┤ X ├─░─»\n",
       "                ░            ░            ░       ░       ░ └───┘     └───┘ ░ »\n",
       "c: 2/═════════════════════════════════════════════════════════════════════════»\n",
       "                                                                              »\n",
       "«           \n",
       "«q_0: ──────\n",
       "«           \n",
       "«q_1: ──────\n",
       "«           \n",
       "«q_2: ──────\n",
       "«           \n",
       "«q_3: ──────\n",
       "«     ┌─┐   \n",
       "«q_4: ┤M├───\n",
       "«     └╥┘   \n",
       "«q_5: ─╫────\n",
       "«      ║    \n",
       "«q_6: ─╫────\n",
       "«      ║ ┌─┐\n",
       "«q_7: ─╫─┤M├\n",
       "«      ║ └╥┘\n",
       "«c: 2/═╩══╩═\n",
       "«      0  1 "
      ]
     },
     "metadata": {},
     "output_type": "display_data"
    },
    {
     "name": "stdout",
     "output_type": "stream",
     "text": [
      "\n",
      "\n",
      "fulladder with input 1 0 1 gives output 10\n"
     ]
    },
    {
     "data": {
      "text/html": [
       "<pre style=\"word-wrap: normal;white-space: pre;background: #fff0;line-height: 1.1;font-family: &quot;Courier New&quot;,Courier,monospace\">          ┌───┐ ░            ░            ░       ░       ░                 ░ »\n",
       "q_0: ─|0>─┤ X ├─░───■────────░────────────░───────░───■───░─────────────────░─»\n",
       "          └───┘ ░   │        ░            ░       ░   │   ░                 ░ »\n",
       "q_1: ─|0>───────░───┼────■───░────────────░───────░───■───░─────────────────░─»\n",
       "                ░ ┌─┴─┐┌─┴─┐ ░            ░       ░   │   ░                 ░ »\n",
       "q_2: ─|0>───────░─┤ X ├┤ X ├─░───■────────░───■───░───┼───░─────────────────░─»\n",
       "          ┌───┐ ░ └───┘└───┘ ░   │        ░   │   ░   │   ░                 ░ »\n",
       "q_3: ─|0>─┤ X ├─░────────────░───┼────■───░───■───░───┼───░─────────────────░─»\n",
       "          └───┘ ░            ░ ┌─┴─┐┌─┴─┐ ░   │   ░   │   ░                 ░ »\n",
       "q_4: ─|0>───────░────────────░─┤ X ├┤ X ├─░───┼───░───┼───░─────────────────░─»\n",
       "                ░            ░ └───┘└───┘ ░ ┌─┴─┐ ░   │   ░                 ░ »\n",
       "q_5: ─|0>───────░────────────░────────────░─┤ X ├─░───┼───░────────■────■───░─»\n",
       "                ░            ░            ░ └───┘ ░ ┌─┴─┐ ░      ┌─┴─┐  │   ░ »\n",
       "q_6: ─|0>───────░────────────░────────────░───────░─┤ X ├─░───■──┤ X ├──■───░─»\n",
       "                ░            ░            ░       ░ └───┘ ░ ┌─┴─┐└───┘┌─┴─┐ ░ »\n",
       "q_7: ─|0>───────░────────────░────────────░───────░───────░─┤ X ├─────┤ X ├─░─»\n",
       "                ░            ░            ░       ░       ░ └───┘     └───┘ ░ »\n",
       "c: 2/═════════════════════════════════════════════════════════════════════════»\n",
       "                                                                              »\n",
       "«           \n",
       "«q_0: ──────\n",
       "«           \n",
       "«q_1: ──────\n",
       "«           \n",
       "«q_2: ──────\n",
       "«           \n",
       "«q_3: ──────\n",
       "«     ┌─┐   \n",
       "«q_4: ┤M├───\n",
       "«     └╥┘   \n",
       "«q_5: ─╫────\n",
       "«      ║    \n",
       "«q_6: ─╫────\n",
       "«      ║ ┌─┐\n",
       "«q_7: ─╫─┤M├\n",
       "«      ║ └╥┘\n",
       "«c: 2/═╩══╩═\n",
       "«      0  1 </pre>"
      ],
      "text/plain": [
       "          ┌───┐ ░            ░            ░       ░       ░                 ░ »\n",
       "q_0: ─|0>─┤ X ├─░───■────────░────────────░───────░───■───░─────────────────░─»\n",
       "          └───┘ ░   │        ░            ░       ░   │   ░                 ░ »\n",
       "q_1: ─|0>───────░───┼────■───░────────────░───────░───■───░─────────────────░─»\n",
       "                ░ ┌─┴─┐┌─┴─┐ ░            ░       ░   │   ░                 ░ »\n",
       "q_2: ─|0>───────░─┤ X ├┤ X ├─░───■────────░───■───░───┼───░─────────────────░─»\n",
       "          ┌───┐ ░ └───┘└───┘ ░   │        ░   │   ░   │   ░                 ░ »\n",
       "q_3: ─|0>─┤ X ├─░────────────░───┼────■───░───■───░───┼───░─────────────────░─»\n",
       "          └───┘ ░            ░ ┌─┴─┐┌─┴─┐ ░   │   ░   │   ░                 ░ »\n",
       "q_4: ─|0>───────░────────────░─┤ X ├┤ X ├─░───┼───░───┼───░─────────────────░─»\n",
       "                ░            ░ └───┘└───┘ ░ ┌─┴─┐ ░   │   ░                 ░ »\n",
       "q_5: ─|0>───────░────────────░────────────░─┤ X ├─░───┼───░────────■────■───░─»\n",
       "                ░            ░            ░ └───┘ ░ ┌─┴─┐ ░      ┌─┴─┐  │   ░ »\n",
       "q_6: ─|0>───────░────────────░────────────░───────░─┤ X ├─░───■──┤ X ├──■───░─»\n",
       "                ░            ░            ░       ░ └───┘ ░ ┌─┴─┐└───┘┌─┴─┐ ░ »\n",
       "q_7: ─|0>───────░────────────░────────────░───────░───────░─┤ X ├─────┤ X ├─░─»\n",
       "                ░            ░            ░       ░       ░ └───┘     └───┘ ░ »\n",
       "c: 2/═════════════════════════════════════════════════════════════════════════»\n",
       "                                                                              »\n",
       "«           \n",
       "«q_0: ──────\n",
       "«           \n",
       "«q_1: ──────\n",
       "«           \n",
       "«q_2: ──────\n",
       "«           \n",
       "«q_3: ──────\n",
       "«     ┌─┐   \n",
       "«q_4: ┤M├───\n",
       "«     └╥┘   \n",
       "«q_5: ─╫────\n",
       "«      ║    \n",
       "«q_6: ─╫────\n",
       "«      ║ ┌─┐\n",
       "«q_7: ─╫─┤M├\n",
       "«      ║ └╥┘\n",
       "«c: 2/═╩══╩═\n",
       "«      0  1 "
      ]
     },
     "metadata": {},
     "output_type": "display_data"
    },
    {
     "name": "stdout",
     "output_type": "stream",
     "text": [
      "\n",
      "\n",
      "fulladder with input 1 1 0 gives output 10\n"
     ]
    },
    {
     "data": {
      "text/html": [
       "<pre style=\"word-wrap: normal;white-space: pre;background: #fff0;line-height: 1.1;font-family: &quot;Courier New&quot;,Courier,monospace\">          ┌───┐ ░            ░            ░       ░       ░                 ░ »\n",
       "q_0: ─|0>─┤ X ├─░───■────────░────────────░───────░───■───░─────────────────░─»\n",
       "          ├───┤ ░   │        ░            ░       ░   │   ░                 ░ »\n",
       "q_1: ─|0>─┤ X ├─░───┼────■───░────────────░───────░───■───░─────────────────░─»\n",
       "          └───┘ ░ ┌─┴─┐┌─┴─┐ ░            ░       ░   │   ░                 ░ »\n",
       "q_2: ─|0>───────░─┤ X ├┤ X ├─░───■────────░───■───░───┼───░─────────────────░─»\n",
       "                ░ └───┘└───┘ ░   │        ░   │   ░   │   ░                 ░ »\n",
       "q_3: ─|0>───────░────────────░───┼────■───░───■───░───┼───░─────────────────░─»\n",
       "                ░            ░ ┌─┴─┐┌─┴─┐ ░   │   ░   │   ░                 ░ »\n",
       "q_4: ─|0>───────░────────────░─┤ X ├┤ X ├─░───┼───░───┼───░─────────────────░─»\n",
       "                ░            ░ └───┘└───┘ ░ ┌─┴─┐ ░   │   ░                 ░ »\n",
       "q_5: ─|0>───────░────────────░────────────░─┤ X ├─░───┼───░────────■────■───░─»\n",
       "                ░            ░            ░ └───┘ ░ ┌─┴─┐ ░      ┌─┴─┐  │   ░ »\n",
       "q_6: ─|0>───────░────────────░────────────░───────░─┤ X ├─░───■──┤ X ├──■───░─»\n",
       "                ░            ░            ░       ░ └───┘ ░ ┌─┴─┐└───┘┌─┴─┐ ░ »\n",
       "q_7: ─|0>───────░────────────░────────────░───────░───────░─┤ X ├─────┤ X ├─░─»\n",
       "                ░            ░            ░       ░       ░ └───┘     └───┘ ░ »\n",
       "c: 2/═════════════════════════════════════════════════════════════════════════»\n",
       "                                                                              »\n",
       "«           \n",
       "«q_0: ──────\n",
       "«           \n",
       "«q_1: ──────\n",
       "«           \n",
       "«q_2: ──────\n",
       "«           \n",
       "«q_3: ──────\n",
       "«     ┌─┐   \n",
       "«q_4: ┤M├───\n",
       "«     └╥┘   \n",
       "«q_5: ─╫────\n",
       "«      ║    \n",
       "«q_6: ─╫────\n",
       "«      ║ ┌─┐\n",
       "«q_7: ─╫─┤M├\n",
       "«      ║ └╥┘\n",
       "«c: 2/═╩══╩═\n",
       "«      0  1 </pre>"
      ],
      "text/plain": [
       "          ┌───┐ ░            ░            ░       ░       ░                 ░ »\n",
       "q_0: ─|0>─┤ X ├─░───■────────░────────────░───────░───■───░─────────────────░─»\n",
       "          ├───┤ ░   │        ░            ░       ░   │   ░                 ░ »\n",
       "q_1: ─|0>─┤ X ├─░───┼────■───░────────────░───────░───■───░─────────────────░─»\n",
       "          └───┘ ░ ┌─┴─┐┌─┴─┐ ░            ░       ░   │   ░                 ░ »\n",
       "q_2: ─|0>───────░─┤ X ├┤ X ├─░───■────────░───■───░───┼───░─────────────────░─»\n",
       "                ░ └───┘└───┘ ░   │        ░   │   ░   │   ░                 ░ »\n",
       "q_3: ─|0>───────░────────────░───┼────■───░───■───░───┼───░─────────────────░─»\n",
       "                ░            ░ ┌─┴─┐┌─┴─┐ ░   │   ░   │   ░                 ░ »\n",
       "q_4: ─|0>───────░────────────░─┤ X ├┤ X ├─░───┼───░───┼───░─────────────────░─»\n",
       "                ░            ░ └───┘└───┘ ░ ┌─┴─┐ ░   │   ░                 ░ »\n",
       "q_5: ─|0>───────░────────────░────────────░─┤ X ├─░───┼───░────────■────■───░─»\n",
       "                ░            ░            ░ └───┘ ░ ┌─┴─┐ ░      ┌─┴─┐  │   ░ »\n",
       "q_6: ─|0>───────░────────────░────────────░───────░─┤ X ├─░───■──┤ X ├──■───░─»\n",
       "                ░            ░            ░       ░ └───┘ ░ ┌─┴─┐└───┘┌─┴─┐ ░ »\n",
       "q_7: ─|0>───────░────────────░────────────░───────░───────░─┤ X ├─────┤ X ├─░─»\n",
       "                ░            ░            ░       ░       ░ └───┘     └───┘ ░ »\n",
       "c: 2/═════════════════════════════════════════════════════════════════════════»\n",
       "                                                                              »\n",
       "«           \n",
       "«q_0: ──────\n",
       "«           \n",
       "«q_1: ──────\n",
       "«           \n",
       "«q_2: ──────\n",
       "«           \n",
       "«q_3: ──────\n",
       "«     ┌─┐   \n",
       "«q_4: ┤M├───\n",
       "«     └╥┘   \n",
       "«q_5: ─╫────\n",
       "«      ║    \n",
       "«q_6: ─╫────\n",
       "«      ║ ┌─┐\n",
       "«q_7: ─╫─┤M├\n",
       "«      ║ └╥┘\n",
       "«c: 2/═╩══╩═\n",
       "«      0  1 "
      ]
     },
     "metadata": {},
     "output_type": "display_data"
    },
    {
     "name": "stdout",
     "output_type": "stream",
     "text": [
      "\n",
      "\n",
      "fulladder with input 1 1 1 gives output 11\n"
     ]
    },
    {
     "data": {
      "text/html": [
       "<pre style=\"word-wrap: normal;white-space: pre;background: #fff0;line-height: 1.1;font-family: &quot;Courier New&quot;,Courier,monospace\">          ┌───┐ ░            ░            ░       ░       ░                 ░ »\n",
       "q_0: ─|0>─┤ X ├─░───■────────░────────────░───────░───■───░─────────────────░─»\n",
       "          ├───┤ ░   │        ░            ░       ░   │   ░                 ░ »\n",
       "q_1: ─|0>─┤ X ├─░───┼────■───░────────────░───────░───■───░─────────────────░─»\n",
       "          └───┘ ░ ┌─┴─┐┌─┴─┐ ░            ░       ░   │   ░                 ░ »\n",
       "q_2: ─|0>───────░─┤ X ├┤ X ├─░───■────────░───■───░───┼───░─────────────────░─»\n",
       "          ┌───┐ ░ └───┘└───┘ ░   │        ░   │   ░   │   ░                 ░ »\n",
       "q_3: ─|0>─┤ X ├─░────────────░───┼────■───░───■───░───┼───░─────────────────░─»\n",
       "          └───┘ ░            ░ ┌─┴─┐┌─┴─┐ ░   │   ░   │   ░                 ░ »\n",
       "q_4: ─|0>───────░────────────░─┤ X ├┤ X ├─░───┼───░───┼───░─────────────────░─»\n",
       "                ░            ░ └───┘└───┘ ░ ┌─┴─┐ ░   │   ░                 ░ »\n",
       "q_5: ─|0>───────░────────────░────────────░─┤ X ├─░───┼───░────────■────■───░─»\n",
       "                ░            ░            ░ └───┘ ░ ┌─┴─┐ ░      ┌─┴─┐  │   ░ »\n",
       "q_6: ─|0>───────░────────────░────────────░───────░─┤ X ├─░───■──┤ X ├──■───░─»\n",
       "                ░            ░            ░       ░ └───┘ ░ ┌─┴─┐└───┘┌─┴─┐ ░ »\n",
       "q_7: ─|0>───────░────────────░────────────░───────░───────░─┤ X ├─────┤ X ├─░─»\n",
       "                ░            ░            ░       ░       ░ └───┘     └───┘ ░ »\n",
       "c: 2/═════════════════════════════════════════════════════════════════════════»\n",
       "                                                                              »\n",
       "«           \n",
       "«q_0: ──────\n",
       "«           \n",
       "«q_1: ──────\n",
       "«           \n",
       "«q_2: ──────\n",
       "«           \n",
       "«q_3: ──────\n",
       "«     ┌─┐   \n",
       "«q_4: ┤M├───\n",
       "«     └╥┘   \n",
       "«q_5: ─╫────\n",
       "«      ║    \n",
       "«q_6: ─╫────\n",
       "«      ║ ┌─┐\n",
       "«q_7: ─╫─┤M├\n",
       "«      ║ └╥┘\n",
       "«c: 2/═╩══╩═\n",
       "«      0  1 </pre>"
      ],
      "text/plain": [
       "          ┌───┐ ░            ░            ░       ░       ░                 ░ »\n",
       "q_0: ─|0>─┤ X ├─░───■────────░────────────░───────░───■───░─────────────────░─»\n",
       "          ├───┤ ░   │        ░            ░       ░   │   ░                 ░ »\n",
       "q_1: ─|0>─┤ X ├─░───┼────■───░────────────░───────░───■───░─────────────────░─»\n",
       "          └───┘ ░ ┌─┴─┐┌─┴─┐ ░            ░       ░   │   ░                 ░ »\n",
       "q_2: ─|0>───────░─┤ X ├┤ X ├─░───■────────░───■───░───┼───░─────────────────░─»\n",
       "          ┌───┐ ░ └───┘└───┘ ░   │        ░   │   ░   │   ░                 ░ »\n",
       "q_3: ─|0>─┤ X ├─░────────────░───┼────■───░───■───░───┼───░─────────────────░─»\n",
       "          └───┘ ░            ░ ┌─┴─┐┌─┴─┐ ░   │   ░   │   ░                 ░ »\n",
       "q_4: ─|0>───────░────────────░─┤ X ├┤ X ├─░───┼───░───┼───░─────────────────░─»\n",
       "                ░            ░ └───┘└───┘ ░ ┌─┴─┐ ░   │   ░                 ░ »\n",
       "q_5: ─|0>───────░────────────░────────────░─┤ X ├─░───┼───░────────■────■───░─»\n",
       "                ░            ░            ░ └───┘ ░ ┌─┴─┐ ░      ┌─┴─┐  │   ░ »\n",
       "q_6: ─|0>───────░────────────░────────────░───────░─┤ X ├─░───■──┤ X ├──■───░─»\n",
       "                ░            ░            ░       ░ └───┘ ░ ┌─┴─┐└───┘┌─┴─┐ ░ »\n",
       "q_7: ─|0>───────░────────────░────────────░───────░───────░─┤ X ├─────┤ X ├─░─»\n",
       "                ░            ░            ░       ░       ░ └───┘     └───┘ ░ »\n",
       "c: 2/═════════════════════════════════════════════════════════════════════════»\n",
       "                                                                              »\n",
       "«           \n",
       "«q_0: ──────\n",
       "«           \n",
       "«q_1: ──────\n",
       "«           \n",
       "«q_2: ──────\n",
       "«           \n",
       "«q_3: ──────\n",
       "«     ┌─┐   \n",
       "«q_4: ┤M├───\n",
       "«     └╥┘   \n",
       "«q_5: ─╫────\n",
       "«      ║    \n",
       "«q_6: ─╫────\n",
       "«      ║ ┌─┐\n",
       "«q_7: ─╫─┤M├\n",
       "«      ║ └╥┘\n",
       "«c: 2/═╩══╩═\n",
       "«      0  1 "
      ]
     },
     "metadata": {},
     "output_type": "display_data"
    },
    {
     "name": "stdout",
     "output_type": "stream",
     "text": [
      "\n",
      "\n"
     ]
    }
   ],
   "source": [
    "#FULL_ADDER\n",
    "def fulladder(inp1,inp2,inp3):\n",
    "    qc=QuantumCircuit(8,2)\n",
    "    qc.reset(range(8))\n",
    "    if inp1=='1':\n",
    "        qc.x(0)\n",
    "    if inp2=='1':\n",
    "        qc.x(1)\n",
    "    if inp3=='1':\n",
    "        qc.x(3)\n",
    "    qc.barrier()\n",
    "    qc.cx(0,2)\n",
    "    qc.cx(1,2)\n",
    "    qc.barrier()\n",
    "    qc.cx(2,4)\n",
    "    qc.cx(3,4)\n",
    "    qc.barrier()\n",
    "    qc.ccx(2,3,5)\n",
    "    qc.barrier()\n",
    "    qc.ccx(0,1,6)\n",
    "    \n",
    "    qc.barrier()\n",
    "    qc.cx(6,7)\n",
    "    qc.cx(5,6)\n",
    "    qc.ccx(5,6,7)\n",
    "    qc.barrier()\n",
    "    qc.measure(4,0)\n",
    "    qc.measure(7,1)\n",
    "    backend = Aer.get_backend('aer_simulator')\n",
    "    job = backend.run(qc, shots=1, memory=True)\n",
    "    output=job.result().get_memory()[0]\n",
    "    return qc,output\n",
    "for inp1 in ['0','1']:\n",
    "    for inp2 in ['0','1']:\n",
    "        for inp3 in ['0','1']:\n",
    "            qc,output=fulladder(inp1,inp2,inp3)\n",
    "            print(\"fulladder with input\",inp1,inp2,inp3,\"gives output\",output)\n",
    "            display(qc.draw())\n",
    "            print('\\n')"
   ]
  },
  {
   "cell_type": "code",
   "execution_count": 10,
   "metadata": {},
   "outputs": [
    {
     "name": "stdout",
     "output_type": "stream",
     "text": [
      "encode with input 0 0 0 0 gives output 00\n"
     ]
    },
    {
     "data": {
      "text/html": [
       "<pre style=\"word-wrap: normal;white-space: pre;background: #fff0;line-height: 1.1;font-family: &quot;Courier New&quot;,Courier,monospace\">           ░                 ░                 ░            \n",
       "q_0: ─|0>──░────────■────■───░────────■────■───░────────────\n",
       "           ░      ┌─┴─┐  │   ░        │    │   ░            \n",
       "q_1: ─|0>──░───■──┤ X ├──■───░────────┼────┼───░────────────\n",
       "           ░ ┌─┴─┐└───┘┌─┴─┐ ░        │    │   ░      ┌─┐   \n",
       "q_2: ─|0>──░─┤ X ├─────┤ X ├─░────────┼────┼───░──────┤M├───\n",
       "           ░ └───┘     └───┘ ░      ┌─┴─┐  │   ░      └╥┘   \n",
       "q_3: ─|0>──░─────────────────░───■──┤ X ├──■───░───────╫────\n",
       "           ░                 ░ ┌─┴─┐└───┘┌─┴─┐ ░       ║ ┌─┐\n",
       "q_4: ─|0>──░─────────────────░─┤ X ├─────┤ X ├─░───────╫─┤M├\n",
       "           ░                 ░ └───┘     └───┘ ░ ┌───┐ ║ └╥┘\n",
       "q_5: ─|0>──░─────────────────░─────────────────░─┤ X ├─╫──╫─\n",
       "           ░                 ░                 ░ └───┘ ║  ║ \n",
       "c: 2/══════════════════════════════════════════════════╩══╩═\n",
       "                                                       0  1 </pre>"
      ],
      "text/plain": [
       "           ░                 ░                 ░            \n",
       "q_0: ─|0>──░────────■────■───░────────■────■───░────────────\n",
       "           ░      ┌─┴─┐  │   ░        │    │   ░            \n",
       "q_1: ─|0>──░───■──┤ X ├──■───░────────┼────┼───░────────────\n",
       "           ░ ┌─┴─┐└───┘┌─┴─┐ ░        │    │   ░      ┌─┐   \n",
       "q_2: ─|0>──░─┤ X ├─────┤ X ├─░────────┼────┼───░──────┤M├───\n",
       "           ░ └───┘     └───┘ ░      ┌─┴─┐  │   ░      └╥┘   \n",
       "q_3: ─|0>──░─────────────────░───■──┤ X ├──■───░───────╫────\n",
       "           ░                 ░ ┌─┴─┐└───┘┌─┴─┐ ░       ║ ┌─┐\n",
       "q_4: ─|0>──░─────────────────░─┤ X ├─────┤ X ├─░───────╫─┤M├\n",
       "           ░                 ░ └───┘     └───┘ ░ ┌───┐ ║ └╥┘\n",
       "q_5: ─|0>──░─────────────────░─────────────────░─┤ X ├─╫──╫─\n",
       "           ░                 ░                 ░ └───┘ ║  ║ \n",
       "c: 2/══════════════════════════════════════════════════╩══╩═\n",
       "                                                       0  1 "
      ]
     },
     "metadata": {},
     "output_type": "display_data"
    },
    {
     "name": "stdout",
     "output_type": "stream",
     "text": [
      "\n",
      "\n",
      "encode with input 0 0 1 0 gives output 10\n"
     ]
    },
    {
     "data": {
      "text/html": [
       "<pre style=\"word-wrap: normal;white-space: pre;background: #fff0;line-height: 1.1;font-family: &quot;Courier New&quot;,Courier,monospace\">                ░                 ░                 ░            \n",
       "q_0: ─|0>───────░────────■────■───░────────■────■───░────────────\n",
       "                ░      ┌─┴─┐  │   ░        │    │   ░            \n",
       "q_1: ─|0>───────░───■──┤ X ├──■───░────────┼────┼───░────────────\n",
       "                ░ ┌─┴─┐└───┘┌─┴─┐ ░        │    │   ░      ┌─┐   \n",
       "q_2: ─|0>───────░─┤ X ├─────┤ X ├─░────────┼────┼───░──────┤M├───\n",
       "          ┌───┐ ░ └───┘     └───┘ ░      ┌─┴─┐  │   ░      └╥┘   \n",
       "q_3: ─|0>─┤ X ├─░─────────────────░───■──┤ X ├──■───░───────╫────\n",
       "          └───┘ ░                 ░ ┌─┴─┐└───┘┌─┴─┐ ░       ║ ┌─┐\n",
       "q_4: ─|0>───────░─────────────────░─┤ X ├─────┤ X ├─░───────╫─┤M├\n",
       "                ░                 ░ └───┘     └───┘ ░ ┌───┐ ║ └╥┘\n",
       "q_5: ─|0>───────░─────────────────░─────────────────░─┤ X ├─╫──╫─\n",
       "                ░                 ░                 ░ └───┘ ║  ║ \n",
       "c: 2/═══════════════════════════════════════════════════════╩══╩═\n",
       "                                                            0  1 </pre>"
      ],
      "text/plain": [
       "                ░                 ░                 ░            \n",
       "q_0: ─|0>───────░────────■────■───░────────■────■───░────────────\n",
       "                ░      ┌─┴─┐  │   ░        │    │   ░            \n",
       "q_1: ─|0>───────░───■──┤ X ├──■───░────────┼────┼───░────────────\n",
       "                ░ ┌─┴─┐└───┘┌─┴─┐ ░        │    │   ░      ┌─┐   \n",
       "q_2: ─|0>───────░─┤ X ├─────┤ X ├─░────────┼────┼───░──────┤M├───\n",
       "          ┌───┐ ░ └───┘     └───┘ ░      ┌─┴─┐  │   ░      └╥┘   \n",
       "q_3: ─|0>─┤ X ├─░─────────────────░───■──┤ X ├──■───░───────╫────\n",
       "          └───┘ ░                 ░ ┌─┴─┐└───┘┌─┴─┐ ░       ║ ┌─┐\n",
       "q_4: ─|0>───────░─────────────────░─┤ X ├─────┤ X ├─░───────╫─┤M├\n",
       "                ░                 ░ └───┘     └───┘ ░ ┌───┐ ║ └╥┘\n",
       "q_5: ─|0>───────░─────────────────░─────────────────░─┤ X ├─╫──╫─\n",
       "                ░                 ░                 ░ └───┘ ║  ║ \n",
       "c: 2/═══════════════════════════════════════════════════════╩══╩═\n",
       "                                                            0  1 "
      ]
     },
     "metadata": {},
     "output_type": "display_data"
    },
    {
     "name": "stdout",
     "output_type": "stream",
     "text": [
      "\n",
      "\n",
      "encode with input 0 1 0 0 gives output 01\n"
     ]
    },
    {
     "data": {
      "text/html": [
       "<pre style=\"word-wrap: normal;white-space: pre;background: #fff0;line-height: 1.1;font-family: &quot;Courier New&quot;,Courier,monospace\">                ░                 ░                 ░            \n",
       "q_0: ─|0>───────░────────■────■───░────────■────■───░────────────\n",
       "          ┌───┐ ░      ┌─┴─┐  │   ░        │    │   ░            \n",
       "q_1: ─|0>─┤ X ├─░───■──┤ X ├──■───░────────┼────┼───░────────────\n",
       "          └───┘ ░ ┌─┴─┐└───┘┌─┴─┐ ░        │    │   ░      ┌─┐   \n",
       "q_2: ─|0>───────░─┤ X ├─────┤ X ├─░────────┼────┼───░──────┤M├───\n",
       "                ░ └───┘     └───┘ ░      ┌─┴─┐  │   ░      └╥┘   \n",
       "q_3: ─|0>───────░─────────────────░───■──┤ X ├──■───░───────╫────\n",
       "                ░                 ░ ┌─┴─┐└───┘┌─┴─┐ ░       ║ ┌─┐\n",
       "q_4: ─|0>───────░─────────────────░─┤ X ├─────┤ X ├─░───────╫─┤M├\n",
       "                ░                 ░ └───┘     └───┘ ░ ┌───┐ ║ └╥┘\n",
       "q_5: ─|0>───────░─────────────────░─────────────────░─┤ X ├─╫──╫─\n",
       "                ░                 ░                 ░ └───┘ ║  ║ \n",
       "c: 2/═══════════════════════════════════════════════════════╩══╩═\n",
       "                                                            0  1 </pre>"
      ],
      "text/plain": [
       "                ░                 ░                 ░            \n",
       "q_0: ─|0>───────░────────■────■───░────────■────■───░────────────\n",
       "          ┌───┐ ░      ┌─┴─┐  │   ░        │    │   ░            \n",
       "q_1: ─|0>─┤ X ├─░───■──┤ X ├──■───░────────┼────┼───░────────────\n",
       "          └───┘ ░ ┌─┴─┐└───┘┌─┴─┐ ░        │    │   ░      ┌─┐   \n",
       "q_2: ─|0>───────░─┤ X ├─────┤ X ├─░────────┼────┼───░──────┤M├───\n",
       "                ░ └───┘     └───┘ ░      ┌─┴─┐  │   ░      └╥┘   \n",
       "q_3: ─|0>───────░─────────────────░───■──┤ X ├──■───░───────╫────\n",
       "                ░                 ░ ┌─┴─┐└───┘┌─┴─┐ ░       ║ ┌─┐\n",
       "q_4: ─|0>───────░─────────────────░─┤ X ├─────┤ X ├─░───────╫─┤M├\n",
       "                ░                 ░ └───┘     └───┘ ░ ┌───┐ ║ └╥┘\n",
       "q_5: ─|0>───────░─────────────────░─────────────────░─┤ X ├─╫──╫─\n",
       "                ░                 ░                 ░ └───┘ ║  ║ \n",
       "c: 2/═══════════════════════════════════════════════════════╩══╩═\n",
       "                                                            0  1 "
      ]
     },
     "metadata": {},
     "output_type": "display_data"
    },
    {
     "name": "stdout",
     "output_type": "stream",
     "text": [
      "\n",
      "\n",
      "encode with input 0 1 1 0 gives output 11\n"
     ]
    },
    {
     "data": {
      "text/html": [
       "<pre style=\"word-wrap: normal;white-space: pre;background: #fff0;line-height: 1.1;font-family: &quot;Courier New&quot;,Courier,monospace\">                ░                 ░                 ░            \n",
       "q_0: ─|0>───────░────────■────■───░────────■────■───░────────────\n",
       "          ┌───┐ ░      ┌─┴─┐  │   ░        │    │   ░            \n",
       "q_1: ─|0>─┤ X ├─░───■──┤ X ├──■───░────────┼────┼───░────────────\n",
       "          └───┘ ░ ┌─┴─┐└───┘┌─┴─┐ ░        │    │   ░      ┌─┐   \n",
       "q_2: ─|0>───────░─┤ X ├─────┤ X ├─░────────┼────┼───░──────┤M├───\n",
       "          ┌───┐ ░ └───┘     └───┘ ░      ┌─┴─┐  │   ░      └╥┘   \n",
       "q_3: ─|0>─┤ X ├─░─────────────────░───■──┤ X ├──■───░───────╫────\n",
       "          └───┘ ░                 ░ ┌─┴─┐└───┘┌─┴─┐ ░       ║ ┌─┐\n",
       "q_4: ─|0>───────░─────────────────░─┤ X ├─────┤ X ├─░───────╫─┤M├\n",
       "                ░                 ░ └───┘     └───┘ ░ ┌───┐ ║ └╥┘\n",
       "q_5: ─|0>───────░─────────────────░─────────────────░─┤ X ├─╫──╫─\n",
       "                ░                 ░                 ░ └───┘ ║  ║ \n",
       "c: 2/═══════════════════════════════════════════════════════╩══╩═\n",
       "                                                            0  1 </pre>"
      ],
      "text/plain": [
       "                ░                 ░                 ░            \n",
       "q_0: ─|0>───────░────────■────■───░────────■────■───░────────────\n",
       "          ┌───┐ ░      ┌─┴─┐  │   ░        │    │   ░            \n",
       "q_1: ─|0>─┤ X ├─░───■──┤ X ├──■───░────────┼────┼───░────────────\n",
       "          └───┘ ░ ┌─┴─┐└───┘┌─┴─┐ ░        │    │   ░      ┌─┐   \n",
       "q_2: ─|0>───────░─┤ X ├─────┤ X ├─░────────┼────┼───░──────┤M├───\n",
       "          ┌───┐ ░ └───┘     └───┘ ░      ┌─┴─┐  │   ░      └╥┘   \n",
       "q_3: ─|0>─┤ X ├─░─────────────────░───■──┤ X ├──■───░───────╫────\n",
       "          └───┘ ░                 ░ ┌─┴─┐└───┘┌─┴─┐ ░       ║ ┌─┐\n",
       "q_4: ─|0>───────░─────────────────░─┤ X ├─────┤ X ├─░───────╫─┤M├\n",
       "                ░                 ░ └───┘     └───┘ ░ ┌───┐ ║ └╥┘\n",
       "q_5: ─|0>───────░─────────────────░─────────────────░─┤ X ├─╫──╫─\n",
       "                ░                 ░                 ░ └───┘ ║  ║ \n",
       "c: 2/═══════════════════════════════════════════════════════╩══╩═\n",
       "                                                            0  1 "
      ]
     },
     "metadata": {},
     "output_type": "display_data"
    },
    {
     "name": "stdout",
     "output_type": "stream",
     "text": [
      "\n",
      "\n",
      "encode with input 1 0 0 0 gives output 11\n"
     ]
    },
    {
     "data": {
      "text/html": [
       "<pre style=\"word-wrap: normal;white-space: pre;background: #fff0;line-height: 1.1;font-family: &quot;Courier New&quot;,Courier,monospace\">          ┌───┐ ░                 ░                 ░            \n",
       "q_0: ─|0>─┤ X ├─░────────■────■───░────────■────■───░────────────\n",
       "          └───┘ ░      ┌─┴─┐  │   ░        │    │   ░            \n",
       "q_1: ─|0>───────░───■──┤ X ├──■───░────────┼────┼───░────────────\n",
       "                ░ ┌─┴─┐└───┘┌─┴─┐ ░        │    │   ░      ┌─┐   \n",
       "q_2: ─|0>───────░─┤ X ├─────┤ X ├─░────────┼────┼───░──────┤M├───\n",
       "                ░ └───┘     └───┘ ░      ┌─┴─┐  │   ░      └╥┘   \n",
       "q_3: ─|0>───────░─────────────────░───■──┤ X ├──■───░───────╫────\n",
       "                ░                 ░ ┌─┴─┐└───┘┌─┴─┐ ░       ║ ┌─┐\n",
       "q_4: ─|0>───────░─────────────────░─┤ X ├─────┤ X ├─░───────╫─┤M├\n",
       "                ░                 ░ └───┘     └───┘ ░ ┌───┐ ║ └╥┘\n",
       "q_5: ─|0>───────░─────────────────░─────────────────░─┤ X ├─╫──╫─\n",
       "                ░                 ░                 ░ └───┘ ║  ║ \n",
       "c: 2/═══════════════════════════════════════════════════════╩══╩═\n",
       "                                                            0  1 </pre>"
      ],
      "text/plain": [
       "          ┌───┐ ░                 ░                 ░            \n",
       "q_0: ─|0>─┤ X ├─░────────■────■───░────────■────■───░────────────\n",
       "          └───┘ ░      ┌─┴─┐  │   ░        │    │   ░            \n",
       "q_1: ─|0>───────░───■──┤ X ├──■───░────────┼────┼───░────────────\n",
       "                ░ ┌─┴─┐└───┘┌─┴─┐ ░        │    │   ░      ┌─┐   \n",
       "q_2: ─|0>───────░─┤ X ├─────┤ X ├─░────────┼────┼───░──────┤M├───\n",
       "                ░ └───┘     └───┘ ░      ┌─┴─┐  │   ░      └╥┘   \n",
       "q_3: ─|0>───────░─────────────────░───■──┤ X ├──■───░───────╫────\n",
       "                ░                 ░ ┌─┴─┐└───┘┌─┴─┐ ░       ║ ┌─┐\n",
       "q_4: ─|0>───────░─────────────────░─┤ X ├─────┤ X ├─░───────╫─┤M├\n",
       "                ░                 ░ └───┘     └───┘ ░ ┌───┐ ║ └╥┘\n",
       "q_5: ─|0>───────░─────────────────░─────────────────░─┤ X ├─╫──╫─\n",
       "                ░                 ░                 ░ └───┘ ║  ║ \n",
       "c: 2/═══════════════════════════════════════════════════════╩══╩═\n",
       "                                                            0  1 "
      ]
     },
     "metadata": {},
     "output_type": "display_data"
    },
    {
     "name": "stdout",
     "output_type": "stream",
     "text": [
      "\n",
      "\n",
      "encode with input 1 0 1 0 gives output 11\n"
     ]
    },
    {
     "data": {
      "text/html": [
       "<pre style=\"word-wrap: normal;white-space: pre;background: #fff0;line-height: 1.1;font-family: &quot;Courier New&quot;,Courier,monospace\">          ┌───┐ ░                 ░                 ░            \n",
       "q_0: ─|0>─┤ X ├─░────────■────■───░────────■────■───░────────────\n",
       "          └───┘ ░      ┌─┴─┐  │   ░        │    │   ░            \n",
       "q_1: ─|0>───────░───■──┤ X ├──■───░────────┼────┼───░────────────\n",
       "                ░ ┌─┴─┐└───┘┌─┴─┐ ░        │    │   ░      ┌─┐   \n",
       "q_2: ─|0>───────░─┤ X ├─────┤ X ├─░────────┼────┼───░──────┤M├───\n",
       "          ┌───┐ ░ └───┘     └───┘ ░      ┌─┴─┐  │   ░      └╥┘   \n",
       "q_3: ─|0>─┤ X ├─░─────────────────░───■──┤ X ├──■───░───────╫────\n",
       "          └───┘ ░                 ░ ┌─┴─┐└───┘┌─┴─┐ ░       ║ ┌─┐\n",
       "q_4: ─|0>───────░─────────────────░─┤ X ├─────┤ X ├─░───────╫─┤M├\n",
       "                ░                 ░ └───┘     └───┘ ░ ┌───┐ ║ └╥┘\n",
       "q_5: ─|0>───────░─────────────────░─────────────────░─┤ X ├─╫──╫─\n",
       "                ░                 ░                 ░ └───┘ ║  ║ \n",
       "c: 2/═══════════════════════════════════════════════════════╩══╩═\n",
       "                                                            0  1 </pre>"
      ],
      "text/plain": [
       "          ┌───┐ ░                 ░                 ░            \n",
       "q_0: ─|0>─┤ X ├─░────────■────■───░────────■────■───░────────────\n",
       "          └───┘ ░      ┌─┴─┐  │   ░        │    │   ░            \n",
       "q_1: ─|0>───────░───■──┤ X ├──■───░────────┼────┼───░────────────\n",
       "                ░ ┌─┴─┐└───┘┌─┴─┐ ░        │    │   ░      ┌─┐   \n",
       "q_2: ─|0>───────░─┤ X ├─────┤ X ├─░────────┼────┼───░──────┤M├───\n",
       "          ┌───┐ ░ └───┘     └───┘ ░      ┌─┴─┐  │   ░      └╥┘   \n",
       "q_3: ─|0>─┤ X ├─░─────────────────░───■──┤ X ├──■───░───────╫────\n",
       "          └───┘ ░                 ░ ┌─┴─┐└───┘┌─┴─┐ ░       ║ ┌─┐\n",
       "q_4: ─|0>───────░─────────────────░─┤ X ├─────┤ X ├─░───────╫─┤M├\n",
       "                ░                 ░ └───┘     └───┘ ░ ┌───┐ ║ └╥┘\n",
       "q_5: ─|0>───────░─────────────────░─────────────────░─┤ X ├─╫──╫─\n",
       "                ░                 ░                 ░ └───┘ ║  ║ \n",
       "c: 2/═══════════════════════════════════════════════════════╩══╩═\n",
       "                                                            0  1 "
      ]
     },
     "metadata": {},
     "output_type": "display_data"
    },
    {
     "name": "stdout",
     "output_type": "stream",
     "text": [
      "\n",
      "\n",
      "encode with input 1 1 0 0 gives output 11\n"
     ]
    },
    {
     "data": {
      "text/html": [
       "<pre style=\"word-wrap: normal;white-space: pre;background: #fff0;line-height: 1.1;font-family: &quot;Courier New&quot;,Courier,monospace\">          ┌───┐ ░                 ░                 ░            \n",
       "q_0: ─|0>─┤ X ├─░────────■────■───░────────■────■───░────────────\n",
       "          ├───┤ ░      ┌─┴─┐  │   ░        │    │   ░            \n",
       "q_1: ─|0>─┤ X ├─░───■──┤ X ├──■───░────────┼────┼───░────────────\n",
       "          └───┘ ░ ┌─┴─┐└───┘┌─┴─┐ ░        │    │   ░      ┌─┐   \n",
       "q_2: ─|0>───────░─┤ X ├─────┤ X ├─░────────┼────┼───░──────┤M├───\n",
       "                ░ └───┘     └───┘ ░      ┌─┴─┐  │   ░      └╥┘   \n",
       "q_3: ─|0>───────░─────────────────░───■──┤ X ├──■───░───────╫────\n",
       "                ░                 ░ ┌─┴─┐└───┘┌─┴─┐ ░       ║ ┌─┐\n",
       "q_4: ─|0>───────░─────────────────░─┤ X ├─────┤ X ├─░───────╫─┤M├\n",
       "                ░                 ░ └───┘     └───┘ ░ ┌───┐ ║ └╥┘\n",
       "q_5: ─|0>───────░─────────────────░─────────────────░─┤ X ├─╫──╫─\n",
       "                ░                 ░                 ░ └───┘ ║  ║ \n",
       "c: 2/═══════════════════════════════════════════════════════╩══╩═\n",
       "                                                            0  1 </pre>"
      ],
      "text/plain": [
       "          ┌───┐ ░                 ░                 ░            \n",
       "q_0: ─|0>─┤ X ├─░────────■────■───░────────■────■───░────────────\n",
       "          ├───┤ ░      ┌─┴─┐  │   ░        │    │   ░            \n",
       "q_1: ─|0>─┤ X ├─░───■──┤ X ├──■───░────────┼────┼───░────────────\n",
       "          └───┘ ░ ┌─┴─┐└───┘┌─┴─┐ ░        │    │   ░      ┌─┐   \n",
       "q_2: ─|0>───────░─┤ X ├─────┤ X ├─░────────┼────┼───░──────┤M├───\n",
       "                ░ └───┘     └───┘ ░      ┌─┴─┐  │   ░      └╥┘   \n",
       "q_3: ─|0>───────░─────────────────░───■──┤ X ├──■───░───────╫────\n",
       "                ░                 ░ ┌─┴─┐└───┘┌─┴─┐ ░       ║ ┌─┐\n",
       "q_4: ─|0>───────░─────────────────░─┤ X ├─────┤ X ├─░───────╫─┤M├\n",
       "                ░                 ░ └───┘     └───┘ ░ ┌───┐ ║ └╥┘\n",
       "q_5: ─|0>───────░─────────────────░─────────────────░─┤ X ├─╫──╫─\n",
       "                ░                 ░                 ░ └───┘ ║  ║ \n",
       "c: 2/═══════════════════════════════════════════════════════╩══╩═\n",
       "                                                            0  1 "
      ]
     },
     "metadata": {},
     "output_type": "display_data"
    },
    {
     "name": "stdout",
     "output_type": "stream",
     "text": [
      "\n",
      "\n",
      "encode with input 1 1 1 0 gives output 11\n"
     ]
    },
    {
     "data": {
      "text/html": [
       "<pre style=\"word-wrap: normal;white-space: pre;background: #fff0;line-height: 1.1;font-family: &quot;Courier New&quot;,Courier,monospace\">          ┌───┐ ░                 ░                 ░            \n",
       "q_0: ─|0>─┤ X ├─░────────■────■───░────────■────■───░────────────\n",
       "          ├───┤ ░      ┌─┴─┐  │   ░        │    │   ░            \n",
       "q_1: ─|0>─┤ X ├─░───■──┤ X ├──■───░────────┼────┼───░────────────\n",
       "          └───┘ ░ ┌─┴─┐└───┘┌─┴─┐ ░        │    │   ░      ┌─┐   \n",
       "q_2: ─|0>───────░─┤ X ├─────┤ X ├─░────────┼────┼───░──────┤M├───\n",
       "          ┌───┐ ░ └───┘     └───┘ ░      ┌─┴─┐  │   ░      └╥┘   \n",
       "q_3: ─|0>─┤ X ├─░─────────────────░───■──┤ X ├──■───░───────╫────\n",
       "          └───┘ ░                 ░ ┌─┴─┐└───┘┌─┴─┐ ░       ║ ┌─┐\n",
       "q_4: ─|0>───────░─────────────────░─┤ X ├─────┤ X ├─░───────╫─┤M├\n",
       "                ░                 ░ └───┘     └───┘ ░ ┌───┐ ║ └╥┘\n",
       "q_5: ─|0>───────░─────────────────░─────────────────░─┤ X ├─╫──╫─\n",
       "                ░                 ░                 ░ └───┘ ║  ║ \n",
       "c: 2/═══════════════════════════════════════════════════════╩══╩═\n",
       "                                                            0  1 </pre>"
      ],
      "text/plain": [
       "          ┌───┐ ░                 ░                 ░            \n",
       "q_0: ─|0>─┤ X ├─░────────■────■───░────────■────■───░────────────\n",
       "          ├───┤ ░      ┌─┴─┐  │   ░        │    │   ░            \n",
       "q_1: ─|0>─┤ X ├─░───■──┤ X ├──■───░────────┼────┼───░────────────\n",
       "          └───┘ ░ ┌─┴─┐└───┘┌─┴─┐ ░        │    │   ░      ┌─┐   \n",
       "q_2: ─|0>───────░─┤ X ├─────┤ X ├─░────────┼────┼───░──────┤M├───\n",
       "          ┌───┐ ░ └───┘     └───┘ ░      ┌─┴─┐  │   ░      └╥┘   \n",
       "q_3: ─|0>─┤ X ├─░─────────────────░───■──┤ X ├──■───░───────╫────\n",
       "          └───┘ ░                 ░ ┌─┴─┐└───┘┌─┴─┐ ░       ║ ┌─┐\n",
       "q_4: ─|0>───────░─────────────────░─┤ X ├─────┤ X ├─░───────╫─┤M├\n",
       "                ░                 ░ └───┘     └───┘ ░ ┌───┐ ║ └╥┘\n",
       "q_5: ─|0>───────░─────────────────░─────────────────░─┤ X ├─╫──╫─\n",
       "                ░                 ░                 ░ └───┘ ║  ║ \n",
       "c: 2/═══════════════════════════════════════════════════════╩══╩═\n",
       "                                                            0  1 "
      ]
     },
     "metadata": {},
     "output_type": "display_data"
    },
    {
     "name": "stdout",
     "output_type": "stream",
     "text": [
      "\n",
      "\n"
     ]
    }
   ],
   "source": [
    "#4_2_ENCODER\n",
    "def encoder42(inp1,inp2,inp3,inp4):\n",
    "    qc=QuantumCircuit(6,2)\n",
    "    qc.reset(range(6))\n",
    "    if inp1=='1':\n",
    "        qc.x(0)\n",
    "    if inp2=='1':\n",
    "        qc.x(1)\n",
    "    if inp3=='1':\n",
    "        qc.x(3)\n",
    "    if inp4=='1':\n",
    "        qc.x(5)\n",
    "    \n",
    "    qc.barrier()\n",
    "    qc.cx(1,2)\n",
    "    qc.cx(0,1)\n",
    "    qc.ccx(0,1,2)\n",
    "    qc.barrier()\n",
    "    \n",
    "    \n",
    "    qc.cx(3,4)\n",
    "    qc.cx(0,3)\n",
    "    qc.ccx(0,3,4)\n",
    "    \n",
    "    qc.barrier()\n",
    "    qc.x([5])\n",
    "\n",
    "    qc.measure(2,0)\n",
    "    qc.measure(4,1)\n",
    "    backend = Aer.get_backend('aer_simulator')\n",
    "    job = backend.run(qc, shots=1, memory=True)\n",
    "    output=job.result().get_memory()[0]\n",
    "    return qc,output\n",
    "for inp1 in ['0','1']:\n",
    "    for inp2 in ['0','1']:\n",
    "        for inp3 in ['0','1']:\n",
    "            for inp4 in ['0']:\n",
    "                qc,output=encoder42(inp1,inp2,inp3,inp4)\n",
    "                print(\"encode with input\",inp1,inp2,inp3,inp4,\"gives output\",output)\n",
    "                display(qc.draw())\n",
    "                print('\\n')"
   ]
  },
  {
   "cell_type": "code",
   "execution_count": 11,
   "metadata": {},
   "outputs": [
    {
     "name": "stdout",
     "output_type": "stream",
     "text": [
      "decoder with input 0 0 0 gives output 0\n"
     ]
    },
    {
     "data": {
      "text/html": [
       "<pre style=\"word-wrap: normal;white-space: pre;background: #fff0;line-height: 1.1;font-family: &quot;Courier New&quot;,Courier,monospace\">           ░ ┌───┐ ░       ░ ┌───┐      ░                 ░    \n",
       "q_0: ─|0>──░─┤ X ├─░───■───░─┤ X ├──■───░─────────────────░────\n",
       "           ░ └───┘ ░   │   ░ └───┘  │   ░                 ░    \n",
       "q_1: ─|0>──░───────░───■───░────────┼───░─────────────────░────\n",
       "           ░       ░ ┌─┴─┐ ░        │   ░                 ░    \n",
       "q_2: ─|0>──░───────░─┤ X ├─░────────┼───░────────■────■───░────\n",
       "           ░       ░ └───┘ ░        │   ░        │    │   ░    \n",
       "q_3: ─|0>──░───────░───────░────────■───░────────┼────┼───░────\n",
       "           ░       ░       ░      ┌─┴─┐ ░      ┌─┴─┐  │   ░    \n",
       "q_4: ─|0>──░───────░───────░──────┤ X ├─░───■──┤ X ├──■───░────\n",
       "           ░       ░       ░      └───┘ ░ ┌─┴─┐└───┘┌─┴─┐ ░ ┌─┐\n",
       "q_5: ─|0>──░───────░───────░────────────░─┤ X ├─────┤ X ├─░─┤M├\n",
       "           ░       ░       ░            ░ └───┘     └───┘ ░ └╥┘\n",
       "c: 1/════════════════════════════════════════════════════════╩═\n",
       "                                                             0 </pre>"
      ],
      "text/plain": [
       "           ░ ┌───┐ ░       ░ ┌───┐      ░                 ░    \n",
       "q_0: ─|0>──░─┤ X ├─░───■───░─┤ X ├──■───░─────────────────░────\n",
       "           ░ └───┘ ░   │   ░ └───┘  │   ░                 ░    \n",
       "q_1: ─|0>──░───────░───■───░────────┼───░─────────────────░────\n",
       "           ░       ░ ┌─┴─┐ ░        │   ░                 ░    \n",
       "q_2: ─|0>──░───────░─┤ X ├─░────────┼───░────────■────■───░────\n",
       "           ░       ░ └───┘ ░        │   ░        │    │   ░    \n",
       "q_3: ─|0>──░───────░───────░────────■───░────────┼────┼───░────\n",
       "           ░       ░       ░      ┌─┴─┐ ░      ┌─┴─┐  │   ░    \n",
       "q_4: ─|0>──░───────░───────░──────┤ X ├─░───■──┤ X ├──■───░────\n",
       "           ░       ░       ░      └───┘ ░ ┌─┴─┐└───┘┌─┴─┐ ░ ┌─┐\n",
       "q_5: ─|0>──░───────░───────░────────────░─┤ X ├─────┤ X ├─░─┤M├\n",
       "           ░       ░       ░            ░ └───┘     └───┘ ░ └╥┘\n",
       "c: 1/════════════════════════════════════════════════════════╩═\n",
       "                                                             0 "
      ]
     },
     "metadata": {},
     "output_type": "display_data"
    },
    {
     "name": "stdout",
     "output_type": "stream",
     "text": [
      "\n",
      "\n",
      "decoder with input 0 0 1 gives output 0\n"
     ]
    },
    {
     "data": {
      "text/html": [
       "<pre style=\"word-wrap: normal;white-space: pre;background: #fff0;line-height: 1.1;font-family: &quot;Courier New&quot;,Courier,monospace\">                ░ ┌───┐ ░       ░ ┌───┐      ░                 ░    \n",
       "q_0: ─|0>───────░─┤ X ├─░───■───░─┤ X ├──■───░─────────────────░────\n",
       "                ░ └───┘ ░   │   ░ └───┘  │   ░                 ░    \n",
       "q_1: ─|0>───────░───────░───■───░────────┼───░─────────────────░────\n",
       "                ░       ░ ┌─┴─┐ ░        │   ░                 ░    \n",
       "q_2: ─|0>───────░───────░─┤ X ├─░────────┼───░────────■────■───░────\n",
       "          ┌───┐ ░       ░ └───┘ ░        │   ░        │    │   ░    \n",
       "q_3: ─|0>─┤ X ├─░───────░───────░────────■───░────────┼────┼───░────\n",
       "          └───┘ ░       ░       ░      ┌─┴─┐ ░      ┌─┴─┐  │   ░    \n",
       "q_4: ─|0>───────░───────░───────░──────┤ X ├─░───■──┤ X ├──■───░────\n",
       "                ░       ░       ░      └───┘ ░ ┌─┴─┐└───┘┌─┴─┐ ░ ┌─┐\n",
       "q_5: ─|0>───────░───────░───────░────────────░─┤ X ├─────┤ X ├─░─┤M├\n",
       "                ░       ░       ░            ░ └───┘     └───┘ ░ └╥┘\n",
       "c: 1/═════════════════════════════════════════════════════════════╩═\n",
       "                                                                  0 </pre>"
      ],
      "text/plain": [
       "                ░ ┌───┐ ░       ░ ┌───┐      ░                 ░    \n",
       "q_0: ─|0>───────░─┤ X ├─░───■───░─┤ X ├──■───░─────────────────░────\n",
       "                ░ └───┘ ░   │   ░ └───┘  │   ░                 ░    \n",
       "q_1: ─|0>───────░───────░───■───░────────┼───░─────────────────░────\n",
       "                ░       ░ ┌─┴─┐ ░        │   ░                 ░    \n",
       "q_2: ─|0>───────░───────░─┤ X ├─░────────┼───░────────■────■───░────\n",
       "          ┌───┐ ░       ░ └───┘ ░        │   ░        │    │   ░    \n",
       "q_3: ─|0>─┤ X ├─░───────░───────░────────■───░────────┼────┼───░────\n",
       "          └───┘ ░       ░       ░      ┌─┴─┐ ░      ┌─┴─┐  │   ░    \n",
       "q_4: ─|0>───────░───────░───────░──────┤ X ├─░───■──┤ X ├──■───░────\n",
       "                ░       ░       ░      └───┘ ░ ┌─┴─┐└───┘┌─┴─┐ ░ ┌─┐\n",
       "q_5: ─|0>───────░───────░───────░────────────░─┤ X ├─────┤ X ├─░─┤M├\n",
       "                ░       ░       ░            ░ └───┘     └───┘ ░ └╥┘\n",
       "c: 1/═════════════════════════════════════════════════════════════╩═\n",
       "                                                                  0 "
      ]
     },
     "metadata": {},
     "output_type": "display_data"
    },
    {
     "name": "stdout",
     "output_type": "stream",
     "text": [
      "\n",
      "\n",
      "decoder with input 0 1 0 gives output 1\n"
     ]
    },
    {
     "data": {
      "text/html": [
       "<pre style=\"word-wrap: normal;white-space: pre;background: #fff0;line-height: 1.1;font-family: &quot;Courier New&quot;,Courier,monospace\">                ░ ┌───┐ ░       ░ ┌───┐      ░                 ░    \n",
       "q_0: ─|0>───────░─┤ X ├─░───■───░─┤ X ├──■───░─────────────────░────\n",
       "          ┌───┐ ░ └───┘ ░   │   ░ └───┘  │   ░                 ░    \n",
       "q_1: ─|0>─┤ X ├─░───────░───■───░────────┼───░─────────────────░────\n",
       "          └───┘ ░       ░ ┌─┴─┐ ░        │   ░                 ░    \n",
       "q_2: ─|0>───────░───────░─┤ X ├─░────────┼───░────────■────■───░────\n",
       "                ░       ░ └───┘ ░        │   ░        │    │   ░    \n",
       "q_3: ─|0>───────░───────░───────░────────■───░────────┼────┼───░────\n",
       "                ░       ░       ░      ┌─┴─┐ ░      ┌─┴─┐  │   ░    \n",
       "q_4: ─|0>───────░───────░───────░──────┤ X ├─░───■──┤ X ├──■───░────\n",
       "                ░       ░       ░      └───┘ ░ ┌─┴─┐└───┘┌─┴─┐ ░ ┌─┐\n",
       "q_5: ─|0>───────░───────░───────░────────────░─┤ X ├─────┤ X ├─░─┤M├\n",
       "                ░       ░       ░            ░ └───┘     └───┘ ░ └╥┘\n",
       "c: 1/═════════════════════════════════════════════════════════════╩═\n",
       "                                                                  0 </pre>"
      ],
      "text/plain": [
       "                ░ ┌───┐ ░       ░ ┌───┐      ░                 ░    \n",
       "q_0: ─|0>───────░─┤ X ├─░───■───░─┤ X ├──■───░─────────────────░────\n",
       "          ┌───┐ ░ └───┘ ░   │   ░ └───┘  │   ░                 ░    \n",
       "q_1: ─|0>─┤ X ├─░───────░───■───░────────┼───░─────────────────░────\n",
       "          └───┘ ░       ░ ┌─┴─┐ ░        │   ░                 ░    \n",
       "q_2: ─|0>───────░───────░─┤ X ├─░────────┼───░────────■────■───░────\n",
       "                ░       ░ └───┘ ░        │   ░        │    │   ░    \n",
       "q_3: ─|0>───────░───────░───────░────────■───░────────┼────┼───░────\n",
       "                ░       ░       ░      ┌─┴─┐ ░      ┌─┴─┐  │   ░    \n",
       "q_4: ─|0>───────░───────░───────░──────┤ X ├─░───■──┤ X ├──■───░────\n",
       "                ░       ░       ░      └───┘ ░ ┌─┴─┐└───┘┌─┴─┐ ░ ┌─┐\n",
       "q_5: ─|0>───────░───────░───────░────────────░─┤ X ├─────┤ X ├─░─┤M├\n",
       "                ░       ░       ░            ░ └───┘     └───┘ ░ └╥┘\n",
       "c: 1/═════════════════════════════════════════════════════════════╩═\n",
       "                                                                  0 "
      ]
     },
     "metadata": {},
     "output_type": "display_data"
    },
    {
     "name": "stdout",
     "output_type": "stream",
     "text": [
      "\n",
      "\n",
      "decoder with input 0 1 1 gives output 1\n"
     ]
    },
    {
     "data": {
      "text/html": [
       "<pre style=\"word-wrap: normal;white-space: pre;background: #fff0;line-height: 1.1;font-family: &quot;Courier New&quot;,Courier,monospace\">                ░ ┌───┐ ░       ░ ┌───┐      ░                 ░    \n",
       "q_0: ─|0>───────░─┤ X ├─░───■───░─┤ X ├──■───░─────────────────░────\n",
       "          ┌───┐ ░ └───┘ ░   │   ░ └───┘  │   ░                 ░    \n",
       "q_1: ─|0>─┤ X ├─░───────░───■───░────────┼───░─────────────────░────\n",
       "          └───┘ ░       ░ ┌─┴─┐ ░        │   ░                 ░    \n",
       "q_2: ─|0>───────░───────░─┤ X ├─░────────┼───░────────■────■───░────\n",
       "          ┌───┐ ░       ░ └───┘ ░        │   ░        │    │   ░    \n",
       "q_3: ─|0>─┤ X ├─░───────░───────░────────■───░────────┼────┼───░────\n",
       "          └───┘ ░       ░       ░      ┌─┴─┐ ░      ┌─┴─┐  │   ░    \n",
       "q_4: ─|0>───────░───────░───────░──────┤ X ├─░───■──┤ X ├──■───░────\n",
       "                ░       ░       ░      └───┘ ░ ┌─┴─┐└───┘┌─┴─┐ ░ ┌─┐\n",
       "q_5: ─|0>───────░───────░───────░────────────░─┤ X ├─────┤ X ├─░─┤M├\n",
       "                ░       ░       ░            ░ └───┘     └───┘ ░ └╥┘\n",
       "c: 1/═════════════════════════════════════════════════════════════╩═\n",
       "                                                                  0 </pre>"
      ],
      "text/plain": [
       "                ░ ┌───┐ ░       ░ ┌───┐      ░                 ░    \n",
       "q_0: ─|0>───────░─┤ X ├─░───■───░─┤ X ├──■───░─────────────────░────\n",
       "          ┌───┐ ░ └───┘ ░   │   ░ └───┘  │   ░                 ░    \n",
       "q_1: ─|0>─┤ X ├─░───────░───■───░────────┼───░─────────────────░────\n",
       "          └───┘ ░       ░ ┌─┴─┐ ░        │   ░                 ░    \n",
       "q_2: ─|0>───────░───────░─┤ X ├─░────────┼───░────────■────■───░────\n",
       "          ┌───┐ ░       ░ └───┘ ░        │   ░        │    │   ░    \n",
       "q_3: ─|0>─┤ X ├─░───────░───────░────────■───░────────┼────┼───░────\n",
       "          └───┘ ░       ░       ░      ┌─┴─┐ ░      ┌─┴─┐  │   ░    \n",
       "q_4: ─|0>───────░───────░───────░──────┤ X ├─░───■──┤ X ├──■───░────\n",
       "                ░       ░       ░      └───┘ ░ ┌─┴─┐└───┘┌─┴─┐ ░ ┌─┐\n",
       "q_5: ─|0>───────░───────░───────░────────────░─┤ X ├─────┤ X ├─░─┤M├\n",
       "                ░       ░       ░            ░ └───┘     └───┘ ░ └╥┘\n",
       "c: 1/═════════════════════════════════════════════════════════════╩═\n",
       "                                                                  0 "
      ]
     },
     "metadata": {},
     "output_type": "display_data"
    },
    {
     "name": "stdout",
     "output_type": "stream",
     "text": [
      "\n",
      "\n",
      "decoder with input 1 0 0 gives output 0\n"
     ]
    },
    {
     "data": {
      "text/html": [
       "<pre style=\"word-wrap: normal;white-space: pre;background: #fff0;line-height: 1.1;font-family: &quot;Courier New&quot;,Courier,monospace\">          ┌───┐ ░ ┌───┐ ░       ░ ┌───┐      ░                 ░    \n",
       "q_0: ─|0>─┤ X ├─░─┤ X ├─░───■───░─┤ X ├──■───░─────────────────░────\n",
       "          └───┘ ░ └───┘ ░   │   ░ └───┘  │   ░                 ░    \n",
       "q_1: ─|0>───────░───────░───■───░────────┼───░─────────────────░────\n",
       "                ░       ░ ┌─┴─┐ ░        │   ░                 ░    \n",
       "q_2: ─|0>───────░───────░─┤ X ├─░────────┼───░────────■────■───░────\n",
       "                ░       ░ └───┘ ░        │   ░        │    │   ░    \n",
       "q_3: ─|0>───────░───────░───────░────────■───░────────┼────┼───░────\n",
       "                ░       ░       ░      ┌─┴─┐ ░      ┌─┴─┐  │   ░    \n",
       "q_4: ─|0>───────░───────░───────░──────┤ X ├─░───■──┤ X ├──■───░────\n",
       "                ░       ░       ░      └───┘ ░ ┌─┴─┐└───┘┌─┴─┐ ░ ┌─┐\n",
       "q_5: ─|0>───────░───────░───────░────────────░─┤ X ├─────┤ X ├─░─┤M├\n",
       "                ░       ░       ░            ░ └───┘     └───┘ ░ └╥┘\n",
       "c: 1/═════════════════════════════════════════════════════════════╩═\n",
       "                                                                  0 </pre>"
      ],
      "text/plain": [
       "          ┌───┐ ░ ┌───┐ ░       ░ ┌───┐      ░                 ░    \n",
       "q_0: ─|0>─┤ X ├─░─┤ X ├─░───■───░─┤ X ├──■───░─────────────────░────\n",
       "          └───┘ ░ └───┘ ░   │   ░ └───┘  │   ░                 ░    \n",
       "q_1: ─|0>───────░───────░───■───░────────┼───░─────────────────░────\n",
       "                ░       ░ ┌─┴─┐ ░        │   ░                 ░    \n",
       "q_2: ─|0>───────░───────░─┤ X ├─░────────┼───░────────■────■───░────\n",
       "                ░       ░ └───┘ ░        │   ░        │    │   ░    \n",
       "q_3: ─|0>───────░───────░───────░────────■───░────────┼────┼───░────\n",
       "                ░       ░       ░      ┌─┴─┐ ░      ┌─┴─┐  │   ░    \n",
       "q_4: ─|0>───────░───────░───────░──────┤ X ├─░───■──┤ X ├──■───░────\n",
       "                ░       ░       ░      └───┘ ░ ┌─┴─┐└───┘┌─┴─┐ ░ ┌─┐\n",
       "q_5: ─|0>───────░───────░───────░────────────░─┤ X ├─────┤ X ├─░─┤M├\n",
       "                ░       ░       ░            ░ └───┘     └───┘ ░ └╥┘\n",
       "c: 1/═════════════════════════════════════════════════════════════╩═\n",
       "                                                                  0 "
      ]
     },
     "metadata": {},
     "output_type": "display_data"
    },
    {
     "name": "stdout",
     "output_type": "stream",
     "text": [
      "\n",
      "\n",
      "decoder with input 1 0 1 gives output 1\n"
     ]
    },
    {
     "data": {
      "text/html": [
       "<pre style=\"word-wrap: normal;white-space: pre;background: #fff0;line-height: 1.1;font-family: &quot;Courier New&quot;,Courier,monospace\">          ┌───┐ ░ ┌───┐ ░       ░ ┌───┐      ░                 ░    \n",
       "q_0: ─|0>─┤ X ├─░─┤ X ├─░───■───░─┤ X ├──■───░─────────────────░────\n",
       "          └───┘ ░ └───┘ ░   │   ░ └───┘  │   ░                 ░    \n",
       "q_1: ─|0>───────░───────░───■───░────────┼───░─────────────────░────\n",
       "                ░       ░ ┌─┴─┐ ░        │   ░                 ░    \n",
       "q_2: ─|0>───────░───────░─┤ X ├─░────────┼───░────────■────■───░────\n",
       "          ┌───┐ ░       ░ └───┘ ░        │   ░        │    │   ░    \n",
       "q_3: ─|0>─┤ X ├─░───────░───────░────────■───░────────┼────┼───░────\n",
       "          └───┘ ░       ░       ░      ┌─┴─┐ ░      ┌─┴─┐  │   ░    \n",
       "q_4: ─|0>───────░───────░───────░──────┤ X ├─░───■──┤ X ├──■───░────\n",
       "                ░       ░       ░      └───┘ ░ ┌─┴─┐└───┘┌─┴─┐ ░ ┌─┐\n",
       "q_5: ─|0>───────░───────░───────░────────────░─┤ X ├─────┤ X ├─░─┤M├\n",
       "                ░       ░       ░            ░ └───┘     └───┘ ░ └╥┘\n",
       "c: 1/═════════════════════════════════════════════════════════════╩═\n",
       "                                                                  0 </pre>"
      ],
      "text/plain": [
       "          ┌───┐ ░ ┌───┐ ░       ░ ┌───┐      ░                 ░    \n",
       "q_0: ─|0>─┤ X ├─░─┤ X ├─░───■───░─┤ X ├──■───░─────────────────░────\n",
       "          └───┘ ░ └───┘ ░   │   ░ └───┘  │   ░                 ░    \n",
       "q_1: ─|0>───────░───────░───■───░────────┼───░─────────────────░────\n",
       "                ░       ░ ┌─┴─┐ ░        │   ░                 ░    \n",
       "q_2: ─|0>───────░───────░─┤ X ├─░────────┼───░────────■────■───░────\n",
       "          ┌───┐ ░       ░ └───┘ ░        │   ░        │    │   ░    \n",
       "q_3: ─|0>─┤ X ├─░───────░───────░────────■───░────────┼────┼───░────\n",
       "          └───┘ ░       ░       ░      ┌─┴─┐ ░      ┌─┴─┐  │   ░    \n",
       "q_4: ─|0>───────░───────░───────░──────┤ X ├─░───■──┤ X ├──■───░────\n",
       "                ░       ░       ░      └───┘ ░ ┌─┴─┐└───┘┌─┴─┐ ░ ┌─┐\n",
       "q_5: ─|0>───────░───────░───────░────────────░─┤ X ├─────┤ X ├─░─┤M├\n",
       "                ░       ░       ░            ░ └───┘     └───┘ ░ └╥┘\n",
       "c: 1/═════════════════════════════════════════════════════════════╩═\n",
       "                                                                  0 "
      ]
     },
     "metadata": {},
     "output_type": "display_data"
    },
    {
     "name": "stdout",
     "output_type": "stream",
     "text": [
      "\n",
      "\n",
      "decoder with input 1 1 0 gives output 0\n"
     ]
    },
    {
     "data": {
      "text/html": [
       "<pre style=\"word-wrap: normal;white-space: pre;background: #fff0;line-height: 1.1;font-family: &quot;Courier New&quot;,Courier,monospace\">          ┌───┐ ░ ┌───┐ ░       ░ ┌───┐      ░                 ░    \n",
       "q_0: ─|0>─┤ X ├─░─┤ X ├─░───■───░─┤ X ├──■───░─────────────────░────\n",
       "          ├───┤ ░ └───┘ ░   │   ░ └───┘  │   ░                 ░    \n",
       "q_1: ─|0>─┤ X ├─░───────░───■───░────────┼───░─────────────────░────\n",
       "          └───┘ ░       ░ ┌─┴─┐ ░        │   ░                 ░    \n",
       "q_2: ─|0>───────░───────░─┤ X ├─░────────┼───░────────■────■───░────\n",
       "                ░       ░ └───┘ ░        │   ░        │    │   ░    \n",
       "q_3: ─|0>───────░───────░───────░────────■───░────────┼────┼───░────\n",
       "                ░       ░       ░      ┌─┴─┐ ░      ┌─┴─┐  │   ░    \n",
       "q_4: ─|0>───────░───────░───────░──────┤ X ├─░───■──┤ X ├──■───░────\n",
       "                ░       ░       ░      └───┘ ░ ┌─┴─┐└───┘┌─┴─┐ ░ ┌─┐\n",
       "q_5: ─|0>───────░───────░───────░────────────░─┤ X ├─────┤ X ├─░─┤M├\n",
       "                ░       ░       ░            ░ └───┘     └───┘ ░ └╥┘\n",
       "c: 1/═════════════════════════════════════════════════════════════╩═\n",
       "                                                                  0 </pre>"
      ],
      "text/plain": [
       "          ┌───┐ ░ ┌───┐ ░       ░ ┌───┐      ░                 ░    \n",
       "q_0: ─|0>─┤ X ├─░─┤ X ├─░───■───░─┤ X ├──■───░─────────────────░────\n",
       "          ├───┤ ░ └───┘ ░   │   ░ └───┘  │   ░                 ░    \n",
       "q_1: ─|0>─┤ X ├─░───────░───■───░────────┼───░─────────────────░────\n",
       "          └───┘ ░       ░ ┌─┴─┐ ░        │   ░                 ░    \n",
       "q_2: ─|0>───────░───────░─┤ X ├─░────────┼───░────────■────■───░────\n",
       "                ░       ░ └───┘ ░        │   ░        │    │   ░    \n",
       "q_3: ─|0>───────░───────░───────░────────■───░────────┼────┼───░────\n",
       "                ░       ░       ░      ┌─┴─┐ ░      ┌─┴─┐  │   ░    \n",
       "q_4: ─|0>───────░───────░───────░──────┤ X ├─░───■──┤ X ├──■───░────\n",
       "                ░       ░       ░      └───┘ ░ ┌─┴─┐└───┘┌─┴─┐ ░ ┌─┐\n",
       "q_5: ─|0>───────░───────░───────░────────────░─┤ X ├─────┤ X ├─░─┤M├\n",
       "                ░       ░       ░            ░ └───┘     └───┘ ░ └╥┘\n",
       "c: 1/═════════════════════════════════════════════════════════════╩═\n",
       "                                                                  0 "
      ]
     },
     "metadata": {},
     "output_type": "display_data"
    },
    {
     "name": "stdout",
     "output_type": "stream",
     "text": [
      "\n",
      "\n",
      "decoder with input 1 1 1 gives output 1\n"
     ]
    },
    {
     "data": {
      "text/html": [
       "<pre style=\"word-wrap: normal;white-space: pre;background: #fff0;line-height: 1.1;font-family: &quot;Courier New&quot;,Courier,monospace\">          ┌───┐ ░ ┌───┐ ░       ░ ┌───┐      ░                 ░    \n",
       "q_0: ─|0>─┤ X ├─░─┤ X ├─░───■───░─┤ X ├──■───░─────────────────░────\n",
       "          ├───┤ ░ └───┘ ░   │   ░ └───┘  │   ░                 ░    \n",
       "q_1: ─|0>─┤ X ├─░───────░───■───░────────┼───░─────────────────░────\n",
       "          └───┘ ░       ░ ┌─┴─┐ ░        │   ░                 ░    \n",
       "q_2: ─|0>───────░───────░─┤ X ├─░────────┼───░────────■────■───░────\n",
       "          ┌───┐ ░       ░ └───┘ ░        │   ░        │    │   ░    \n",
       "q_3: ─|0>─┤ X ├─░───────░───────░────────■───░────────┼────┼───░────\n",
       "          └───┘ ░       ░       ░      ┌─┴─┐ ░      ┌─┴─┐  │   ░    \n",
       "q_4: ─|0>───────░───────░───────░──────┤ X ├─░───■──┤ X ├──■───░────\n",
       "                ░       ░       ░      └───┘ ░ ┌─┴─┐└───┘┌─┴─┐ ░ ┌─┐\n",
       "q_5: ─|0>───────░───────░───────░────────────░─┤ X ├─────┤ X ├─░─┤M├\n",
       "                ░       ░       ░            ░ └───┘     └───┘ ░ └╥┘\n",
       "c: 1/═════════════════════════════════════════════════════════════╩═\n",
       "                                                                  0 </pre>"
      ],
      "text/plain": [
       "          ┌───┐ ░ ┌───┐ ░       ░ ┌───┐      ░                 ░    \n",
       "q_0: ─|0>─┤ X ├─░─┤ X ├─░───■───░─┤ X ├──■───░─────────────────░────\n",
       "          ├───┤ ░ └───┘ ░   │   ░ └───┘  │   ░                 ░    \n",
       "q_1: ─|0>─┤ X ├─░───────░───■───░────────┼───░─────────────────░────\n",
       "          └───┘ ░       ░ ┌─┴─┐ ░        │   ░                 ░    \n",
       "q_2: ─|0>───────░───────░─┤ X ├─░────────┼───░────────■────■───░────\n",
       "          ┌───┐ ░       ░ └───┘ ░        │   ░        │    │   ░    \n",
       "q_3: ─|0>─┤ X ├─░───────░───────░────────■───░────────┼────┼───░────\n",
       "          └───┘ ░       ░       ░      ┌─┴─┐ ░      ┌─┴─┐  │   ░    \n",
       "q_4: ─|0>───────░───────░───────░──────┤ X ├─░───■──┤ X ├──■───░────\n",
       "                ░       ░       ░      └───┘ ░ ┌─┴─┐└───┘┌─┴─┐ ░ ┌─┐\n",
       "q_5: ─|0>───────░───────░───────░────────────░─┤ X ├─────┤ X ├─░─┤M├\n",
       "                ░       ░       ░            ░ └───┘     └───┘ ░ └╥┘\n",
       "c: 1/═════════════════════════════════════════════════════════════╩═\n",
       "                                                                  0 "
      ]
     },
     "metadata": {},
     "output_type": "display_data"
    },
    {
     "name": "stdout",
     "output_type": "stream",
     "text": [
      "\n",
      "\n"
     ]
    }
   ],
   "source": [
    "def MUX23(inp1,inp2,inp3):\n",
    "    qc=QuantumCircuit(6,1)\n",
    "    qc.reset(range(6))\n",
    "    if inp1=='1':\n",
    "        qc.x(0)\n",
    "    if inp2=='1':\n",
    "        qc.x(1)\n",
    "    if inp3=='1':\n",
    "        qc.x(3)\n",
    "    qc.barrier()\n",
    "    qc.x(0)\n",
    "    qc.barrier()\n",
    "    qc.ccx(0,1,2)\n",
    "    qc.barrier()\n",
    "    qc.x(0)\n",
    "    qc.ccx(0,3,4)\n",
    "    qc.barrier()\n",
    "    \n",
    "    qc.cx(4,5)\n",
    "    qc.cx(2,4)\n",
    "    qc.ccx(2,4,5)\n",
    "    qc.barrier()\n",
    "    qc.measure(5,0)\n",
    "    backend = Aer.get_backend('aer_simulator')\n",
    "    job = backend.run(qc, shots=1, memory=True)\n",
    "    output=job.result().get_memory()[0]\n",
    "    return qc,output\n",
    "for inp1 in ['0','1']:\n",
    "    for inp2 in ['0','1']:\n",
    "        for inp3 in ['0','1']:\n",
    "\n",
    "            \n",
    "            qc,output=MUX23(inp1,inp2,inp3)\n",
    "            print(\"decoder with input\",inp1,inp2,inp3,\"gives output\",output)\n",
    "            display(qc.draw())\n",
    "            print('\\n')\n",
    "    "
   ]
  },
  {
   "cell_type": "code",
   "execution_count": 12,
   "metadata": {},
   "outputs": [
    {
     "name": "stdout",
     "output_type": "stream",
     "text": [
      "decoder with input 0 0 gives output 0001\n"
     ]
    },
    {
     "data": {
      "text/html": [
       "<pre style=\"word-wrap: normal;white-space: pre;background: #fff0;line-height: 1.1;font-family: &quot;Courier New&quot;,Courier,monospace\">           ░ ┌───┐      ░            ░ ┌───┐      ░            ░             \n",
       "q_0: ─|0>──░─┤ X ├──■───░────────■───░─┤ X ├──■───░────────■───░─────────────\n",
       "           ░ ├───┤  │   ░ ┌───┐  │   ░ ├───┤  │   ░ ┌───┐  │   ░             \n",
       "q_1: ─|0>──░─┤ X ├──■───░─┤ X ├──■───░─┤ X ├──■───░─┤ X ├──■───░─────────────\n",
       "           ░ └───┘┌─┴─┐ ░ └───┘  │   ░ └───┘  │   ░ └───┘  │   ░ ┌─┐         \n",
       "q_2: ─|0>──░──────┤ X ├─░────────┼───░────────┼───░────────┼───░─┤M├─────────\n",
       "           ░      └───┘ ░      ┌─┴─┐ ░        │   ░        │   ░ └╥┘┌─┐      \n",
       "q_3: ─|0>──░────────────░──────┤ X ├─░────────┼───░────────┼───░──╫─┤M├──────\n",
       "           ░            ░      └───┘ ░      ┌─┴─┐ ░        │   ░  ║ └╥┘┌─┐   \n",
       "q_4: ─|0>──░────────────░────────────░──────┤ X ├─░────────┼───░──╫──╫─┤M├───\n",
       "           ░            ░            ░      └───┘ ░      ┌─┴─┐ ░  ║  ║ └╥┘┌─┐\n",
       "q_5: ─|0>──░────────────░────────────░────────────░──────┤ X ├─░──╫──╫──╫─┤M├\n",
       "           ░            ░            ░            ░      └───┘ ░  ║  ║  ║ └╥┘\n",
       "q_6: ─|0>──░────────────░────────────░────────────░────────────░──╫──╫──╫──╫─\n",
       "           ░            ░            ░            ░            ░  ║  ║  ║  ║ \n",
       "c: 4/═════════════════════════════════════════════════════════════╩══╩══╩══╩═\n",
       "                                                                  0  1  2  3 </pre>"
      ],
      "text/plain": [
       "           ░ ┌───┐      ░            ░ ┌───┐      ░            ░             \n",
       "q_0: ─|0>──░─┤ X ├──■───░────────■───░─┤ X ├──■───░────────■───░─────────────\n",
       "           ░ ├───┤  │   ░ ┌───┐  │   ░ ├───┤  │   ░ ┌───┐  │   ░             \n",
       "q_1: ─|0>──░─┤ X ├──■───░─┤ X ├──■───░─┤ X ├──■───░─┤ X ├──■───░─────────────\n",
       "           ░ └───┘┌─┴─┐ ░ └───┘  │   ░ └───┘  │   ░ └───┘  │   ░ ┌─┐         \n",
       "q_2: ─|0>──░──────┤ X ├─░────────┼───░────────┼───░────────┼───░─┤M├─────────\n",
       "           ░      └───┘ ░      ┌─┴─┐ ░        │   ░        │   ░ └╥┘┌─┐      \n",
       "q_3: ─|0>──░────────────░──────┤ X ├─░────────┼───░────────┼───░──╫─┤M├──────\n",
       "           ░            ░      └───┘ ░      ┌─┴─┐ ░        │   ░  ║ └╥┘┌─┐   \n",
       "q_4: ─|0>──░────────────░────────────░──────┤ X ├─░────────┼───░──╫──╫─┤M├───\n",
       "           ░            ░            ░      └───┘ ░      ┌─┴─┐ ░  ║  ║ └╥┘┌─┐\n",
       "q_5: ─|0>──░────────────░────────────░────────────░──────┤ X ├─░──╫──╫──╫─┤M├\n",
       "           ░            ░            ░            ░      └───┘ ░  ║  ║  ║ └╥┘\n",
       "q_6: ─|0>──░────────────░────────────░────────────░────────────░──╫──╫──╫──╫─\n",
       "           ░            ░            ░            ░            ░  ║  ║  ║  ║ \n",
       "c: 4/═════════════════════════════════════════════════════════════╩══╩══╩══╩═\n",
       "                                                                  0  1  2  3 "
      ]
     },
     "metadata": {},
     "output_type": "display_data"
    },
    {
     "name": "stdout",
     "output_type": "stream",
     "text": [
      "\n",
      "\n",
      "decoder with input 0 1 gives output 0010\n"
     ]
    },
    {
     "data": {
      "text/html": [
       "<pre style=\"word-wrap: normal;white-space: pre;background: #fff0;line-height: 1.1;font-family: &quot;Courier New&quot;,Courier,monospace\">                ░ ┌───┐      ░            ░ ┌───┐      ░            ░          »\n",
       "q_0: ─|0>───────░─┤ X ├──■───░────────■───░─┤ X ├──■───░────────■───░──────────»\n",
       "          ┌───┐ ░ ├───┤  │   ░ ┌───┐  │   ░ ├───┤  │   ░ ┌───┐  │   ░          »\n",
       "q_1: ─|0>─┤ X ├─░─┤ X ├──■───░─┤ X ├──■───░─┤ X ├──■───░─┤ X ├──■───░──────────»\n",
       "          └───┘ ░ └───┘┌─┴─┐ ░ └───┘  │   ░ └───┘  │   ░ └───┘  │   ░ ┌─┐      »\n",
       "q_2: ─|0>───────░──────┤ X ├─░────────┼───░────────┼───░────────┼───░─┤M├──────»\n",
       "                ░      └───┘ ░      ┌─┴─┐ ░        │   ░        │   ░ └╥┘┌─┐   »\n",
       "q_3: ─|0>───────░────────────░──────┤ X ├─░────────┼───░────────┼───░──╫─┤M├───»\n",
       "                ░            ░      └───┘ ░      ┌─┴─┐ ░        │   ░  ║ └╥┘┌─┐»\n",
       "q_4: ─|0>───────░────────────░────────────░──────┤ X ├─░────────┼───░──╫──╫─┤M├»\n",
       "                ░            ░            ░      └───┘ ░      ┌─┴─┐ ░  ║  ║ └╥┘»\n",
       "q_5: ─|0>───────░────────────░────────────░────────────░──────┤ X ├─░──╫──╫──╫─»\n",
       "                ░            ░            ░            ░      └───┘ ░  ║  ║  ║ »\n",
       "q_6: ─|0>───────░────────────░────────────░────────────░────────────░──╫──╫──╫─»\n",
       "                ░            ░            ░            ░            ░  ║  ║  ║ »\n",
       "c: 4/══════════════════════════════════════════════════════════════════╩══╩══╩═»\n",
       "                                                                       0  1  2 »\n",
       "«        \n",
       "«q_0: ───\n",
       "«        \n",
       "«q_1: ───\n",
       "«        \n",
       "«q_2: ───\n",
       "«        \n",
       "«q_3: ───\n",
       "«        \n",
       "«q_4: ───\n",
       "«     ┌─┐\n",
       "«q_5: ┤M├\n",
       "«     └╥┘\n",
       "«q_6: ─╫─\n",
       "«      ║ \n",
       "«c: 4/═╩═\n",
       "«      3 </pre>"
      ],
      "text/plain": [
       "                ░ ┌───┐      ░            ░ ┌───┐      ░            ░          »\n",
       "q_0: ─|0>───────░─┤ X ├──■───░────────■───░─┤ X ├──■───░────────■───░──────────»\n",
       "          ┌───┐ ░ ├───┤  │   ░ ┌───┐  │   ░ ├───┤  │   ░ ┌───┐  │   ░          »\n",
       "q_1: ─|0>─┤ X ├─░─┤ X ├──■───░─┤ X ├──■───░─┤ X ├──■───░─┤ X ├──■───░──────────»\n",
       "          └───┘ ░ └───┘┌─┴─┐ ░ └───┘  │   ░ └───┘  │   ░ └───┘  │   ░ ┌─┐      »\n",
       "q_2: ─|0>───────░──────┤ X ├─░────────┼───░────────┼───░────────┼───░─┤M├──────»\n",
       "                ░      └───┘ ░      ┌─┴─┐ ░        │   ░        │   ░ └╥┘┌─┐   »\n",
       "q_3: ─|0>───────░────────────░──────┤ X ├─░────────┼───░────────┼───░──╫─┤M├───»\n",
       "                ░            ░      └───┘ ░      ┌─┴─┐ ░        │   ░  ║ └╥┘┌─┐»\n",
       "q_4: ─|0>───────░────────────░────────────░──────┤ X ├─░────────┼───░──╫──╫─┤M├»\n",
       "                ░            ░            ░      └───┘ ░      ┌─┴─┐ ░  ║  ║ └╥┘»\n",
       "q_5: ─|0>───────░────────────░────────────░────────────░──────┤ X ├─░──╫──╫──╫─»\n",
       "                ░            ░            ░            ░      └───┘ ░  ║  ║  ║ »\n",
       "q_6: ─|0>───────░────────────░────────────░────────────░────────────░──╫──╫──╫─»\n",
       "                ░            ░            ░            ░            ░  ║  ║  ║ »\n",
       "c: 4/══════════════════════════════════════════════════════════════════╩══╩══╩═»\n",
       "                                                                       0  1  2 »\n",
       "«        \n",
       "«q_0: ───\n",
       "«        \n",
       "«q_1: ───\n",
       "«        \n",
       "«q_2: ───\n",
       "«        \n",
       "«q_3: ───\n",
       "«        \n",
       "«q_4: ───\n",
       "«     ┌─┐\n",
       "«q_5: ┤M├\n",
       "«     └╥┘\n",
       "«q_6: ─╫─\n",
       "«      ║ \n",
       "«c: 4/═╩═\n",
       "«      3 "
      ]
     },
     "metadata": {},
     "output_type": "display_data"
    },
    {
     "name": "stdout",
     "output_type": "stream",
     "text": [
      "\n",
      "\n",
      "decoder with input 1 0 gives output 0100\n"
     ]
    },
    {
     "data": {
      "text/html": [
       "<pre style=\"word-wrap: normal;white-space: pre;background: #fff0;line-height: 1.1;font-family: &quot;Courier New&quot;,Courier,monospace\">          ┌───┐ ░ ┌───┐      ░            ░ ┌───┐      ░            ░          »\n",
       "q_0: ─|0>─┤ X ├─░─┤ X ├──■───░────────■───░─┤ X ├──■───░────────■───░──────────»\n",
       "          └───┘ ░ ├───┤  │   ░ ┌───┐  │   ░ ├───┤  │   ░ ┌───┐  │   ░          »\n",
       "q_1: ─|0>───────░─┤ X ├──■───░─┤ X ├──■───░─┤ X ├──■───░─┤ X ├──■───░──────────»\n",
       "                ░ └───┘┌─┴─┐ ░ └───┘  │   ░ └───┘  │   ░ └───┘  │   ░ ┌─┐      »\n",
       "q_2: ─|0>───────░──────┤ X ├─░────────┼───░────────┼───░────────┼───░─┤M├──────»\n",
       "                ░      └───┘ ░      ┌─┴─┐ ░        │   ░        │   ░ └╥┘┌─┐   »\n",
       "q_3: ─|0>───────░────────────░──────┤ X ├─░────────┼───░────────┼───░──╫─┤M├───»\n",
       "                ░            ░      └───┘ ░      ┌─┴─┐ ░        │   ░  ║ └╥┘┌─┐»\n",
       "q_4: ─|0>───────░────────────░────────────░──────┤ X ├─░────────┼───░──╫──╫─┤M├»\n",
       "                ░            ░            ░      └───┘ ░      ┌─┴─┐ ░  ║  ║ └╥┘»\n",
       "q_5: ─|0>───────░────────────░────────────░────────────░──────┤ X ├─░──╫──╫──╫─»\n",
       "                ░            ░            ░            ░      └───┘ ░  ║  ║  ║ »\n",
       "q_6: ─|0>───────░────────────░────────────░────────────░────────────░──╫──╫──╫─»\n",
       "                ░            ░            ░            ░            ░  ║  ║  ║ »\n",
       "c: 4/══════════════════════════════════════════════════════════════════╩══╩══╩═»\n",
       "                                                                       0  1  2 »\n",
       "«        \n",
       "«q_0: ───\n",
       "«        \n",
       "«q_1: ───\n",
       "«        \n",
       "«q_2: ───\n",
       "«        \n",
       "«q_3: ───\n",
       "«        \n",
       "«q_4: ───\n",
       "«     ┌─┐\n",
       "«q_5: ┤M├\n",
       "«     └╥┘\n",
       "«q_6: ─╫─\n",
       "«      ║ \n",
       "«c: 4/═╩═\n",
       "«      3 </pre>"
      ],
      "text/plain": [
       "          ┌───┐ ░ ┌───┐      ░            ░ ┌───┐      ░            ░          »\n",
       "q_0: ─|0>─┤ X ├─░─┤ X ├──■───░────────■───░─┤ X ├──■───░────────■───░──────────»\n",
       "          └───┘ ░ ├───┤  │   ░ ┌───┐  │   ░ ├───┤  │   ░ ┌───┐  │   ░          »\n",
       "q_1: ─|0>───────░─┤ X ├──■───░─┤ X ├──■───░─┤ X ├──■───░─┤ X ├──■───░──────────»\n",
       "                ░ └───┘┌─┴─┐ ░ └───┘  │   ░ └───┘  │   ░ └───┘  │   ░ ┌─┐      »\n",
       "q_2: ─|0>───────░──────┤ X ├─░────────┼───░────────┼───░────────┼───░─┤M├──────»\n",
       "                ░      └───┘ ░      ┌─┴─┐ ░        │   ░        │   ░ └╥┘┌─┐   »\n",
       "q_3: ─|0>───────░────────────░──────┤ X ├─░────────┼───░────────┼───░──╫─┤M├───»\n",
       "                ░            ░      └───┘ ░      ┌─┴─┐ ░        │   ░  ║ └╥┘┌─┐»\n",
       "q_4: ─|0>───────░────────────░────────────░──────┤ X ├─░────────┼───░──╫──╫─┤M├»\n",
       "                ░            ░            ░      └───┘ ░      ┌─┴─┐ ░  ║  ║ └╥┘»\n",
       "q_5: ─|0>───────░────────────░────────────░────────────░──────┤ X ├─░──╫──╫──╫─»\n",
       "                ░            ░            ░            ░      └───┘ ░  ║  ║  ║ »\n",
       "q_6: ─|0>───────░────────────░────────────░────────────░────────────░──╫──╫──╫─»\n",
       "                ░            ░            ░            ░            ░  ║  ║  ║ »\n",
       "c: 4/══════════════════════════════════════════════════════════════════╩══╩══╩═»\n",
       "                                                                       0  1  2 »\n",
       "«        \n",
       "«q_0: ───\n",
       "«        \n",
       "«q_1: ───\n",
       "«        \n",
       "«q_2: ───\n",
       "«        \n",
       "«q_3: ───\n",
       "«        \n",
       "«q_4: ───\n",
       "«     ┌─┐\n",
       "«q_5: ┤M├\n",
       "«     └╥┘\n",
       "«q_6: ─╫─\n",
       "«      ║ \n",
       "«c: 4/═╩═\n",
       "«      3 "
      ]
     },
     "metadata": {},
     "output_type": "display_data"
    },
    {
     "name": "stdout",
     "output_type": "stream",
     "text": [
      "\n",
      "\n",
      "decoder with input 1 1 gives output 1000\n"
     ]
    },
    {
     "data": {
      "text/html": [
       "<pre style=\"word-wrap: normal;white-space: pre;background: #fff0;line-height: 1.1;font-family: &quot;Courier New&quot;,Courier,monospace\">          ┌───┐ ░ ┌───┐      ░            ░ ┌───┐      ░            ░          »\n",
       "q_0: ─|0>─┤ X ├─░─┤ X ├──■───░────────■───░─┤ X ├──■───░────────■───░──────────»\n",
       "          ├───┤ ░ ├───┤  │   ░ ┌───┐  │   ░ ├───┤  │   ░ ┌───┐  │   ░          »\n",
       "q_1: ─|0>─┤ X ├─░─┤ X ├──■───░─┤ X ├──■───░─┤ X ├──■───░─┤ X ├──■───░──────────»\n",
       "          └───┘ ░ └───┘┌─┴─┐ ░ └───┘  │   ░ └───┘  │   ░ └───┘  │   ░ ┌─┐      »\n",
       "q_2: ─|0>───────░──────┤ X ├─░────────┼───░────────┼───░────────┼───░─┤M├──────»\n",
       "                ░      └───┘ ░      ┌─┴─┐ ░        │   ░        │   ░ └╥┘┌─┐   »\n",
       "q_3: ─|0>───────░────────────░──────┤ X ├─░────────┼───░────────┼───░──╫─┤M├───»\n",
       "                ░            ░      └───┘ ░      ┌─┴─┐ ░        │   ░  ║ └╥┘┌─┐»\n",
       "q_4: ─|0>───────░────────────░────────────░──────┤ X ├─░────────┼───░──╫──╫─┤M├»\n",
       "                ░            ░            ░      └───┘ ░      ┌─┴─┐ ░  ║  ║ └╥┘»\n",
       "q_5: ─|0>───────░────────────░────────────░────────────░──────┤ X ├─░──╫──╫──╫─»\n",
       "                ░            ░            ░            ░      └───┘ ░  ║  ║  ║ »\n",
       "q_6: ─|0>───────░────────────░────────────░────────────░────────────░──╫──╫──╫─»\n",
       "                ░            ░            ░            ░            ░  ║  ║  ║ »\n",
       "c: 4/══════════════════════════════════════════════════════════════════╩══╩══╩═»\n",
       "                                                                       0  1  2 »\n",
       "«        \n",
       "«q_0: ───\n",
       "«        \n",
       "«q_1: ───\n",
       "«        \n",
       "«q_2: ───\n",
       "«        \n",
       "«q_3: ───\n",
       "«        \n",
       "«q_4: ───\n",
       "«     ┌─┐\n",
       "«q_5: ┤M├\n",
       "«     └╥┘\n",
       "«q_6: ─╫─\n",
       "«      ║ \n",
       "«c: 4/═╩═\n",
       "«      3 </pre>"
      ],
      "text/plain": [
       "          ┌───┐ ░ ┌───┐      ░            ░ ┌───┐      ░            ░          »\n",
       "q_0: ─|0>─┤ X ├─░─┤ X ├──■───░────────■───░─┤ X ├──■───░────────■───░──────────»\n",
       "          ├───┤ ░ ├───┤  │   ░ ┌───┐  │   ░ ├───┤  │   ░ ┌───┐  │   ░          »\n",
       "q_1: ─|0>─┤ X ├─░─┤ X ├──■───░─┤ X ├──■───░─┤ X ├──■───░─┤ X ├──■───░──────────»\n",
       "          └───┘ ░ └───┘┌─┴─┐ ░ └───┘  │   ░ └───┘  │   ░ └───┘  │   ░ ┌─┐      »\n",
       "q_2: ─|0>───────░──────┤ X ├─░────────┼───░────────┼───░────────┼───░─┤M├──────»\n",
       "                ░      └───┘ ░      ┌─┴─┐ ░        │   ░        │   ░ └╥┘┌─┐   »\n",
       "q_3: ─|0>───────░────────────░──────┤ X ├─░────────┼───░────────┼───░──╫─┤M├───»\n",
       "                ░            ░      └───┘ ░      ┌─┴─┐ ░        │   ░  ║ └╥┘┌─┐»\n",
       "q_4: ─|0>───────░────────────░────────────░──────┤ X ├─░────────┼───░──╫──╫─┤M├»\n",
       "                ░            ░            ░      └───┘ ░      ┌─┴─┐ ░  ║  ║ └╥┘»\n",
       "q_5: ─|0>───────░────────────░────────────░────────────░──────┤ X ├─░──╫──╫──╫─»\n",
       "                ░            ░            ░            ░      └───┘ ░  ║  ║  ║ »\n",
       "q_6: ─|0>───────░────────────░────────────░────────────░────────────░──╫──╫──╫─»\n",
       "                ░            ░            ░            ░            ░  ║  ║  ║ »\n",
       "c: 4/══════════════════════════════════════════════════════════════════╩══╩══╩═»\n",
       "                                                                       0  1  2 »\n",
       "«        \n",
       "«q_0: ───\n",
       "«        \n",
       "«q_1: ───\n",
       "«        \n",
       "«q_2: ───\n",
       "«        \n",
       "«q_3: ───\n",
       "«        \n",
       "«q_4: ───\n",
       "«     ┌─┐\n",
       "«q_5: ┤M├\n",
       "«     └╥┘\n",
       "«q_6: ─╫─\n",
       "«      ║ \n",
       "«c: 4/═╩═\n",
       "«      3 "
      ]
     },
     "metadata": {},
     "output_type": "display_data"
    },
    {
     "name": "stdout",
     "output_type": "stream",
     "text": [
      "\n",
      "\n"
     ]
    }
   ],
   "source": [
    "def decoder(inp1,inp2):\n",
    "    qc=QuantumCircuit(7,4)\n",
    "    qc.reset(range(7))\n",
    "    if inp1=='1':\n",
    "        qc.x(0)\n",
    "    if inp2=='1':\n",
    "        qc.x(1)\n",
    "    \n",
    "    qc.barrier()\n",
    "    qc.x([0])\n",
    "    qc.x([1])\n",
    "    qc.ccx(0,1,2)\n",
    "    qc.barrier()\n",
    "\n",
    "    qc.x([1])\n",
    "    qc.ccx(0,1,3)\n",
    "    qc.barrier()\n",
    "    \n",
    "    qc.x([0])\n",
    "    qc.x([1])\n",
    "    qc.ccx(0,1,4)\n",
    "    qc.barrier()\n",
    "\n",
    "    qc.x([1])\n",
    "    qc.ccx(0,1,5)\n",
    "    qc.barrier()\n",
    "\n",
    "    qc.measure(2,0)\n",
    "    qc.measure(3,1)\n",
    "    qc.measure(4,2)\n",
    "    qc.measure(5,3)\n",
    "    backend = Aer.get_backend('aer_simulator')\n",
    "    job = backend.run(qc, shots=1, memory=True)\n",
    "    output=job.result().get_memory()[0]\n",
    "    return qc,output\n",
    "for inp1 in ['0','1']:\n",
    "    for inp2 in ['0','1']:\n",
    "        \n",
    "        qc,output=decoder(inp1,inp2)\n",
    "        print(\"decoder with input\",inp1,inp2,\"gives output\",output)\n",
    "        display(qc.draw())\n",
    "        print('\\n')"
   ]
  },
  {
   "cell_type": "code",
   "execution_count": 1,
   "metadata": {},
   "outputs": [
    {
     "name": "stdout",
     "output_type": "stream",
     "text": [
      "S | D0 | D1 | Output\n",
      "----------------------\n",
      "0 |  0 |  0 |   0\n",
      "0 |  0 |  1 |   1\n",
      "0 |  1 |  0 |   0\n",
      "0 |  1 |  1 |   1\n",
      "1 |  0 |  0 |   1\n",
      "1 |  0 |  1 |   0\n",
      "1 |  1 |  0 |   1\n",
      "1 |  1 |  1 |   0\n"
     ]
    },
    {
     "data": {
      "image/png": "[encoded data removed]",
      "text/plain": [
       "<Figure size 538.33x367.889 with 1 Axes>"
      ]
     },
     "execution_count": 1,
     "metadata": {},
     "output_type": "execute_result"
    }
   ],
   "source": [
    "from qiskit import QuantumCircuit, transpile\n",
    "from qiskit_aer import Aer\n",
    "from qiskit.visualization import plot_histogram\n",
    "from qiskit.quantum_info import Statevector\n",
    "\n",
    "# Function to create the 2:1 MUX circuit\n",
    "def create_mux_circuit(s, d0, d1):\n",
    "    qc = QuantumCircuit(3, 1)\n",
    "\n",
    "    # Initialize the qubits based on the inputs\n",
    "    if s == 1:\n",
    "        qc.x(0)\n",
    "    if d0 == 1:\n",
    "        qc.x(1)\n",
    "    if d1 == 1:\n",
    "        qc.x(2)\n",
    "\n",
    "    # Apply MUX logic\n",
    "    qc.cx(0, 2)\n",
    "    qc.ccx(0, 2, 1)\n",
    "\n",
    "    # Measure the output\n",
    "    qc.measure(1, 0)\n",
    "    qc.measure(2, 0)\n",
    "\n",
    "    return qc\n",
    "\n",
    "# Simulate the circuit and get the output for each input combination\n",
    "def simulate_mux(s, d0, d1):\n",
    "    qc = create_mux_circuit(s, d0, d1)\n",
    "    simulator = Aer.get_backend('qasm_simulator')\n",
    "    compiled_circuit = transpile(qc, simulator)\n",
    "    result = simulator.run(compiled_circuit).result()\n",
    "    counts = result.get_counts(compiled_circuit)\n",
    "    return counts\n",
    "\n",
    "# Generate the truth table\n",
    "truth_table = []\n",
    "for s in [0, 1]:\n",
    "    for d0 in [0, 1]:\n",
    "        for d1 in [0, 1]:\n",
    "            output = simulate_mux(s, d0, d1)\n",
    "            truth_table.append((s, d0, d1, output))\n",
    "\n",
    "# Display the truth table\n",
    "print(\"S | D0 | D1 | Output\")\n",
    "print(\"----------------------\")\n",
    "for entry in truth_table:\n",
    "    s, d0, d1, output = entry\n",
    "    out_val = list(output.keys())[0]\n",
    "    print(f\"{s} |  {d0} |  {d1} |   {out_val}\")\n",
    "\n",
    "# Plot the circuit for an example input\n",
    "example_qc = create_mux_circuit(1, 1, 0)\n",
    "example_qc.draw('mpl')\n"
   ]
  },
  {
   "cell_type": "code",
   "execution_count": 2,
   "metadata": {},
   "outputs": [
    {
     "name": "stdout",
     "output_type": "stream",
     "text": [
      "S0 | S1 | D0 | D1 | D2 | D3 | Output\n",
      "-----------------------------------\n",
      "0 |  0 |  0 |  0 |  0 |  0 |   0\n",
      "0 |  0 |  0 |  0 |  0 |  1 |   1\n",
      "0 |  0 |  0 |  0 |  1 |  0 |   0\n",
      "0 |  0 |  0 |  0 |  1 |  1 |   1\n",
      "0 |  0 |  0 |  1 |  0 |  0 |   0\n",
      "0 |  0 |  0 |  1 |  0 |  1 |   1\n",
      "0 |  0 |  0 |  1 |  1 |  0 |   0\n",
      "0 |  0 |  0 |  1 |  1 |  1 |   1\n",
      "0 |  0 |  1 |  0 |  0 |  0 |   0\n",
      "0 |  0 |  1 |  0 |  0 |  1 |   1\n",
      "0 |  0 |  1 |  0 |  1 |  0 |   0\n",
      "0 |  0 |  1 |  0 |  1 |  1 |   1\n",
      "0 |  0 |  1 |  1 |  0 |  0 |   0\n",
      "0 |  0 |  1 |  1 |  0 |  1 |   1\n",
      "0 |  0 |  1 |  1 |  1 |  0 |   0\n",
      "0 |  0 |  1 |  1 |  1 |  1 |   1\n",
      "0 |  1 |  0 |  0 |  0 |  0 |   0\n",
      "0 |  1 |  0 |  0 |  0 |  1 |   1\n",
      "0 |  1 |  0 |  0 |  1 |  0 |   0\n",
      "0 |  1 |  0 |  0 |  1 |  1 |   1\n",
      "0 |  1 |  0 |  1 |  0 |  0 |   0\n",
      "0 |  1 |  0 |  1 |  0 |  1 |   1\n",
      "0 |  1 |  0 |  1 |  1 |  0 |   0\n",
      "0 |  1 |  0 |  1 |  1 |  1 |   1\n",
      "0 |  1 |  1 |  0 |  0 |  0 |   0\n",
      "0 |  1 |  1 |  0 |  0 |  1 |   1\n",
      "0 |  1 |  1 |  0 |  1 |  0 |   0\n",
      "0 |  1 |  1 |  0 |  1 |  1 |   1\n",
      "0 |  1 |  1 |  1 |  0 |  0 |   0\n",
      "0 |  1 |  1 |  1 |  0 |  1 |   1\n",
      "0 |  1 |  1 |  1 |  1 |  0 |   0\n",
      "0 |  1 |  1 |  1 |  1 |  1 |   1\n",
      "1 |  0 |  0 |  0 |  0 |  0 |   0\n",
      "1 |  0 |  0 |  0 |  0 |  1 |   1\n",
      "1 |  0 |  0 |  0 |  1 |  0 |   0\n",
      "1 |  0 |  0 |  0 |  1 |  1 |   1\n",
      "1 |  0 |  0 |  1 |  0 |  0 |   0\n",
      "1 |  0 |  0 |  1 |  0 |  1 |   1\n",
      "1 |  0 |  0 |  1 |  1 |  0 |   0\n",
      "1 |  0 |  0 |  1 |  1 |  1 |   1\n",
      "1 |  0 |  1 |  0 |  0 |  0 |   0\n",
      "1 |  0 |  1 |  0 |  0 |  1 |   1\n",
      "1 |  0 |  1 |  0 |  1 |  0 |   0\n",
      "1 |  0 |  1 |  0 |  1 |  1 |   1\n",
      "1 |  0 |  1 |  1 |  0 |  0 |   0\n",
      "1 |  0 |  1 |  1 |  0 |  1 |   1\n",
      "1 |  0 |  1 |  1 |  1 |  0 |   0\n",
      "1 |  0 |  1 |  1 |  1 |  1 |   1\n",
      "1 |  1 |  0 |  0 |  0 |  0 |   1\n",
      "1 |  1 |  0 |  0 |  0 |  1 |   0\n",
      "1 |  1 |  0 |  0 |  1 |  0 |   1\n",
      "1 |  1 |  0 |  0 |  1 |  1 |   0\n",
      "1 |  1 |  0 |  1 |  0 |  0 |   1\n",
      "1 |  1 |  0 |  1 |  0 |  1 |   0\n",
      "1 |  1 |  0 |  1 |  1 |  0 |   1\n",
      "1 |  1 |  0 |  1 |  1 |  1 |   0\n",
      "1 |  1 |  1 |  0 |  0 |  0 |   1\n",
      "1 |  1 |  1 |  0 |  0 |  1 |   0\n",
      "1 |  1 |  1 |  0 |  1 |  0 |   1\n",
      "1 |  1 |  1 |  0 |  1 |  1 |   0\n",
      "1 |  1 |  1 |  1 |  0 |  0 |   1\n",
      "1 |  1 |  1 |  1 |  0 |  1 |   0\n",
      "1 |  1 |  1 |  1 |  1 |  0 |   1\n",
      "1 |  1 |  1 |  1 |  1 |  1 |   0\n"
     ]
    },
    {
     "data": {
      "image/png": "[encoded data removed]",
      "text/plain": [
       "<Figure size 872.774x618.722 with 1 Axes>"
      ]
     },
     "execution_count": 2,
     "metadata": {},
     "output_type": "execute_result"
    }
   ],
   "source": [
    "from qiskit import QuantumCircuit, transpile\n",
    "from qiskit_aer import Aer\n",
    "from qiskit.visualization import plot_histogram\n",
    "\n",
    "# Function to create the 4:1 MUX circuit\n",
    "def create_mux_4to1_circuit(s0, s1, d0, d1, d2, d3):\n",
    "    qc = QuantumCircuit(6, 1)\n",
    "\n",
    "    # Initialize the qubits based on the inputs\n",
    "    if s0 == 1:\n",
    "        qc.x(0)  # Set selector bit s0\n",
    "    if s1 == 1:\n",
    "        qc.x(1)  # Set selector bit s1\n",
    "    if d0 == 1:\n",
    "        qc.x(2)  # Set data bit d0\n",
    "    if d1 == 1:\n",
    "        qc.x(3)  # Set data bit d1\n",
    "    if d2 == 1:\n",
    "        qc.x(4)  # Set data bit d2\n",
    "    if d3 == 1:\n",
    "        qc.x(5)  # Set data bit d3\n",
    "\n",
    "    # Apply MUX logic\n",
    "    qc.ccx(0, 1, 2)  # When s0=0 and s1=0, select d0\n",
    "    qc.ccx(0, 1, 3)  # When s0=0 and s1=1, select d1\n",
    "    qc.ccx(0, 1, 4)  # When s0=1 and s1=0, select d2\n",
    "    qc.ccx(0, 1, 5)  # When s0=1 and s1=1, select d3\n",
    "\n",
    "    # Measure the output\n",
    "    qc.measure(2, 0)  # Measure data bit d0 into classical bit 0\n",
    "    qc.measure(3, 0)  # Measure data bit d1 into classical bit 0\n",
    "    qc.measure(4, 0)  # Measure data bit d2 into classical bit 0\n",
    "    qc.measure(5, 0)  # Measure data bit d3 into classical bit 0\n",
    "\n",
    "    return qc\n",
    "\n",
    "# Simulate the circuit and get the output for each input combination\n",
    "def simulate_mux_4to1(s0, s1, d0, d1, d2, d3):\n",
    "    qc = create_mux_4to1_circuit(s0, s1, d0, d1, d2, d3)\n",
    "    simulator = Aer.get_backend('qasm_simulator')\n",
    "    compiled_circuit = transpile(qc, simulator)\n",
    "    result = simulator.run(compiled_circuit).result()\n",
    "    counts = result.get_counts(compiled_circuit)\n",
    "    return counts\n",
    "\n",
    "# Generate the truth table\n",
    "truth_table = []\n",
    "for s0 in [0, 1]:\n",
    "    for s1 in [0, 1]:\n",
    "        for d0 in [0, 1]:\n",
    "            for d1 in [0, 1]:\n",
    "                for d2 in [0, 1]:\n",
    "                    for d3 in [0, 1]:\n",
    "                        output = simulate_mux_4to1(s0, s1, d0, d1, d2, d3)\n",
    "                        truth_table.append((s0, s1, d0, d1, d2, d3, output))\n",
    "\n",
    "# Display the truth table\n",
    "print(\"S0 | S1 | D0 | D1 | D2 | D3 | Output\")\n",
    "print(\"-----------------------------------\")\n",
    "for entry in truth_table:\n",
    "    s0, s1, d0, d1, d2, d3, output = entry\n",
    "    out_val = list(output.keys())[0]\n",
    "    print(f\"{s0} |  {s1} |  {d0} |  {d1} |  {d2} |  {d3} |   {out_val}\")\n",
    "\n",
    "# Plot the circuit for an example input\n",
    "example_qc = create_mux_4to1_circuit(1, 0, 1, 0, 1, 0)\n",
    "example_qc.draw('mpl')\n"
   ]
  },
  {
   "cell_type": "code",
   "execution_count": 3,
   "metadata": {},
   "outputs": [],
   "source": [
    "from qiskit import QuantumCircuit, transpile\n",
    "from qiskit_aer import Aer\n",
    "from qiskit.visualization import plot_histogram\n",
    "\n",
    "# Function to create the 16:1 MUX circuit\n",
    "def create_mux_16to1_circuit(s0, s1, s2, s3, d0, d1, d2, d3, d4, d5, d6, d7, d8, d9, d10, d11, d12, d13, d14, d15):\n",
    "    qc = QuantumCircuit(20, 1)\n",
    "\n",
    "    # Initialize the qubits based on the inputs\n",
    "    selectors = [s0, s1, s2, s3]\n",
    "    data_bits = [d0, d1, d2, d3, d4, d5, d6, d7, d8, d9, d10, d11, d12, d13, d14, d15]\n",
    "\n",
    "    for i, selector in enumerate(selectors):\n",
    "        if selector == 1:\n",
    "            qc.x(i)\n",
    "\n",
    "    for i, data_bit in enumerate(data_bits):\n",
    "        if data_bit == 1:\n",
    "            qc.x(i + 4)\n",
    "\n",
    "    # Apply MUX logic using Toffoli gates\n",
    "    for i in range(16):\n",
    "        bin_i = format(i, '04b')\n",
    "        for j in range(4):\n",
    "            if bin_i[j] == '0':\n",
    "                qc.x(j)\n",
    "        qc.mcx([0, 1, 2, 3], i + 4)  # Controlled by selector bits\n",
    "        for j in range(4):\n",
    "            if bin_i[j] == '0':\n",
    "                qc.x(j)\n",
    "\n",
    "    # Measure the output\n",
    "    for i in range(16):\n",
    "        qc.measure(i + 4, 0)\n",
    "\n",
    "    return qc\n",
    "\n",
    "# Simulate the circuit and get the output for each input combination\n",
    "def simulate_mux_16to1(s0, s1, s2, s3, d0, d1, d2, d3, d4, d5, d6, d7, d8, d9, d10, d11, d12, d13, d14, d15):\n",
    "    qc = create_mux_16to1_circuit(s0, s1, s2, s3, d0, d1, d2, d3, d4, d5, d6, d7, d8, d9, d10, d11, d12, d13, d14, d15)\n",
    "    simulator = Aer.get_backend('qasm_simulator')\n",
    "    compiled_circuit = transpile(qc, simulator)\n",
    "    result = simulator.run(compiled_circuit).result()\n",
    "    counts = result.get_counts(compiled_circuit)\n",
    "    return counts\n",
    "\n",
    "# Generate the truth table\n",
    "truth_table = []\n",
    "for s0 in [0, 1]:\n",
    "    for s1 in [0, 1]:\n",
    "        for s2 in [0, 1]:\n",
    "            for s3 in [0, 1]:\n",
    "                for d0 in [0, 1]:\n",
    "                    for d1 in [0, 1]:\n",
    "                        for d2 in [0, 1]:\n",
    "                            for d3 in [0, 1]:\n",
    "                                for d4 in [0, 1]:\n",
    "                                    for d5 in [0, 1]:\n",
    "                                        for d6 in [0, 1]:\n",
    "                                            for d7 in [0, 1]:\n",
    "                                                for d8 in [0, 1]:\n",
    "                                                    for d9 in [0, 1]:\n",
    "                                                        for d10 in [0, 1]:\n",
    "                                                            for d11 in [0, 1]:\n",
    "                                                                for d12 in [0, 1]:\n",
    "                                                                    for d13 in [0, 1]:\n",
    "                                                                        for d14 in [0, 1]:\n",
    "                                                                            for d15 in [0, 1]:\n",
    "                                                                                output = simulate_mux_16to1(s0, s1, s2, s3, d0, d1, d2, d3, d4, d5, d6, d7, d8, d9, d10, d11, d12, d13, d14, d15)\n",
    "                                                                                truth_table.append((s0, s1, s2, s3, d0, d1, d2, d3, d4, d5, d6, d7, d8, d9, d10, d11, d12, d13, d14, d15, output))\n",
    "\n",
    "# Display the truth table\n",
    "print(\"S0 | S1 | S2 | S3 | D0 | D1 | D2 | D3 | D4 | D5 | D6 | D7 | D8 | D9 | D10 | D11 | D12 | D13 | D14 | D15 | Output\")\n",
    "print(\"--------------------------------------------------------------------------------------------\")\n",
    "for entry in truth_table:\n",
    "    s0, s1, s2, s3, d0, d1, d2, d3, d4, d5, d6, d7, d8, d9, d10, d11, d12, d13, d14, d15, output = entry\n",
    "    out_val = list(output.keys())[0]\n",
    "    print(f\"{s0} |  {s1} |  {s2} |  {s3} |  {d0} |  {d1} |  {d2} |  {d3} |  {d4} |  {d5} |  {d6} |  {d7} |  {d8} |  {d9} |  {d10} |  {d11} |  {d12} |  {d13} |  {d14} |  {d15} |   {out_val}\")\n",
    "\n",
    "# Plot the circuit for an example input\n",
    "example_qc = create_mux_16to1_circuit(1, 0, 1, 0, 1, 0, 1, 0, 1, 0, 1, 0, 1, 0, 1, 0, 1, 0, 1, 0)\n",
    "example_qc.draw('mpl')"
   ]
  }
 ],
 "metadata": {
  "kernelspec": {
   "display_name": "vishakha",
   "language": "python",
   "name": "python3"
  },
  "language_info": {
   "codemirror_mode": {
    "name": "ipython",
    "version": 3
   },
   "file_extension": ".py",
   "mimetype": "text/x-python",
   "name": "python",
   "nbconvert_exporter": "python",
   "pygments_lexer": "ipython3",
   "version": "3.12.4"
  }
 },
 "nbformat": 4,
 "nbformat_minor": 2
}
