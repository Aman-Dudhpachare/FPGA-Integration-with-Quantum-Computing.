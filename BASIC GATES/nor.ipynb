{
 "cells": [
  {
   "cell_type": "code",
   "execution_count": 1,
   "metadata": {},
   "outputs": [],
   "source": [
    "from qiskit import QuantumCircuit,QuantumRegister,ClassicalRegister,transpile\n",
    "from qiskit_aer import Aer,aer_simulator,qasm_simulator,AerSimulator,statevector_simulator\n",
    "from qiskit.visualization import *\n",
    "from matplotlib import pyplot\n",
    "from qiskit.circuit.library import GroverOperator,grover_operator,boolean_logic\n",
    "\n",
    "import time as t\n"
   ]
  },
  {
   "cell_type": "code",
   "execution_count": 2,
   "metadata": {},
   "outputs": [
    {
     "name": "stdout",
     "output_type": "stream",
     "text": [
      "or with input 0 0 gives output 1\n",
      "Execution Time: 0.016739 seconds\n"
     ]
    },
    {
     "data": {
      "text/html": [
       "<pre style=\"word-wrap: normal;white-space: pre;background: #fff0;line-height: 1.1;font-family: &quot;Courier New&quot;,Courier,monospace\">           ░                      ░    \n",
       "q_0: ─|0>──░────────■────■────────░────\n",
       "           ░      ┌─┴─┐  │        ░    \n",
       "q_1: ─|0>──░───■──┤ X ├──■────────░────\n",
       "           ░ ┌─┴─┐└───┘┌─┴─┐┌───┐ ░ ┌─┐\n",
       "q_2: ──────░─┤ X ├─────┤ X ├┤ X ├─░─┤M├\n",
       "           ░ └───┘     └───┘└───┘ ░ └╥┘\n",
       "c: 1/════════════════════════════════╩═\n",
       "                                     0 </pre>"
      ],
      "text/plain": [
       "           ░                      ░    \n",
       "q_0: ─|0>──░────────■────■────────░────\n",
       "           ░      ┌─┴─┐  │        ░    \n",
       "q_1: ─|0>──░───■──┤ X ├──■────────░────\n",
       "           ░ ┌─┴─┐└───┘┌─┴─┐┌───┐ ░ ┌─┐\n",
       "q_2: ──────░─┤ X ├─────┤ X ├┤ X ├─░─┤M├\n",
       "           ░ └───┘     └───┘└───┘ ░ └╥┘\n",
       "c: 1/════════════════════════════════╩═\n",
       "                                     0 "
      ]
     },
     "metadata": {},
     "output_type": "display_data"
    },
    {
     "name": "stdout",
     "output_type": "stream",
     "text": [
      "\n",
      "\n",
      "or with input 0 1 gives output 0\n",
      "Execution Time: 0.000000 seconds\n"
     ]
    },
    {
     "data": {
      "text/html": [
       "<pre style=\"word-wrap: normal;white-space: pre;background: #fff0;line-height: 1.1;font-family: &quot;Courier New&quot;,Courier,monospace\">                ░                      ░    \n",
       "q_0: ─|0>───────░────────■────■────────░────\n",
       "          ┌───┐ ░      ┌─┴─┐  │        ░    \n",
       "q_1: ─|0>─┤ X ├─░───■──┤ X ├──■────────░────\n",
       "          └───┘ ░ ┌─┴─┐└───┘┌─┴─┐┌───┐ ░ ┌─┐\n",
       "q_2: ───────────░─┤ X ├─────┤ X ├┤ X ├─░─┤M├\n",
       "                ░ └───┘     └───┘└───┘ ░ └╥┘\n",
       "c: 1/═════════════════════════════════════╩═\n",
       "                                          0 </pre>"
      ],
      "text/plain": [
       "                ░                      ░    \n",
       "q_0: ─|0>───────░────────■────■────────░────\n",
       "          ┌───┐ ░      ┌─┴─┐  │        ░    \n",
       "q_1: ─|0>─┤ X ├─░───■──┤ X ├──■────────░────\n",
       "          └───┘ ░ ┌─┴─┐└───┘┌─┴─┐┌───┐ ░ ┌─┐\n",
       "q_2: ───────────░─┤ X ├─────┤ X ├┤ X ├─░─┤M├\n",
       "                ░ └───┘     └───┘└───┘ ░ └╥┘\n",
       "c: 1/═════════════════════════════════════╩═\n",
       "                                          0 "
      ]
     },
     "metadata": {},
     "output_type": "display_data"
    },
    {
     "name": "stdout",
     "output_type": "stream",
     "text": [
      "\n",
      "\n",
      "or with input 1 0 gives output 0\n",
      "Execution Time: 0.000000 seconds\n"
     ]
    },
    {
     "data": {
      "text/html": [
       "<pre style=\"word-wrap: normal;white-space: pre;background: #fff0;line-height: 1.1;font-family: &quot;Courier New&quot;,Courier,monospace\">          ┌───┐ ░                      ░    \n",
       "q_0: ─|0>─┤ X ├─░────────■────■────────░────\n",
       "          └───┘ ░      ┌─┴─┐  │        ░    \n",
       "q_1: ─|0>───────░───■──┤ X ├──■────────░────\n",
       "                ░ ┌─┴─┐└───┘┌─┴─┐┌───┐ ░ ┌─┐\n",
       "q_2: ───────────░─┤ X ├─────┤ X ├┤ X ├─░─┤M├\n",
       "                ░ └───┘     └───┘└───┘ ░ └╥┘\n",
       "c: 1/═════════════════════════════════════╩═\n",
       "                                          0 </pre>"
      ],
      "text/plain": [
       "          ┌───┐ ░                      ░    \n",
       "q_0: ─|0>─┤ X ├─░────────■────■────────░────\n",
       "          └───┘ ░      ┌─┴─┐  │        ░    \n",
       "q_1: ─|0>───────░───■──┤ X ├──■────────░────\n",
       "                ░ ┌─┴─┐└───┘┌─┴─┐┌───┐ ░ ┌─┐\n",
       "q_2: ───────────░─┤ X ├─────┤ X ├┤ X ├─░─┤M├\n",
       "                ░ └───┘     └───┘└───┘ ░ └╥┘\n",
       "c: 1/═════════════════════════════════════╩═\n",
       "                                          0 "
      ]
     },
     "metadata": {},
     "output_type": "display_data"
    },
    {
     "name": "stdout",
     "output_type": "stream",
     "text": [
      "\n",
      "\n",
      "or with input 1 1 gives output 0\n",
      "Execution Time: 0.000361 seconds\n"
     ]
    },
    {
     "data": {
      "text/html": [
       "<pre style=\"word-wrap: normal;white-space: pre;background: #fff0;line-height: 1.1;font-family: &quot;Courier New&quot;,Courier,monospace\">          ┌───┐ ░                      ░    \n",
       "q_0: ─|0>─┤ X ├─░────────■────■────────░────\n",
       "          ├───┤ ░      ┌─┴─┐  │        ░    \n",
       "q_1: ─|0>─┤ X ├─░───■──┤ X ├──■────────░────\n",
       "          └───┘ ░ ┌─┴─┐└───┘┌─┴─┐┌───┐ ░ ┌─┐\n",
       "q_2: ───────────░─┤ X ├─────┤ X ├┤ X ├─░─┤M├\n",
       "                ░ └───┘     └───┘└───┘ ░ └╥┘\n",
       "c: 1/═════════════════════════════════════╩═\n",
       "                                          0 </pre>"
      ],
      "text/plain": [
       "          ┌───┐ ░                      ░    \n",
       "q_0: ─|0>─┤ X ├─░────────■────■────────░────\n",
       "          ├───┤ ░      ┌─┴─┐  │        ░    \n",
       "q_1: ─|0>─┤ X ├─░───■──┤ X ├──■────────░────\n",
       "          └───┘ ░ ┌─┴─┐└───┘┌─┴─┐┌───┐ ░ ┌─┐\n",
       "q_2: ───────────░─┤ X ├─────┤ X ├┤ X ├─░─┤M├\n",
       "                ░ └───┘     └───┘└───┘ ░ └╥┘\n",
       "c: 1/═════════════════════════════════════╩═\n",
       "                                          0 "
      ]
     },
     "metadata": {},
     "output_type": "display_data"
    },
    {
     "name": "stdout",
     "output_type": "stream",
     "text": [
      "\n",
      "\n"
     ]
    }
   ],
   "source": [
    "def OR(inp1,inp2):\n",
    "    qc=QuantumCircuit(3,1)\n",
    "    qc.reset(range(2))\n",
    "    if inp1=='1':\n",
    "        qc.x(0)\n",
    "    if inp2=='1':\n",
    "        qc.x(1)\n",
    "    qc.barrier()\n",
    "    qc.cx(1,2)\n",
    "    qc.cx(0,1)\n",
    "    qc.ccx(0,1,2)\n",
    "    qc.x(2)\n",
    "    qc.barrier()\n",
    "    qc.measure(2,0)\n",
    "    start=t.time()\n",
    "    backend = Aer.get_backend('aer_simulator')\n",
    "    job = backend.run(qc, shots=1, memory=True)\n",
    "    output=job.result().get_memory()[0]\n",
    "    end=t.time()\n",
    "    exe=end-start\n",
    "    return qc,output,exe\n",
    "for inp1 in ['0','1']:\n",
    "    for inp2 in ['0','1']:\n",
    "        qc,output,exe=OR(inp1,inp2)\n",
    "        print(\"or with input\",inp1,inp2,\"gives output\",output)\n",
    "        print(f\"Execution Time: {exe:.6f} seconds\")\n",
    "        display(qc.draw())\n",
    "        print('\\n')"
   ]
  },
  {
   "cell_type": "code",
   "execution_count": 3,
   "metadata": {},
   "outputs": [
    {
     "name": "stdout",
     "output_type": "stream",
     "text": [
      "xor with input 0 0 gives output 1\n",
      "Execution Time: 0.011009 seconds\n"
     ]
    },
    {
     "data": {
      "text/html": [
       "<pre style=\"word-wrap: normal;white-space: pre;background: #fff0;line-height: 1.1;font-family: &quot;Courier New&quot;,Courier,monospace\">           ░                 ░    \n",
       "q_0: ─|0>──░───■─────────────░────\n",
       "           ░   │             ░    \n",
       "q_1: ─|0>──░───┼────■────────░────\n",
       "           ░ ┌─┴─┐┌─┴─┐┌───┐ ░ ┌─┐\n",
       "q_2: ──────░─┤ X ├┤ X ├┤ X ├─░─┤M├\n",
       "           ░ └───┘└───┘└───┘ ░ └╥┘\n",
       "c: 1/═══════════════════════════╩═\n",
       "                                0 </pre>"
      ],
      "text/plain": [
       "           ░                 ░    \n",
       "q_0: ─|0>──░───■─────────────░────\n",
       "           ░   │             ░    \n",
       "q_1: ─|0>──░───┼────■────────░────\n",
       "           ░ ┌─┴─┐┌─┴─┐┌───┐ ░ ┌─┐\n",
       "q_2: ──────░─┤ X ├┤ X ├┤ X ├─░─┤M├\n",
       "           ░ └───┘└───┘└───┘ ░ └╥┘\n",
       "c: 1/═══════════════════════════╩═\n",
       "                                0 "
      ]
     },
     "metadata": {},
     "output_type": "display_data"
    },
    {
     "name": "stdout",
     "output_type": "stream",
     "text": [
      "\n",
      "\n",
      "xor with input 0 1 gives output 0\n",
      "Execution Time: 0.001648 seconds\n"
     ]
    },
    {
     "data": {
      "text/html": [
       "<pre style=\"word-wrap: normal;white-space: pre;background: #fff0;line-height: 1.1;font-family: &quot;Courier New&quot;,Courier,monospace\">          ┌───┐ ░                 ░    \n",
       "q_0: ─|0>─┤ X ├─░───■─────────────░────\n",
       "          └───┘ ░   │             ░    \n",
       "q_1: ─|0>───────░───┼────■────────░────\n",
       "                ░ ┌─┴─┐┌─┴─┐┌───┐ ░ ┌─┐\n",
       "q_2: ───────────░─┤ X ├┤ X ├┤ X ├─░─┤M├\n",
       "                ░ └───┘└───┘└───┘ ░ └╥┘\n",
       "c: 1/════════════════════════════════╩═\n",
       "                                     0 </pre>"
      ],
      "text/plain": [
       "          ┌───┐ ░                 ░    \n",
       "q_0: ─|0>─┤ X ├─░───■─────────────░────\n",
       "          └───┘ ░   │             ░    \n",
       "q_1: ─|0>───────░───┼────■────────░────\n",
       "                ░ ┌─┴─┐┌─┴─┐┌───┐ ░ ┌─┐\n",
       "q_2: ───────────░─┤ X ├┤ X ├┤ X ├─░─┤M├\n",
       "                ░ └───┘└───┘└───┘ ░ └╥┘\n",
       "c: 1/════════════════════════════════╩═\n",
       "                                     0 "
      ]
     },
     "metadata": {},
     "output_type": "display_data"
    },
    {
     "name": "stdout",
     "output_type": "stream",
     "text": [
      "\n",
      "\n",
      "xor with input 1 0 gives output 0\n",
      "Execution Time: 0.001507 seconds\n"
     ]
    },
    {
     "data": {
      "text/html": [
       "<pre style=\"word-wrap: normal;white-space: pre;background: #fff0;line-height: 1.1;font-family: &quot;Courier New&quot;,Courier,monospace\">          ┌───┐ ░                 ░    \n",
       "q_0: ─|0>─┤ X ├─░───■─────────────░────\n",
       "          └───┘ ░   │             ░    \n",
       "q_1: ─|0>───────░───┼────■────────░────\n",
       "                ░ ┌─┴─┐┌─┴─┐┌───┐ ░ ┌─┐\n",
       "q_2: ───────────░─┤ X ├┤ X ├┤ X ├─░─┤M├\n",
       "                ░ └───┘└───┘└───┘ ░ └╥┘\n",
       "c: 1/════════════════════════════════╩═\n",
       "                                     0 </pre>"
      ],
      "text/plain": [
       "          ┌───┐ ░                 ░    \n",
       "q_0: ─|0>─┤ X ├─░───■─────────────░────\n",
       "          └───┘ ░   │             ░    \n",
       "q_1: ─|0>───────░───┼────■────────░────\n",
       "                ░ ┌─┴─┐┌─┴─┐┌───┐ ░ ┌─┐\n",
       "q_2: ───────────░─┤ X ├┤ X ├┤ X ├─░─┤M├\n",
       "                ░ └───┘└───┘└───┘ ░ └╥┘\n",
       "c: 1/════════════════════════════════╩═\n",
       "                                     0 "
      ]
     },
     "metadata": {},
     "output_type": "display_data"
    },
    {
     "name": "stdout",
     "output_type": "stream",
     "text": [
      "\n",
      "\n",
      "xor with input 1 1 gives output 1\n",
      "Execution Time: 0.001491 seconds\n"
     ]
    },
    {
     "data": {
      "text/html": [
       "<pre style=\"word-wrap: normal;white-space: pre;background: #fff0;line-height: 1.1;font-family: &quot;Courier New&quot;,Courier,monospace\">          ┌───┐┌───┐ ░                 ░    \n",
       "q_0: ─|0>─┤ X ├┤ X ├─░───■─────────────░────\n",
       "          └───┘└───┘ ░   │             ░    \n",
       "q_1: ─|0>────────────░───┼────■────────░────\n",
       "                     ░ ┌─┴─┐┌─┴─┐┌───┐ ░ ┌─┐\n",
       "q_2: ────────────────░─┤ X ├┤ X ├┤ X ├─░─┤M├\n",
       "                     ░ └───┘└───┘└───┘ ░ └╥┘\n",
       "c: 1/═════════════════════════════════════╩═\n",
       "                                          0 </pre>"
      ],
      "text/plain": [
       "          ┌───┐┌───┐ ░                 ░    \n",
       "q_0: ─|0>─┤ X ├┤ X ├─░───■─────────────░────\n",
       "          └───┘└───┘ ░   │             ░    \n",
       "q_1: ─|0>────────────░───┼────■────────░────\n",
       "                     ░ ┌─┴─┐┌─┴─┐┌───┐ ░ ┌─┐\n",
       "q_2: ────────────────░─┤ X ├┤ X ├┤ X ├─░─┤M├\n",
       "                     ░ └───┘└───┘└───┘ ░ └╥┘\n",
       "c: 1/═════════════════════════════════════╩═\n",
       "                                          0 "
      ]
     },
     "metadata": {},
     "output_type": "display_data"
    },
    {
     "name": "stdout",
     "output_type": "stream",
     "text": [
      "\n",
      "\n"
     ]
    }
   ],
   "source": [
    "def XOR(inp1,inp2):\n",
    "    qc=QuantumCircuit(3,1)\n",
    "    qc.reset(range(2))\n",
    "    if inp1=='1':\n",
    "        qc.x(0)\n",
    "    if inp2=='1':\n",
    "        qc.x(0)\n",
    "    qc.barrier()\n",
    "    qc.cx(0,2)\n",
    "    qc.cx(1,2)\n",
    "    qc.x(2)\n",
    "    qc.barrier()\n",
    "    qc.measure(2,0)\n",
    "    start=t.time()\n",
    "    backend = Aer.get_backend('aer_simulator')\n",
    "    job = backend.run(qc, shots=1, memory=True)\n",
    "    output=job.result().get_memory()[0]\n",
    "    end=t.time()\n",
    "    exe=end-start\n",
    "    return qc,output,exe\n",
    "for inp1 in ['0','1']:\n",
    "    for inp2 in ['0','1']:\n",
    "        qc,output,exe=XOR(inp1,inp2)\n",
    "        print(\"xor with input\",inp1,inp2,\"gives output\",output)\n",
    "        print(f\"Execution Time: {exe:.6f} seconds\")\n",
    "        display(qc.draw())\n",
    "        print('\\n')\n"
   ]
  }
 ],
 "metadata": {
  "kernelspec": {
   "display_name": "Python 3",
   "language": "python",
   "name": "python3"
  },
  "language_info": {
   "codemirror_mode": {
    "name": "ipython",
    "version": 3
   },
   "file_extension": ".py",
   "mimetype": "text/x-python",
   "name": "python",
   "nbconvert_exporter": "python",
   "pygments_lexer": "ipython3",
   "version": "3.12.7"
  }
 },
 "nbformat": 4,
 "nbformat_minor": 2
}
